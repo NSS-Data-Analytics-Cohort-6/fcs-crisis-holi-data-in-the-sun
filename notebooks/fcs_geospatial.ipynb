{
 "cells": [
  {
   "cell_type": "code",
   "execution_count": null,
   "id": "9f51d781",
   "metadata": {},
   "outputs": [],
   "source": [
    "import pandas as pd\n",
    "import numpy as np\n",
    "import matplotlib.pyplot as plt\n",
    "import sqlite3 as sql\n",
    "import folium\n",
    "import json\n",
    "import geopandas as gpd\n",
    "!pip install openpyxl\n",
    "plt.rcParams['font.size'] = 18.0\n",
    "\n",
    "%matplotlib inline\n",
    "\n",
    "pd.set_option('display.max_columns', 500)"
   ]
  },
  {
   "cell_type": "code",
   "execution_count": null,
   "id": "9793cd5d",
   "metadata": {},
   "outputs": [],
   "source": [
    "#read in crisis 1\n",
    "crisis1 = pd.ExcelFile('../data/NSSCrisisv.1.xlsx')\n",
    "crisis1 = crisis1.parse('in')"
   ]
  },
  {
   "cell_type": "code",
   "execution_count": null,
   "id": "559315f0",
   "metadata": {
    "scrolled": true
   },
   "outputs": [],
   "source": [
    "#clean up crisis 1\n",
    "crisis1 = crisis1.dropna(axis=1, how ='all')\n",
    "crisis1 = crisis1.dropna(axis=0, how='all')\n",
    "crisis1 = crisis1.apply(lambda x: x.str.strip() if x.dtype == \"str\" else x)\n",
    "header_row = 1\n",
    "crisis1.columns = crisis1.iloc[header_row]\n",
    "crisis1 = crisis1.drop(header_row)\n",
    "crisis1 = crisis1.reset_index(drop=True)\n",
    "crisis1.head()"
   ]
  },
  {
   "cell_type": "code",
   "execution_count": null,
   "id": "d97a269c",
   "metadata": {},
   "outputs": [],
   "source": [
    "#read in crisis 2\n",
    "crisis2 = pd.ExcelFile('../data/NSSCrisisv.2.xlsx')\n",
    "crisis2 = crisis2.parse('in')"
   ]
  },
  {
   "cell_type": "code",
   "execution_count": null,
   "id": "ed86d61a",
   "metadata": {
    "scrolled": true
   },
   "outputs": [],
   "source": [
    "#clean up crisis 2\n",
    "crisis2 = crisis2.dropna(axis=1, how ='all')\n",
    "crisis2 = crisis2.dropna(axis=0, how='all')\n",
    "crisis2 = crisis2.apply(lambda x: x.str.strip() if x.dtype == \"str\" else x)\n",
    "crisis2.columns = crisis2.iloc[header_row]\n",
    "crisis2 = crisis2.drop(header_row)\n",
    "crisis2 = crisis2.reset_index(drop=True)\n",
    "crisis2.head()"
   ]
  },
  {
   "cell_type": "code",
   "execution_count": null,
   "id": "82786da1",
   "metadata": {},
   "outputs": [],
   "source": [
    "#combine crisis1 and crisis2\n",
    "crisis = pd.concat([crisis2, crisis1])\n",
    "crisis = crisis.reset_index(drop=True)"
   ]
  },
  {
   "cell_type": "code",
   "execution_count": null,
   "id": "1c7ae497",
   "metadata": {},
   "outputs": [],
   "source": []
  }
 ],
 "metadata": {
  "kernelspec": {
   "display_name": "Python 3 (ipykernel)",
   "language": "python",
   "name": "python3"
  },
  "language_info": {
   "codemirror_mode": {
    "name": "ipython",
    "version": 3
   },
   "file_extension": ".py",
   "mimetype": "text/x-python",
   "name": "python",
   "nbconvert_exporter": "python",
   "pygments_lexer": "ipython3",
   "version": "3.8.5"
  }
 },
 "nbformat": 4,
 "nbformat_minor": 5
}
