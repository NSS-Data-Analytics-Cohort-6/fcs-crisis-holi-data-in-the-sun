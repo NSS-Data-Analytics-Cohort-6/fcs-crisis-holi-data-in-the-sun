{
 "cells": [
  {
   "cell_type": "code",
   "execution_count": null,
   "id": "4e8dd51c",
   "metadata": {},
   "outputs": [],
   "source": [
    "import pandas as pd\n",
    "import datetime\n",
    "import numpy as np"
   ]
  },
  {
   "cell_type": "markdown",
   "id": "6230cef6",
   "metadata": {},
   "source": [
    "### reading in crisis1"
   ]
  },
  {
   "cell_type": "code",
   "execution_count": null,
   "id": "8491c3c2",
   "metadata": {},
   "outputs": [],
   "source": [
    "#https://stackoverflow.com/questions/26521266/using-pandas-to-pd-read-excel-for-multiple-worksheets-of-the-same-workbook\n",
    "crisis1 = pd.ExcelFile('../data/NSSCrisisv.1.xlsx')"
   ]
  },
  {
   "cell_type": "code",
   "execution_count": null,
   "id": "a49b95d1",
   "metadata": {},
   "outputs": [],
   "source": [
    "crisis1.sheet_names"
   ]
  },
  {
   "cell_type": "code",
   "execution_count": null,
   "id": "ffc80b2c",
   "metadata": {},
   "outputs": [],
   "source": [
    "crisis1 = crisis1.parse('in')"
   ]
  },
  {
   "cell_type": "code",
   "execution_count": null,
   "id": "876f37f1",
   "metadata": {},
   "outputs": [],
   "source": [
    "crisis1.head(20)"
   ]
  },
  {
   "cell_type": "code",
   "execution_count": null,
   "id": "8a4ff746",
   "metadata": {},
   "outputs": [],
   "source": [
    "crisis1.info()"
   ]
  },
  {
   "cell_type": "markdown",
   "id": "36669ab5",
   "metadata": {},
   "source": [
    "### cleaning up crisis1"
   ]
  },
  {
   "cell_type": "code",
   "execution_count": null,
   "id": "fba7d889",
   "metadata": {},
   "outputs": [],
   "source": [
    "#drop columns with ALL NaN values\n",
    "#https://datatofish.com/drop-columns-with-nan/\n",
    "crisis1 = crisis1.dropna(axis=1, how ='all')\n",
    "crisis1 = crisis1.dropna(axis=0, how='all')\n",
    "crisis1.head()"
   ]
  },
  {
   "cell_type": "code",
   "execution_count": null,
   "id": "2942cc5f",
   "metadata": {},
   "outputs": [],
   "source": [
    "#replace column names with row1 values\n",
    "#https://www.adamsmith.haus/python/answers/how-to-convert-a-pandas-dataframe-row-to-column-headers-in-python\n",
    "header_row = 1\n",
    "crisis1.columns = crisis1.iloc[header_row]\n",
    "crisis1.head()"
   ]
  },
  {
   "cell_type": "code",
   "execution_count": null,
   "id": "daf7751e",
   "metadata": {},
   "outputs": [],
   "source": [
    "crisis1 = crisis1.drop(header_row)\n",
    "crisis1 = crisis1.reset_index(drop=True)\n",
    "crisis1.head()"
   ]
  },
  {
   "cell_type": "code",
   "execution_count": null,
   "id": "f2559495",
   "metadata": {},
   "outputs": [],
   "source": [
    "crisis1.tail()"
   ]
  },
  {
   "cell_type": "markdown",
   "id": "03e8963c",
   "metadata": {},
   "source": [
    "### reading in crisis2"
   ]
  },
  {
   "cell_type": "code",
   "execution_count": null,
   "id": "7753cf76",
   "metadata": {},
   "outputs": [],
   "source": [
    "crisis2 = pd.ExcelFile('../data/NSSCrisisv.2.xlsx')"
   ]
  },
  {
   "cell_type": "code",
   "execution_count": null,
   "id": "c432ae75",
   "metadata": {},
   "outputs": [],
   "source": [
    "crisis2.sheet_names"
   ]
  },
  {
   "cell_type": "code",
   "execution_count": null,
   "id": "fec821b4",
   "metadata": {},
   "outputs": [],
   "source": [
    "crisis2 = crisis2.parse('in')"
   ]
  },
  {
   "cell_type": "code",
   "execution_count": null,
   "id": "4d39dd4f",
   "metadata": {
    "scrolled": true
   },
   "outputs": [],
   "source": [
    "crisis2.head(20)"
   ]
  },
  {
   "cell_type": "code",
   "execution_count": null,
   "id": "883e717f",
   "metadata": {},
   "outputs": [],
   "source": [
    "crisis2.tail()"
   ]
  },
  {
   "cell_type": "code",
   "execution_count": null,
   "id": "5a355c6c",
   "metadata": {},
   "outputs": [],
   "source": [
    "crisis2.info()"
   ]
  },
  {
   "cell_type": "markdown",
   "id": "d2cad657",
   "metadata": {},
   "source": [
    "### cleaning up crisis2"
   ]
  },
  {
   "cell_type": "code",
   "execution_count": null,
   "id": "735a7878",
   "metadata": {},
   "outputs": [],
   "source": [
    "#drop columns with ALL NaN values\n",
    "#https://datatofish.com/drop-columns-with-nan/\n",
    "crisis2 = crisis2.dropna(axis=1, how ='all')\n",
    "crisis2 = crisis2.dropna(axis=0, how='all')\n",
    "crisis2.head()"
   ]
  },
  {
   "cell_type": "code",
   "execution_count": null,
   "id": "707fcfb2",
   "metadata": {},
   "outputs": [],
   "source": [
    "#replace column names with row1 values\n",
    "#https://www.adamsmith.haus/python/answers/how-to-convert-a-pandas-dataframe-row-to-column-headers-in-python\n",
    "crisis2.columns = crisis2.iloc[header_row]\n",
    "crisis2 = crisis2.drop(header_row)\n",
    "crisis2 = crisis2.reset_index(drop=True)\n",
    "crisis2.head()"
   ]
  },
  {
   "cell_type": "markdown",
   "id": "e7c9ce7c",
   "metadata": {},
   "source": [
    "### reading in call_volume"
   ]
  },
  {
   "cell_type": "code",
   "execution_count": null,
   "id": "92afeece",
   "metadata": {},
   "outputs": [],
   "source": [
    "#https://stackoverflow.com/questions/26521266/using-pandas-to-pd-read-excel-for-multiple-worksheets-of-the-same-workbook\n",
    "call_volume = pd.ExcelFile('../data/Contact_center_call_volume_2020-2022.xlsx')\n",
    "call_volume.sheet_names"
   ]
  },
  {
   "cell_type": "code",
   "execution_count": null,
   "id": "626b4943",
   "metadata": {},
   "outputs": [],
   "source": [
    "call_volume2020 = call_volume.parse('2020')"
   ]
  },
  {
   "cell_type": "code",
   "execution_count": null,
   "id": "0dc23cc2",
   "metadata": {},
   "outputs": [],
   "source": [
    "call_volume2021 = call_volume.parse('2021')"
   ]
  },
  {
   "cell_type": "code",
   "execution_count": null,
   "id": "e2226f86",
   "metadata": {},
   "outputs": [],
   "source": [
    "call_volume2022 = call_volume.parse('2022')"
   ]
  },
  {
   "cell_type": "code",
   "execution_count": null,
   "id": "aa0cbd4e",
   "metadata": {},
   "outputs": [],
   "source": [
    "call_volume2020.head()"
   ]
  },
  {
   "cell_type": "code",
   "execution_count": null,
   "id": "cbd7ca35",
   "metadata": {},
   "outputs": [],
   "source": [
    "call_volume2021.head(20)"
   ]
  },
  {
   "cell_type": "markdown",
   "id": "c0a54c7b",
   "metadata": {},
   "source": [
    "### combining crisis1 and crisis2"
   ]
  },
  {
   "cell_type": "code",
   "execution_count": null,
   "id": "30dde22b",
   "metadata": {},
   "outputs": [],
   "source": [
    "crisis = pd.concat([crisis2, crisis1])"
   ]
  },
  {
   "cell_type": "code",
   "execution_count": null,
   "id": "1e82e9eb",
   "metadata": {},
   "outputs": [],
   "source": [
    "crisis.info()"
   ]
  },
  {
   "cell_type": "code",
   "execution_count": null,
   "id": "53142293",
   "metadata": {},
   "outputs": [],
   "source": [
    "crisis = crisis.reset_index(drop=True)\n",
    "crisis.head(20)"
   ]
  },
  {
   "cell_type": "code",
   "execution_count": null,
   "id": "49cb917f",
   "metadata": {},
   "outputs": [],
   "source": [
    "crisis.tail(20)"
   ]
  },
  {
   "cell_type": "code",
   "execution_count": null,
   "id": "8597ea7c",
   "metadata": {},
   "outputs": [],
   "source": [
    "crisis.shape"
   ]
  },
  {
   "cell_type": "code",
   "execution_count": null,
   "id": "56534638",
   "metadata": {},
   "outputs": [],
   "source": [
    "crisis['CallDateAndTimeStart'].dtype"
   ]
  },
  {
   "cell_type": "code",
   "execution_count": null,
   "id": "956166be",
   "metadata": {},
   "outputs": [],
   "source": [
    "crisis['CallDateAndTimeStart'].value_counts()"
   ]
  },
  {
   "cell_type": "code",
   "execution_count": null,
   "id": "6be1519b",
   "metadata": {},
   "outputs": [],
   "source": [
    "#crisis['call_date'] = crisis.CallDateAndTimeStart.str[0:10]"
   ]
  },
  {
   "cell_type": "code",
   "execution_count": null,
   "id": "4c1d6144",
   "metadata": {},
   "outputs": [],
   "source": []
  },
  {
   "cell_type": "code",
   "execution_count": null,
   "id": "c2bf7bc4",
   "metadata": {},
   "outputs": [],
   "source": [
    "#crisis.call_date.value_counts()"
   ]
  },
  {
   "cell_type": "code",
   "execution_count": null,
   "id": "b1e1ea46",
   "metadata": {},
   "outputs": [],
   "source": [
    "crisis.head()"
   ]
  },
  {
   "cell_type": "code",
   "execution_count": null,
   "id": "9697f6a4",
   "metadata": {},
   "outputs": [],
   "source": []
  },
  {
   "cell_type": "code",
   "execution_count": null,
   "id": "268c4bf8",
   "metadata": {},
   "outputs": [],
   "source": []
  },
  {
   "cell_type": "code",
   "execution_count": null,
   "id": "07074574",
   "metadata": {},
   "outputs": [],
   "source": []
  },
  {
   "cell_type": "code",
   "execution_count": null,
   "id": "0396456a",
   "metadata": {},
   "outputs": [],
   "source": []
  },
  {
   "cell_type": "code",
   "execution_count": null,
   "id": "414ce901",
   "metadata": {},
   "outputs": [],
   "source": []
  }
 ],
 "metadata": {
  "kernelspec": {
   "display_name": "Python 3 (ipykernel)",
   "language": "python",
   "name": "python3"
  },
  "language_info": {
   "codemirror_mode": {
    "name": "ipython",
    "version": 3
   },
   "file_extension": ".py",
   "mimetype": "text/x-python",
   "name": "python",
   "nbconvert_exporter": "python",
   "pygments_lexer": "ipython3",
   "version": "3.9.7"
  }
 },
 "nbformat": 4,
 "nbformat_minor": 5
}
