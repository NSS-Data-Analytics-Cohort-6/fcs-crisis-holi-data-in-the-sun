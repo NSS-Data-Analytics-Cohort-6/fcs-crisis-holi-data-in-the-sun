{
 "cells": [
  {
   "cell_type": "code",
   "execution_count": null,
   "id": "4e8dd51c",
   "metadata": {},
   "outputs": [],
   "source": [
    "import pandas as pd\n",
    "import datetime\n",
    "import numpy as np\n",
    "import matplotlib.pyplot as plt"
   ]
  },
  {
   "cell_type": "markdown",
   "id": "6230cef6",
   "metadata": {},
   "source": [
    "### reading in crisis1"
   ]
  },
  {
   "cell_type": "code",
   "execution_count": null,
   "id": "8491c3c2",
   "metadata": {},
   "outputs": [],
   "source": [
    "#https://stackoverflow.com/questions/26521266/using-pandas-to-pd-read-excel-for-multiple-worksheets-of-the-same-workbook\n",
    "crisis1 = pd.ExcelFile('../data/NSSCrisisv.1.xlsx')"
   ]
  },
  {
   "cell_type": "code",
   "execution_count": null,
   "id": "a49b95d1",
   "metadata": {},
   "outputs": [],
   "source": [
    "crisis1.sheet_names"
   ]
  },
  {
   "cell_type": "code",
   "execution_count": null,
   "id": "ffc80b2c",
   "metadata": {},
   "outputs": [],
   "source": [
    "crisis1 = crisis1.parse('in')"
   ]
  },
  {
   "cell_type": "code",
   "execution_count": null,
   "id": "876f37f1",
   "metadata": {},
   "outputs": [],
   "source": [
    "crisis1.head(20)"
   ]
  },
  {
   "cell_type": "code",
   "execution_count": null,
   "id": "8a4ff746",
   "metadata": {},
   "outputs": [],
   "source": [
    "crisis1.info()"
   ]
  },
  {
   "cell_type": "markdown",
   "id": "36669ab5",
   "metadata": {},
   "source": [
    "### cleaning up crisis1"
   ]
  },
  {
   "cell_type": "markdown",
   "id": "e0fb7560",
   "metadata": {},
   "source": [
    "#drop columns with ALL NaN values\n",
    "#https://datatofish.com/drop-columns-with-nan/\n",
    "crisis1 = crisis1.dropna(axis=1, how ='all')\n",
    "crisis1 = crisis1.dropna(axis=0, how='all')\n",
    "crisis1.head()"
   ]
  },
  {
   "cell_type": "code",
   "execution_count": null,
   "id": "b7d99e67",
   "metadata": {},
   "outputs": [],
   "source": [
    "#trim all whitespace\n",
    "#https://stackoverflow.com/questions/33788913/pythonic-efficient-way-to-strip-whitespace-from-every-pandas-data-frame-cell-tha\n",
    "crisis1 = crisis1.apply(lambda x: x.str.strip() if x.dtype == \"str\" else x)"
   ]
  },
  {
   "cell_type": "code",
   "execution_count": null,
   "id": "2942cc5f",
   "metadata": {},
   "outputs": [],
   "source": [
    "#replace column names with row1 values\n",
    "#https://www.adamsmith.haus/python/answers/how-to-convert-a-pandas-dataframe-row-to-column-headers-in-python\n",
    "header_row = 1\n",
    "crisis1.columns = crisis1.iloc[header_row]\n",
    "crisis1.head()"
   ]
  },
  {
   "cell_type": "code",
   "execution_count": null,
   "id": "daf7751e",
   "metadata": {},
   "outputs": [],
   "source": [
    "crisis1 = crisis1.drop(header_row)\n",
    "crisis1 = crisis1.reset_index(drop=True)\n",
    "crisis1.head()"
   ]
  },
  {
   "cell_type": "code",
   "execution_count": null,
   "id": "f2559495",
   "metadata": {},
   "outputs": [],
   "source": [
    "crisis1.tail()"
   ]
  },
  {
   "cell_type": "markdown",
   "id": "03e8963c",
   "metadata": {},
   "source": [
    "### reading in crisis2"
   ]
  },
  {
   "cell_type": "code",
   "execution_count": null,
   "id": "7753cf76",
   "metadata": {},
   "outputs": [],
   "source": [
    "crisis2 = pd.ExcelFile('../data/NSSCrisisv.2.xlsx')"
   ]
  },
  {
   "cell_type": "code",
   "execution_count": null,
   "id": "c432ae75",
   "metadata": {},
   "outputs": [],
   "source": [
    "crisis2.sheet_names"
   ]
  },
  {
   "cell_type": "code",
   "execution_count": null,
   "id": "fec821b4",
   "metadata": {},
   "outputs": [],
   "source": [
    "crisis2 = crisis2.parse('in')"
   ]
  },
  {
   "cell_type": "code",
   "execution_count": null,
   "id": "4d39dd4f",
   "metadata": {
    "scrolled": true
   },
   "outputs": [],
   "source": [
    "crisis2.head(20)"
   ]
  },
  {
   "cell_type": "code",
   "execution_count": null,
   "id": "883e717f",
   "metadata": {},
   "outputs": [],
   "source": [
    "crisis2.tail()"
   ]
  },
  {
   "cell_type": "code",
   "execution_count": null,
   "id": "5a355c6c",
   "metadata": {},
   "outputs": [],
   "source": [
    "crisis2.info()"
   ]
  },
  {
   "cell_type": "markdown",
   "id": "d2cad657",
   "metadata": {},
   "source": [
    "### cleaning up crisis2"
   ]
  },
  {
   "cell_type": "code",
   "execution_count": null,
   "id": "735a7878",
   "metadata": {},
   "outputs": [],
   "source": [
    "#drop columns with ALL NaN values\n",
    "#https://datatofish.com/drop-columns-with-nan/\n",
    "crisis2 = crisis2.dropna(axis=1, how ='all')\n",
    "crisis2 = crisis2.dropna(axis=0, how='all')\n",
    "crisis2.head()"
   ]
  },
  {
   "cell_type": "code",
   "execution_count": null,
   "id": "a6335dae",
   "metadata": {},
   "outputs": [],
   "source": [
    "#trim all whitespace\n",
    "#https://stackoverflow.com/questions/33788913/pythonic-efficient-way-to-strip-whitespace-from-every-pandas-data-frame-cell-tha\n",
    "crisis2 = crisis2.apply(lambda x: x.str.strip() if x.dtype == \"str\" else x)"
   ]
  },
  {
   "cell_type": "code",
   "execution_count": null,
   "id": "707fcfb2",
   "metadata": {},
   "outputs": [],
   "source": [
    "#replace column names with row1 values\n",
    "#https://www.adamsmith.haus/python/answers/how-to-convert-a-pandas-dataframe-row-to-column-headers-in-python\n",
    "crisis2.columns = crisis2.iloc[header_row]\n",
    "crisis2 = crisis2.drop(header_row)\n",
    "crisis2 = crisis2.reset_index(drop=True)\n",
    "crisis2.head()"
   ]
  },
  {
   "cell_type": "markdown",
   "id": "e7c9ce7c",
   "metadata": {},
   "source": [
    "### reading in call_volume"
   ]
  },
  {
   "cell_type": "code",
   "execution_count": null,
   "id": "92afeece",
   "metadata": {},
   "outputs": [],
   "source": [
    "#https://stackoverflow.com/questions/26521266/using-pandas-to-pd-read-excel-for-multiple-worksheets-of-the-same-workbook\n",
    "call_volume = pd.ExcelFile('../data/Contact_center_call_volume_2020-2022.xlsx')\n",
    "call_volume.sheet_names"
   ]
  },
  {
   "cell_type": "code",
   "execution_count": null,
   "id": "626b4943",
   "metadata": {},
   "outputs": [],
   "source": [
    "call_volume2020 = call_volume.parse('2020')"
   ]
  },
  {
   "cell_type": "code",
   "execution_count": null,
   "id": "0dc23cc2",
   "metadata": {},
   "outputs": [],
   "source": [
    "call_volume2021 = call_volume.parse('2021')"
   ]
  },
  {
   "cell_type": "code",
   "execution_count": null,
   "id": "e2226f86",
   "metadata": {},
   "outputs": [],
   "source": [
    "call_volume2022 = call_volume.parse('2022')"
   ]
  },
  {
   "cell_type": "code",
   "execution_count": null,
   "id": "aa0cbd4e",
   "metadata": {},
   "outputs": [],
   "source": [
    "call_volume2020.head()"
   ]
  },
  {
   "cell_type": "code",
   "execution_count": null,
   "id": "cbd7ca35",
   "metadata": {},
   "outputs": [],
   "source": [
    "call_volume2021.head(20)"
   ]
  },
  {
   "cell_type": "markdown",
   "id": "c0a54c7b",
   "metadata": {},
   "source": [
    "### combining crisis1 and crisis2"
   ]
  },
  {
   "cell_type": "code",
   "execution_count": null,
   "id": "30dde22b",
   "metadata": {},
   "outputs": [],
   "source": [
    "crisis = pd.concat([crisis2, crisis1])"
   ]
  },
  {
   "cell_type": "code",
   "execution_count": null,
   "id": "1e82e9eb",
   "metadata": {},
   "outputs": [],
   "source": [
    "crisis.info()"
   ]
  },
  {
   "cell_type": "code",
   "execution_count": null,
   "id": "53142293",
   "metadata": {},
   "outputs": [],
   "source": [
    "crisis = crisis.reset_index(drop=True)\n",
    "crisis.head(20)"
   ]
  },
  {
   "cell_type": "code",
   "execution_count": null,
   "id": "49cb917f",
   "metadata": {},
   "outputs": [],
   "source": [
    "crisis.tail(20)"
   ]
  },
  {
   "cell_type": "code",
   "execution_count": null,
   "id": "8597ea7c",
   "metadata": {},
   "outputs": [],
   "source": [
    "crisis.shape"
   ]
  },
  {
   "cell_type": "markdown",
   "id": "11fa016d",
   "metadata": {},
   "source": [
    "## 1. Examine call volume and identify surge times, seasons, or events."
   ]
  },
  {
   "cell_type": "markdown",
   "id": "d19fb24f",
   "metadata": {},
   "source": [
    "### Ideas: 2021 vs 2022, avg call volume per month, avg call volume per day of the. month"
   ]
  },
  {
   "cell_type": "code",
   "execution_count": null,
   "id": "56534638",
   "metadata": {},
   "outputs": [],
   "source": [
    "crisis['CallDateAndTimeStart'].dtype"
   ]
  },
  {
   "cell_type": "code",
   "execution_count": null,
   "id": "bf91b161",
   "metadata": {},
   "outputs": [],
   "source": [
    "print(type(crisis['CallDateAndTimeStart']))"
   ]
  },
  {
   "cell_type": "code",
   "execution_count": null,
   "id": "956166be",
   "metadata": {},
   "outputs": [],
   "source": [
    "#this really won't work since the time is included - let's get a column w/ just the date\n",
    "crisis['CallDateAndTimeStart'].value_counts()"
   ]
  },
  {
   "cell_type": "code",
   "execution_count": null,
   "id": "4c1d6144",
   "metadata": {},
   "outputs": [],
   "source": [
    "#this gave a weird result: crisis['CallDateAndTimeStart'] = str(crisis['CallDateAndTimeStart'])\n",
    "#maybe due to python versions? solution pieced together from here: https://stackoverflow.com/questions/22231592/pandas-change-data-type-of-series-to-string\n",
    "crisis['CallDateAndTimeStart'] = crisis['CallDateAndTimeStart'].astype('str')"
   ]
  },
  {
   "cell_type": "code",
   "execution_count": null,
   "id": "6be1519b",
   "metadata": {},
   "outputs": [],
   "source": [
    "crisis['call_date'] = crisis.CallDateAndTimeStart.str[0:10]"
   ]
  },
  {
   "cell_type": "code",
   "execution_count": null,
   "id": "5a7195cc",
   "metadata": {},
   "outputs": [],
   "source": [
    "crisis.head(30)"
   ]
  },
  {
   "cell_type": "code",
   "execution_count": null,
   "id": "9697f6a4",
   "metadata": {},
   "outputs": [],
   "source": [
    "#trying again with just the date (new column we just created)\n",
    "#let's make this a dataframe for analysis\n",
    "call_dates = crisis['call_date'].value_counts()\n",
    "call_dates = pd.DataFrame(call_dates).reset_index()\n",
    "call_dates.columns = ['date', 'number_calls']\n",
    "call_dates.head(50)"
   ]
  },
  {
   "cell_type": "code",
   "execution_count": null,
   "id": "268c4bf8",
   "metadata": {},
   "outputs": [],
   "source": [
    "call_dates.describe()"
   ]
  },
  {
   "cell_type": "code",
   "execution_count": null,
   "id": "07074574",
   "metadata": {},
   "outputs": [],
   "source": [
    "#going to order call_dates by date so that when we plot it, we can see trends over time\n",
    "call_dates = call_dates.sort_values(by='date')\n",
    "call_dates.head()"
   ]
  },
  {
   "cell_type": "code",
   "execution_count": null,
   "id": "0396456a",
   "metadata": {},
   "outputs": [],
   "source": [
    "call_dates.plot(x=\"date\", y=\"number_calls\", kind=\"line\")\n",
    "plt.show()"
   ]
  },
  {
   "cell_type": "code",
   "execution_count": null,
   "id": "35e7e3ca",
   "metadata": {},
   "outputs": [],
   "source": [
    "#clearly that's way too many data points, so let's look at the top 50 days\n",
    "#call_dates_top50 = "
   ]
  },
  {
   "cell_type": "markdown",
   "id": "2227e987",
   "metadata": {},
   "source": [
    "## 2. Analyze trends in call content by looking for which issues are most frequent and what is the average count of issues per call."
   ]
  },
  {
   "cell_type": "code",
   "execution_count": null,
   "id": "995a895f",
   "metadata": {},
   "outputs": [],
   "source": [
    "#first, let's try to isolate columns with \"CRISIS\" in the title\n",
    "#(based on README, that's what we're looking for)\n",
    "#https://towardsdatascience.com/interesting-ways-to-select-pandas-dataframe-columns-b29b82bbfb33\n",
    "#(at that link, see section on selecting columns based on substring)\n",
    "\n",
    "crisis_issues = crisis.loc[:,['CRISIS Issues' in i for i in crisis.columns]]\n",
    "crisis_issues.head()"
   ]
  },
  {
   "cell_type": "code",
   "execution_count": null,
   "id": "6624c0b7",
   "metadata": {},
   "outputs": [],
   "source": [
    "#how many non-NAN values per column? and make it a dataframe\n",
    "crisis_notes = crisis_issues.count().to_frame().reset_index()\n",
    "\n",
    "#rename columns\n",
    "crisis_notes.columns = ['crisis_issue', 'call_volume']\n",
    "\n",
    "#sort values by call_volume\n",
    "crisis_notes = crisis_notes.sort_values(by='call_volume', ascending=False)\n",
    "\n",
    "crisis_notes.head(20)"
   ]
  },
  {
   "cell_type": "code",
   "execution_count": null,
   "id": "72013097",
   "metadata": {},
   "outputs": [],
   "source": []
  }
 ],
 "metadata": {
  "kernelspec": {
   "display_name": "Python 3 (ipykernel)",
   "language": "python",
   "name": "python3"
  },
  "language_info": {
   "codemirror_mode": {
    "name": "ipython",
    "version": 3
   },
   "file_extension": ".py",
   "mimetype": "text/x-python",
   "name": "python",
   "nbconvert_exporter": "python",
   "pygments_lexer": "ipython3",
   "version": "3.9.7"
  }
 },
 "nbformat": 4,
 "nbformat_minor": 5
}
