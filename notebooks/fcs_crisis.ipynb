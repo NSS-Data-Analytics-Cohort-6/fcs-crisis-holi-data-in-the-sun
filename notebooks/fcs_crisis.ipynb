{
 "cells": [
  {
   "cell_type": "code",
   "execution_count": null,
   "id": "4e8dd51c",
   "metadata": {},
   "outputs": [],
   "source": [
    "import pandas as pd\n",
    "import datetime\n",
    "import numpy as np\n",
    "import matplotlib.pyplot as plt\n",
    "import seaborn as sns\n",
    "import scipy.stats as ss\n",
    "from dython.nominal import associations\n",
    "from dython.nominal import identify_nominal_columns\n",
    "plt.rcParams['font.size'] = 18.0\n",
    "\n",
    "%matplotlib inline\n",
    "\n",
    "pd.set_option('display.max_columns', 500)"
   ]
  },
  {
   "cell_type": "markdown",
   "id": "6230cef6",
   "metadata": {},
   "source": [
    "### reading in crisis1"
   ]
  },
  {
   "cell_type": "code",
   "execution_count": null,
   "id": "8491c3c2",
   "metadata": {},
   "outputs": [],
   "source": [
    "#https://stackoverflow.com/questions/26521266/using-pandas-to-pd-read-excel-for-multiple-worksheets-of-the-same-workbook\n",
    "crisis1 = pd.ExcelFile('../data/NSSCrisisv.1.xlsx')"
   ]
  },
  {
   "cell_type": "code",
   "execution_count": null,
   "id": "a49b95d1",
   "metadata": {},
   "outputs": [],
   "source": [
    "crisis1.sheet_names"
   ]
  },
  {
   "cell_type": "code",
   "execution_count": null,
   "id": "ffc80b2c",
   "metadata": {},
   "outputs": [],
   "source": [
    "crisis1 = crisis1.parse('in')"
   ]
  },
  {
   "cell_type": "code",
   "execution_count": null,
   "id": "876f37f1",
   "metadata": {},
   "outputs": [],
   "source": [
    "crisis1.head(20)"
   ]
  },
  {
   "cell_type": "code",
   "execution_count": null,
   "id": "8a4ff746",
   "metadata": {},
   "outputs": [],
   "source": [
    "crisis1.info()"
   ]
  },
  {
   "cell_type": "markdown",
   "id": "36669ab5",
   "metadata": {},
   "source": [
    "### cleaning up crisis1"
   ]
  },
  {
   "cell_type": "markdown",
   "id": "20f3b31f",
   "metadata": {},
   "source": [
    "#drop columns with ALL NaN values\n",
    "#https://datatofish.com/drop-columns-with-nan/\n",
    "crisis1 = crisis1.dropna(axis=1, how ='all')\n",
    "crisis1 = crisis1.dropna(axis=0, how='all')\n",
    "crisis1.head()"
   ]
  },
  {
   "cell_type": "code",
   "execution_count": null,
   "id": "2aaf503f",
   "metadata": {},
   "outputs": [],
   "source": [
    "#trim all whitespace\n",
    "#https://stackoverflow.com/questions/33788913/pythonic-efficient-way-to-strip-whitespace-from-every-pandas-data-frame-cell-tha\n",
    "crisis1 = crisis1.dropna(axis=1, how ='all')\n",
    "crisis1 = crisis1.dropna(axis=0, how='all')\n",
    "crisis1 = crisis1.apply(lambda x: x.str.strip() if x.dtype == \"str\" else x)"
   ]
  },
  {
   "cell_type": "code",
   "execution_count": null,
   "id": "2942cc5f",
   "metadata": {},
   "outputs": [],
   "source": [
    "#replace column names with row1 values\n",
    "#https://www.adamsmith.haus/python/answers/how-to-convert-a-pandas-dataframe-row-to-column-headers-in-python\n",
    "header_row = 1\n",
    "crisis1.columns = crisis1.iloc[header_row]\n",
    "crisis1.head()"
   ]
  },
  {
   "cell_type": "code",
   "execution_count": null,
   "id": "daf7751e",
   "metadata": {},
   "outputs": [],
   "source": [
    "crisis1 = crisis1.drop(header_row)\n",
    "crisis1 = crisis1.reset_index(drop=True)\n",
    "crisis1.head()"
   ]
  },
  {
   "cell_type": "code",
   "execution_count": null,
   "id": "f2559495",
   "metadata": {},
   "outputs": [],
   "source": [
    "crisis1.tail()"
   ]
  },
  {
   "cell_type": "markdown",
   "id": "03e8963c",
   "metadata": {},
   "source": [
    "### reading in crisis2"
   ]
  },
  {
   "cell_type": "code",
   "execution_count": null,
   "id": "7753cf76",
   "metadata": {},
   "outputs": [],
   "source": [
    "crisis2 = pd.ExcelFile('../data/NSSCrisisv.2.xlsx')"
   ]
  },
  {
   "cell_type": "code",
   "execution_count": null,
   "id": "c432ae75",
   "metadata": {},
   "outputs": [],
   "source": [
    "crisis2.sheet_names"
   ]
  },
  {
   "cell_type": "code",
   "execution_count": null,
   "id": "fec821b4",
   "metadata": {},
   "outputs": [],
   "source": [
    "crisis2 = crisis2.parse('in')"
   ]
  },
  {
   "cell_type": "code",
   "execution_count": null,
   "id": "4d39dd4f",
   "metadata": {
    "scrolled": true
   },
   "outputs": [],
   "source": [
    "crisis2.head(20)"
   ]
  },
  {
   "cell_type": "code",
   "execution_count": null,
   "id": "883e717f",
   "metadata": {},
   "outputs": [],
   "source": [
    "crisis2.tail()"
   ]
  },
  {
   "cell_type": "code",
   "execution_count": null,
   "id": "5a355c6c",
   "metadata": {},
   "outputs": [],
   "source": [
    "crisis2.info()"
   ]
  },
  {
   "cell_type": "markdown",
   "id": "d2cad657",
   "metadata": {},
   "source": [
    "### cleaning up crisis2"
   ]
  },
  {
   "cell_type": "code",
   "execution_count": null,
   "id": "735a7878",
   "metadata": {},
   "outputs": [],
   "source": [
    "#drop columns with ALL NaN values\n",
    "#https://datatofish.com/drop-columns-with-nan/\n",
    "crisis2 = crisis2.dropna(axis=1, how ='all')\n",
    "crisis2 = crisis2.dropna(axis=0, how='all')\n",
    "crisis2.head()"
   ]
  },
  {
   "cell_type": "code",
   "execution_count": null,
   "id": "bafbe34d",
   "metadata": {},
   "outputs": [],
   "source": [
    "#trim all whitespace\n",
    "#https://stackoverflow.com/questions/33788913/pythonic-efficient-way-to-strip-whitespace-from-every-pandas-data-frame-cell-tha\n",
    "crisis2 = crisis2.apply(lambda x: x.str.strip() if x.dtype == \"str\" else x)"
   ]
  },
  {
   "cell_type": "code",
   "execution_count": null,
   "id": "707fcfb2",
   "metadata": {},
   "outputs": [],
   "source": [
    "#replace column names with row1 values\n",
    "#https://www.adamsmith.haus/python/answers/how-to-convert-a-pandas-dataframe-row-to-column-headers-in-python\n",
    "crisis2.columns = crisis2.iloc[header_row]\n",
    "crisis2 = crisis2.drop(header_row)\n",
    "crisis2 = crisis2.reset_index(drop=True)\n",
    "crisis2.head()"
   ]
  },
  {
   "cell_type": "markdown",
   "id": "e7c9ce7c",
   "metadata": {},
   "source": [
    "### reading in call_volume"
   ]
  },
  {
   "cell_type": "code",
   "execution_count": null,
   "id": "92afeece",
   "metadata": {},
   "outputs": [],
   "source": [
    "#https://stackoverflow.com/questions/26521266/using-pandas-to-pd-read-excel-for-multiple-worksheets-of-the-same-workbook\n",
    "call_volume = pd.ExcelFile('../data/Contact_center_call_volume_2020-2022.xlsx')\n",
    "call_volume.sheet_names"
   ]
  },
  {
   "cell_type": "code",
   "execution_count": null,
   "id": "626b4943",
   "metadata": {},
   "outputs": [],
   "source": [
    "call_volume2020 = call_volume.parse('2020')"
   ]
  },
  {
   "cell_type": "code",
   "execution_count": null,
   "id": "0dc23cc2",
   "metadata": {},
   "outputs": [],
   "source": [
    "call_volume2021 = call_volume.parse('2021')"
   ]
  },
  {
   "cell_type": "code",
   "execution_count": null,
   "id": "e2226f86",
   "metadata": {},
   "outputs": [],
   "source": [
    "call_volume2022 = call_volume.parse('2022')"
   ]
  },
  {
   "cell_type": "code",
   "execution_count": null,
   "id": "aa0cbd4e",
   "metadata": {},
   "outputs": [],
   "source": [
    "call_volume2020.head()"
   ]
  },
  {
   "cell_type": "code",
   "execution_count": null,
   "id": "cbd7ca35",
   "metadata": {},
   "outputs": [],
   "source": [
    "call_volume2021.head(20)"
   ]
  },
  {
   "cell_type": "markdown",
   "id": "c0a54c7b",
   "metadata": {},
   "source": [
    "### combining crisis1 and crisis2"
   ]
  },
  {
   "cell_type": "code",
   "execution_count": null,
   "id": "30dde22b",
   "metadata": {},
   "outputs": [],
   "source": [
    "crisis = pd.concat([crisis2, crisis1])"
   ]
  },
  {
   "cell_type": "code",
   "execution_count": null,
   "id": "1e82e9eb",
   "metadata": {},
   "outputs": [],
   "source": [
    "crisis.info()"
   ]
  },
  {
   "cell_type": "code",
   "execution_count": null,
   "id": "53142293",
   "metadata": {},
   "outputs": [],
   "source": [
    "crisis = crisis.reset_index(drop=True)\n",
    "crisis.head(20)"
   ]
  },
  {
   "cell_type": "code",
   "execution_count": null,
   "id": "49cb917f",
   "metadata": {},
   "outputs": [],
   "source": [
    "crisis.tail(20)"
   ]
  },
  {
   "cell_type": "code",
   "execution_count": null,
   "id": "8597ea7c",
   "metadata": {},
   "outputs": [],
   "source": [
    "crisis.shape"
   ]
  },
  {
   "cell_type": "markdown",
   "id": "1b462c05",
   "metadata": {},
   "source": [
    "## 1. Examine call volume and identify surge times, seasons, or events."
   ]
  },
  {
   "cell_type": "markdown",
   "id": "e2a51803",
   "metadata": {},
   "source": [
    "### Ideas: 2021 vs 2022, avg call volume per month, avg call volume per day of the. month"
   ]
  },
  {
   "cell_type": "code",
   "execution_count": null,
   "id": "56534638",
   "metadata": {},
   "outputs": [],
   "source": [
    "crisis['CallDateAndTimeStart'].dtype"
   ]
  },
  {
   "cell_type": "code",
   "execution_count": null,
   "id": "450f2cfb",
   "metadata": {},
   "outputs": [],
   "source": [
    "print(type(crisis['CallDateAndTimeStart']))"
   ]
  },
  {
   "cell_type": "code",
   "execution_count": null,
   "id": "956166be",
   "metadata": {},
   "outputs": [],
   "source": [
    "#this really won't work since the time is included - let's get a column w/ just the date\n",
    "crisis['CallDateAndTimeStart'].value_counts()"
   ]
  },
  {
   "cell_type": "code",
   "execution_count": null,
   "id": "4c1d6144",
   "metadata": {},
   "outputs": [],
   "source": [
    "#this gave a weird result: crisis['CallDateAndTimeStart'] = str(crisis['CallDateAndTimeStart'])\n",
    "#maybe due to python versions? solution pieced together from here: https://stackoverflow.com/questions/22231592/pandas-change-data-type-of-series-to-string\n",
    "crisis['CallDateAndTimeStart'] = crisis['CallDateAndTimeStart'].astype('str')"
   ]
  },
  {
   "cell_type": "code",
   "execution_count": null,
   "id": "6be1519b",
   "metadata": {},
   "outputs": [],
   "source": [
    "crisis['call_date'] = crisis.CallDateAndTimeStart.str[0:10]"
   ]
  },
  {
   "cell_type": "code",
   "execution_count": null,
   "id": "a02dbd51",
   "metadata": {},
   "outputs": [],
   "source": [
    "#make a call year column also\n",
    "crisis['call_year'] = crisis.CallDateAndTimeStart.str[0:4]"
   ]
  },
  {
   "cell_type": "code",
   "execution_count": null,
   "id": "b9a8e262",
   "metadata": {},
   "outputs": [],
   "source": [
    "crisis['call_month'] = crisis.CallDateAndTimeStart.str[0:7]"
   ]
  },
  {
   "cell_type": "code",
   "execution_count": null,
   "id": "a5efa09e",
   "metadata": {},
   "outputs": [],
   "source": [
    "crisis.head(30)"
   ]
  },
  {
   "cell_type": "code",
   "execution_count": null,
   "id": "9697f6a4",
   "metadata": {},
   "outputs": [],
   "source": [
    "#trying again with just the date (new column we just created)\n",
    "#let's make this a dataframe for analysis\n",
    "call_dates = crisis['call_date'].value_counts()\n",
    "call_dates = pd.DataFrame(call_dates).reset_index()\n",
    "call_dates.columns = ['date', 'number_calls']\n",
    "call_dates.head(50)"
   ]
  },
  {
   "cell_type": "code",
   "execution_count": null,
   "id": "268c4bf8",
   "metadata": {},
   "outputs": [],
   "source": [
    "call_dates.describe()"
   ]
  },
  {
   "cell_type": "code",
   "execution_count": null,
   "id": "07074574",
   "metadata": {},
   "outputs": [],
   "source": [
    "#going to order call_dates by date so that when we plot it, we can see trends over time\n",
    "call_dates = call_dates.sort_values(by='date')\n",
    "call_dates.head()"
   ]
  },
  {
   "cell_type": "code",
   "execution_count": null,
   "id": "0396456a",
   "metadata": {},
   "outputs": [],
   "source": [
    "call_dates.plot(x=\"date\", y=\"number_calls\", kind=\"line\")\n",
    "plt.show()"
   ]
  },
  {
   "cell_type": "code",
   "execution_count": null,
   "id": "98df3aa9",
   "metadata": {},
   "outputs": [],
   "source": [
    "#make subsets of data by year. first, double check which years data comes from\n",
    "crisis['call_year'].value_counts()"
   ]
  },
  {
   "cell_type": "code",
   "execution_count": null,
   "id": "733f8f78",
   "metadata": {},
   "outputs": [],
   "source": [
    "#create 2020 filter\n",
    "filter2020 = crisis['call_year'].isin(['2020'])\n",
    "\n",
    "#make new dataframe based on filter\n",
    "calls2020 = crisis[filter2020]\n",
    "calls2020.head()"
   ]
  },
  {
   "cell_type": "code",
   "execution_count": null,
   "id": "ad4a8e6e",
   "metadata": {},
   "outputs": [],
   "source": [
    "#create 2021 filter\n",
    "filter2021 = crisis['call_year'].isin(['2021'])\n",
    "\n",
    "#make new dataframe based on filter\n",
    "calls2021 = crisis[filter2021]\n",
    "calls2021.head()"
   ]
  },
  {
   "cell_type": "code",
   "execution_count": null,
   "id": "120cc055",
   "metadata": {},
   "outputs": [],
   "source": [
    "#create 2022 filter\n",
    "filter2022 = crisis['call_year'].isin(['2022'])\n",
    "\n",
    "#make new dataframe based on filter\n",
    "calls2022 = crisis[filter2022]\n",
    "calls2022.head()"
   ]
  },
  {
   "cell_type": "code",
   "execution_count": null,
   "id": "f8cfd274",
   "metadata": {},
   "outputs": [],
   "source": [
    "#clearly that's way too many data points, so let's look at the top 50 days\n",
    "#call_dates_top50 = "
   ]
  },
  {
   "cell_type": "markdown",
   "id": "c3fdd385",
   "metadata": {},
   "source": [
    "## 2. Analyze trends in call content by looking for which issues are most frequent and what is the average count of issues per call."
   ]
  },
  {
   "cell_type": "code",
   "execution_count": null,
   "id": "6b7b0887",
   "metadata": {},
   "outputs": [],
   "source": [
    "#first, let's try to isolate columns with \"CRISIS\" in the title\n",
    "#(based on README, that's what we're looking for)\n",
    "#https://towardsdatascience.com/interesting-ways-to-select-pandas-dataframe-columns-b29b82bbfb33\n",
    "#(at that link, see section on selecting columns based on substring)\n",
    "\n",
    "crisis_issues = crisis.loc[:,['CRISIS Issues' in i for i in crisis.columns]]\n",
    "crisis_issues.head()"
   ]
  },
  {
   "cell_type": "code",
   "execution_count": null,
   "id": "b6ee829f",
   "metadata": {},
   "outputs": [],
   "source": [
    "#how many non-NAN values per column? and make it a dataframe\n",
    "crisis_notes = crisis_issues.count().to_frame().reset_index()\n",
    "\n",
    "#rename columns\n",
    "crisis_notes.columns = ['crisis_issue', 'call_volume']\n",
    "\n",
    "#sort values by call_volume\n",
    "crisis_notes = crisis_notes.sort_values(by='call_volume', ascending=False)\n",
    "\n",
    "crisis_notes.head(20)"
   ]
  },
  {
   "cell_type": "markdown",
   "id": "9875a79d",
   "metadata": {},
   "source": [
    "## 3. Assess regional and demographic trends in call content and call volume."
   ]
  },
  {
   "cell_type": "code",
   "execution_count": null,
   "id": "ccba14db",
   "metadata": {},
   "outputs": [],
   "source": [
    "crisis.head(10)"
   ]
  },
  {
   "cell_type": "code",
   "execution_count": null,
   "id": "ca1bebe8",
   "metadata": {},
   "outputs": [],
   "source": [
    " crisis['CRISIS Call Information - Phone Line'].value_counts()"
   ]
  },
  {
   "cell_type": "code",
   "execution_count": null,
   "id": "3603b2ef",
   "metadata": {},
   "outputs": [],
   "source": [
    "#let's start with regional information\n",
    "crisis['StateProvince'].value_counts()"
   ]
  },
  {
   "cell_type": "code",
   "execution_count": null,
   "id": "9c844efc",
   "metadata": {},
   "outputs": [],
   "source": [
    "#if we could find json for these counties, something geospatial could be cool\n",
    "crisis['CountyName'].value_counts()"
   ]
  },
  {
   "cell_type": "code",
   "execution_count": null,
   "id": "f7cbb004",
   "metadata": {},
   "outputs": [],
   "source": [
    "#if we could find json for these zipcodes, something geospatial could be cool\n",
    "crisis['PostalCode'].value_counts()"
   ]
  },
  {
   "cell_type": "code",
   "execution_count": null,
   "id": "18cf3667",
   "metadata": {
    "scrolled": true
   },
   "outputs": [],
   "source": [
    "#looking into demographics now\n",
    "demographics = crisis.loc[:,['Demographics' in i for i in crisis.columns]]\n",
    "demographics.head(20)"
   ]
  },
  {
   "cell_type": "code",
   "execution_count": null,
   "id": "0ccd5e6f",
   "metadata": {},
   "outputs": [],
   "source": [
    "#let's add in some date & regional information as well\n",
    "demographics['call_year'] = crisis['call_year']\n",
    "demographics['call_month'] = crisis['call_month']\n",
    "demographics['call_source'] = crisis['CRISIS Call Information - Phone Line']\n",
    "demographics['zipcode'] = crisis['PostalCode']\n",
    "demographics['issue_suicide'] = crisis['CRISIS Issues - Suicide']\n",
    "demographics['issue_financial'] = crisis['CRISIS Issues - Financial/Basic Needs']\n",
    "demographics['issue_emotional_state'] = crisis['CRISIS Issues - Emotional State']\n",
    "demographics['issue_relationship'] = crisis['CRISIS Issues - Relationships']\n",
    "demographics['issue_mental_health'] = crisis['CRISIS Issues - Mental Health']\n",
    "demographics['issue_physical_health'] = crisis['CRISIS Issues - Health/Physical']\n",
    "demographics['issue_substances'] = crisis['CRISIS Issues - Substances']\n",
    "demographics.head()"
   ]
  },
  {
   "cell_type": "code",
   "execution_count": null,
   "id": "a3f68dd4",
   "metadata": {},
   "outputs": [],
   "source": [
    "#was getting an error about datetime when running categorical associations below\n",
    "#I think it's because one of the age categories is being read as datetime (7-12)\n",
    "#let's try converting to str and see if that helps\n",
    "demographics['CRISIS Demographics - Age'] = demographics['CRISIS Demographics - Age'].astype('str')"
   ]
  },
  {
   "cell_type": "code",
   "execution_count": null,
   "id": "0c42a160",
   "metadata": {},
   "outputs": [],
   "source": [
    "#to make correlation table more manageable, let's drop columns w/ less than 1000 values\n",
    "demographics1000 = demographics.dropna(thresh=1000, axis=1)\n",
    "demographics1000.head()"
   ]
  },
  {
   "cell_type": "code",
   "execution_count": null,
   "id": "9c3d9c4d",
   "metadata": {},
   "outputs": [],
   "source": [
    "#as expected, all demographic variables are categorical\n",
    "#https://blog.knoldus.com/how-to-find-correlation-value-of-categorical-variables/\n",
    "associations(demographics1000, nominal_columns='auto', numerical_columns=None, mark_columns=False, nom_nom_assoc='cramer', num_num_assoc='pearson', ax=None, figsize=None, annot=True, fmt='.2f', cmap=None, sv_color='silver', cbar=True, vmax=1.0, vmin=None, plot=True, compute_only=False, clustering=False, title=None, filename=None)"
   ]
  },
  {
   "cell_type": "code",
   "execution_count": null,
   "id": "9e3e8674",
   "metadata": {},
   "outputs": [],
   "source": [
    "#https://blog.knoldus.com/how-to-find-correlation-value-of-categorical-variables/\n",
    "complete_correlation= associations(demographics1000, filename= 'complete_correlation.png', figsize=(30,30))"
   ]
  },
  {
   "cell_type": "code",
   "execution_count": null,
   "id": "acde2658",
   "metadata": {
    "scrolled": false
   },
   "outputs": [],
   "source": [
    "#https://blog.knoldus.com/how-to-find-correlation-value-of-categorical-variables/\n",
    "df_complete_corr=complete_correlation['corr']\n",
    "df_complete_corr.dropna(axis=1, how='all').dropna(axis=0, how='all').style.background_gradient(cmap='coolwarm', axis=None).set_precision(2)"
   ]
  },
  {
   "cell_type": "code",
   "execution_count": null,
   "id": "56704026",
   "metadata": {
    "scrolled": true
   },
   "outputs": [],
   "source": [
    "#which demographic factors have the most data collected? (analysis will be best w/ more data)\n",
    "demographics.count()"
   ]
  },
  {
   "cell_type": "code",
   "execution_count": null,
   "id": "d9754a0b",
   "metadata": {},
   "outputs": [],
   "source": [
    "#would be interesting to compare whether callers were suicidal to see if there's a relationship\n",
    "demographics['CRISIS Demographics - Marital Status'].value_counts()"
   ]
  },
  {
   "cell_type": "code",
   "execution_count": null,
   "id": "eca1d7f1",
   "metadata": {},
   "outputs": [],
   "source": [
    "crisis.groupby('call_year')['CRISIS Demographics - Marital Status'].value_counts(normalize=True)"
   ]
  },
  {
   "cell_type": "code",
   "execution_count": null,
   "id": "fbfd2f2c",
   "metadata": {},
   "outputs": [],
   "source": [
    "#exploring correlation between marital status and homelessness\n",
    "#https://stackoverflow.com/questions/42563209/how-to-count-subgroups-of-categorical-data-in-a-pandas-dataframe\n",
    "print(pd.crosstab(demographics['CRISIS Demographics - Marital Status'], demographics['CRISIS Demographics - Homeless?']))"
   ]
  },
  {
   "cell_type": "code",
   "execution_count": null,
   "id": "e078b283",
   "metadata": {},
   "outputs": [],
   "source": [
    "#exploring correlation between mental health and suicidality\n",
    "#https://stackoverflow.com/questions/42563209/how-to-count-subgroups-of-categorical-data-in-a-pandas-dataframe\n",
    "suicide_mh = pd.crosstab(demographics['issue_suicide'], demographics['issue_mental_health'])"
   ]
  },
  {
   "cell_type": "code",
   "execution_count": null,
   "id": "945b2c63",
   "metadata": {},
   "outputs": [],
   "source": [
    "suicide_mh.head()"
   ]
  },
  {
   "cell_type": "code",
   "execution_count": null,
   "id": "a1905d68",
   "metadata": {
    "scrolled": true
   },
   "outputs": [],
   "source": [
    "#drop rows with zeros\n",
    "#https://stackoverflow.com/questions/22649693/drop-rows-with-all-zeros-in-pandas-data-frame\n",
    "suicide_mh_dropzeros = suicide_mh.loc[(suicide_mh!=0).any(axis=1)]\n",
    "\n",
    "#drop columns with zeros\n",
    "#suicide_mh_dropzeros = suicide_mh.loc[(suicide_mh!=0).any(axis=0)]\n",
    "suicide_mh_dropzeros = suicide_mh_dropzeros.loc[:, (suicide_mh_dropzeros != 0).any(axis=0)]\n",
    "\n",
    "suicide_mh_dropzeros.head(20)"
   ]
  },
  {
   "cell_type": "code",
   "execution_count": null,
   "id": "39e0aa1c",
   "metadata": {},
   "outputs": [],
   "source": [
    "#maxvalues of all columns\n",
    "#https://www.geeksforgeeks.org/find-maximum-values-position-in-columns-and-rows-of-a-dataframe-in-pandas/\n",
    "maxValues = suicide_mh_dropzeros.max()\n",
    "maxValues = pd.DataFrame(maxValues).reset_index()\n",
    "maxValues.columns = ['issue_mental_health', 'count']\n",
    "maxValues = maxValues.sort_values(by=['count'], ascending=False)\n",
    "maxValues.head(50)"
   ]
  },
  {
   "cell_type": "code",
   "execution_count": null,
   "id": "2e615b71",
   "metadata": {},
   "outputs": [],
   "source": []
  },
  {
   "cell_type": "code",
   "execution_count": null,
   "id": "f9e4c2b4",
   "metadata": {},
   "outputs": [],
   "source": [
    "maxValueIndex = suicide_mh_dropzeros.idxmax(axis = 1)\n",
    "print(maxValueIndex)"
   ]
  },
  {
   "cell_type": "code",
   "execution_count": null,
   "id": "a42cd95c",
   "metadata": {},
   "outputs": [],
   "source": [
    "#interesting trends... would need to see how many are for repeat callers\n",
    "demographics['CRISIS Demographics - Occupation'].value_counts()"
   ]
  },
  {
   "cell_type": "code",
   "execution_count": null,
   "id": "b66ad26a",
   "metadata": {},
   "outputs": [],
   "source": [
    "demographics['CRISIS Demographics - Military'].value_counts()"
   ]
  },
  {
   "cell_type": "code",
   "execution_count": null,
   "id": "dc719cfe",
   "metadata": {},
   "outputs": [],
   "source": [
    "demographics['CRISIS Demographics - Gender Identity'].value_counts()"
   ]
  },
  {
   "cell_type": "code",
   "execution_count": null,
   "id": "67143d50",
   "metadata": {},
   "outputs": [],
   "source": [
    "#female to male ratio slowly shrinks with time\n",
    "gender_year = crisis.groupby('call_year')['CRISIS Demographics - Gender Identity'].value_counts(normalize=True)\n",
    "gender_year = pd.DataFrame(gender_year)\n",
    "gender_year.head(30)"
   ]
  },
  {
   "cell_type": "code",
   "execution_count": null,
   "id": "581448b4",
   "metadata": {},
   "outputs": [],
   "source": [
    "demographics['CRISIS Demographics - Age'].value_counts()"
   ]
  },
  {
   "cell_type": "code",
   "execution_count": null,
   "id": "ec38ba8b",
   "metadata": {},
   "outputs": [],
   "source": [
    "calls2020['CRISIS Demographics - Age'].value_counts()"
   ]
  },
  {
   "cell_type": "code",
   "execution_count": null,
   "id": "1023ca6a",
   "metadata": {},
   "outputs": [],
   "source": [
    "#wanted to see if there was a way to get value counts by percentage and there IS!\n",
    "#https://stackoverflow.com/questions/14281871/given-a-pandas-series-that-represents-frequencies-of-a-value-how-can-i-turn-tho\n",
    "calls2020['CRISIS Demographics - Age'].value_counts(normalize=True)"
   ]
  },
  {
   "cell_type": "code",
   "execution_count": null,
   "id": "7af9712b",
   "metadata": {},
   "outputs": [],
   "source": [
    "#caitlyn b also told me there is a way to \"group by\" with values counts! exciting.. let's try\n",
    "crisis.groupby('call_year')['CRISIS Demographics - Age'].value_counts()"
   ]
  },
  {
   "cell_type": "code",
   "execution_count": null,
   "id": "9b1e9ff9",
   "metadata": {},
   "outputs": [],
   "source": [
    "crisis.groupby('CRISIS Demographics - Age')['CRISIS Demographics - Gender Identity'].value_counts()"
   ]
  },
  {
   "cell_type": "code",
   "execution_count": null,
   "id": "5ea9f747",
   "metadata": {},
   "outputs": [],
   "source": [
    "demographics['CRISIS Demographics - Race/Ethnicity'].value_counts()"
   ]
  },
  {
   "cell_type": "code",
   "execution_count": null,
   "id": "ff1baba7",
   "metadata": {},
   "outputs": [],
   "source": [
    "demographics['CRISIS Demographics - Has a disability?'].value_counts()"
   ]
  },
  {
   "cell_type": "code",
   "execution_count": null,
   "id": "a5790f48",
   "metadata": {},
   "outputs": [],
   "source": [
    "demographics['CRISIS Demographics - Homeless?'].value_counts()"
   ]
  },
  {
   "cell_type": "code",
   "execution_count": null,
   "id": "e764e6ac",
   "metadata": {},
   "outputs": [],
   "source": [
    "#exploring correlation between disability and homelessness\n",
    "#https://stackoverflow.com/questions/42563209/how-to-count-subgroups-of-categorical-data-in-a-pandas-dataframe\n",
    "print(pd.crosstab(demographics['CRISIS Demographics - Has a disability?'], demographics['CRISIS Demographics - Homeless?']))"
   ]
  },
  {
   "cell_type": "code",
   "execution_count": null,
   "id": "eea0e58d",
   "metadata": {
    "scrolled": true
   },
   "outputs": [],
   "source": [
    "crisis.groupby('call_year')['CRISIS Demographics - Has a disability?'].value_counts(normalize=True)"
   ]
  },
  {
   "cell_type": "code",
   "execution_count": null,
   "id": "2f43ade6",
   "metadata": {},
   "outputs": [],
   "source": []
  },
  {
   "cell_type": "markdown",
   "id": "305fe5ec",
   "metadata": {},
   "source": [
    "## 4. Determine the count and success rate of imminent risk calls."
   ]
  },
  {
   "cell_type": "code",
   "execution_count": null,
   "id": "0744033e",
   "metadata": {},
   "outputs": [],
   "source": [
    "#find imminent risk column(s)\n",
    "imminent = crisis.loc[:,['Imminent' in i for i in crisis.columns]]\n",
    "imminent.head()"
   ]
  },
  {
   "cell_type": "code",
   "execution_count": null,
   "id": "4688bc4a",
   "metadata": {},
   "outputs": [],
   "source": [
    "#find success column(s)\n",
    "success = crisis.loc[:,['Success' in i for i in crisis.columns]]\n",
    "success.head()"
   ]
  },
  {
   "cell_type": "code",
   "execution_count": null,
   "id": "e6b95937",
   "metadata": {},
   "outputs": [],
   "source": []
  },
  {
   "cell_type": "code",
   "execution_count": null,
   "id": "27b7d038",
   "metadata": {},
   "outputs": [],
   "source": []
  }
 ],
 "metadata": {
  "kernelspec": {
   "display_name": "Python 3 (ipykernel)",
   "language": "python",
   "name": "python3"
  },
  "language_info": {
   "codemirror_mode": {
    "name": "ipython",
    "version": 3
   },
   "file_extension": ".py",
   "mimetype": "text/x-python",
   "name": "python",
   "nbconvert_exporter": "python",
   "pygments_lexer": "ipython3",
   "version": "3.8.5"
  }
 },
 "nbformat": 4,
 "nbformat_minor": 5
}
