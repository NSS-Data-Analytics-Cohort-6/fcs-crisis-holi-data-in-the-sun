{
 "cells": [
  {
   "cell_type": "markdown",
   "metadata": {},
   "source": [
    "### Four Types of Analytics\n",
    "![chart](../images/4-types-of-data-analytics-01.png)"
   ]
  },
  {
   "cell_type": "code",
   "execution_count": 1,
   "metadata": {},
   "outputs": [],
   "source": [
    "import numpy as np\n",
    "import pandas as pd\n",
    "import matplotlib.pyplot as plt\n",
    "import seaborn as sns\n",
    "\n",
    "%matplotlib inline"
   ]
  },
  {
   "cell_type": "markdown",
   "metadata": {},
   "source": [
    "#### Let's get some data and take a look"
   ]
  },
  {
   "cell_type": "code",
   "execution_count": 2,
   "metadata": {},
   "outputs": [
    {
     "name": "stderr",
     "output_type": "stream",
     "text": [
      "C:\\Users\\scott\\anaconda3\\lib\\site-packages\\IPython\\core\\interactiveshell.py:3444: DtypeWarning: Columns (0,5,6,7,9,10,11,12,13,14,15,16,17,18,19,20,21,22,23,24,27,28,29,30,32,36,37,38,39,40,41,42,43,44,45,46,49,52,55,56,57,58,59,61,62,63,64,65,66,67,69,70,71,72,73,74,75,76,77,78,79,80,81,82,83,84,85,86,89,90,93,94,95,96,97,98,103,104,105,106,107,108,109,114,118,121,122,123,125,129,137,141,142,143,144,145,146,147,149,153,154,155,156,158,159,160,161,162,163,164,165,166,167,168,169,170,171,172,173,174,175,176,177,178,179,180,181,182,183,184,185,186,187,188,189,190,191,192,193,194,195,196,197,198,199,200,201,202,203,204,205,206,207,208,209,210,211,212,213,214,215,216,217,218,219,220,221,222,223,224,225,226,227,228,229,230,231,232,233,234,235,236,260,262,263,264,265,266,267,268,269,270,271,272,273,274,282,283,287,288,289,290,291,292,293,294,295,296,297,298,299,300,301,302,303,304,305,306,307,308,309,310,311,312) have mixed types.Specify dtype option on import or set low_memory=False.\n",
      "  exec(code_obj, self.user_global_ns, self.user_ns)\n"
     ]
    }
   ],
   "source": [
    "NSSCrisis1_df = pd.read_csv('../Data/NSSCrisisv.1.csv')"
   ]
  },
  {
   "cell_type": "code",
   "execution_count": 3,
   "metadata": {},
   "outputs": [
    {
     "name": "stderr",
     "output_type": "stream",
     "text": [
      "C:\\Users\\scott\\anaconda3\\lib\\site-packages\\IPython\\core\\interactiveshell.py:3444: DtypeWarning: Columns (0,5,6,7,9,10,11,12,13,14,15,16,20,21,22,23,24,25,26,29,30,31,32,34,35,38,39,40,41,42,43,44,45,46,47,48,51,54,57,58,59,61,62,63,64,65,66,67,68,69,70,71,72,73,74,75,76,77,78,79,80,82,92,101,111,124,126,127,128,129,130,131,132,133,134,135,136,137,138,139,140,141,142,143,144,145,146,147,148,149,150,151,152,153,154,155,156,157,158,159,160,161,162,163,164,165,166,167,168,169,170,171,172,173,174,177,178,179,180,181,182,183,184,185,186,187,188,189,213,215,216,217,218,219,220,221,222,223,224,225,226,227,235,236,240,241,242,243,244,245,246,247,248,249,250,251,252,253,254,255,256,257) have mixed types.Specify dtype option on import or set low_memory=False.\n",
      "  exec(code_obj, self.user_global_ns, self.user_ns)\n"
     ]
    }
   ],
   "source": [
    "NSSCrisis2_df = pd.read_csv('../Data/NSSCrisisv.2.csv')"
   ]
  },
  {
   "cell_type": "code",
   "execution_count": 4,
   "metadata": {},
   "outputs": [],
   "source": [
    "CallCenter_2020 = pd.read_csv('../data/Contact_center_call_volume_2020.csv')"
   ]
  },
  {
   "cell_type": "code",
   "execution_count": 5,
   "metadata": {},
   "outputs": [],
   "source": [
    "CallCenter_2021 = pd.read_csv('../data/Contact_center_call_volume_2021.csv')"
   ]
  },
  {
   "cell_type": "code",
   "execution_count": 6,
   "metadata": {},
   "outputs": [],
   "source": [
    "CallCenter_2022 = pd.read_csv('../data/Contact center call volume_2022.csv')"
   ]
  },
  {
   "cell_type": "code",
   "execution_count": null,
   "metadata": {},
   "outputs": [],
   "source": []
  },
  {
   "cell_type": "code",
   "execution_count": 7,
   "metadata": {},
   "outputs": [
    {
     "data": {
      "text/plain": [
       "(52878, 313)"
      ]
     },
     "execution_count": 7,
     "metadata": {},
     "output_type": "execute_result"
    }
   ],
   "source": [
    "NSSCrisis1_df.shape"
   ]
  },
  {
   "cell_type": "code",
   "execution_count": 8,
   "metadata": {},
   "outputs": [
    {
     "data": {
      "text/plain": [
       "(10650, 261)"
      ]
     },
     "execution_count": 8,
     "metadata": {},
     "output_type": "execute_result"
    }
   ],
   "source": [
    "NSSCrisis2_df.shape"
   ]
  },
  {
   "cell_type": "code",
   "execution_count": 9,
   "metadata": {},
   "outputs": [
    {
     "data": {
      "text/plain": [
       "(104, 11)"
      ]
     },
     "execution_count": 9,
     "metadata": {},
     "output_type": "execute_result"
    }
   ],
   "source": [
    "CallCenter_2020.shape"
   ]
  },
  {
   "cell_type": "code",
   "execution_count": 10,
   "metadata": {},
   "outputs": [
    {
     "data": {
      "text/plain": [
       "(117, 11)"
      ]
     },
     "execution_count": 10,
     "metadata": {},
     "output_type": "execute_result"
    }
   ],
   "source": [
    "CallCenter_2021.shape"
   ]
  },
  {
   "cell_type": "code",
   "execution_count": 11,
   "metadata": {},
   "outputs": [
    {
     "data": {
      "text/plain": [
       "(104, 11)"
      ]
     },
     "execution_count": 11,
     "metadata": {},
     "output_type": "execute_result"
    }
   ],
   "source": [
    "CallCenter_2022.shape"
   ]
  },
  {
   "cell_type": "code",
   "execution_count": 12,
   "metadata": {},
   "outputs": [],
   "source": [
    "NSSCrisis_df = pd.concat([NSSCrisis1_df, NSSCrisis2_df], axis=0, ignore_index=True)"
   ]
  },
  {
   "cell_type": "code",
   "execution_count": 13,
   "metadata": {},
   "outputs": [
    {
     "data": {
      "text/plain": [
       "(63528, 314)"
      ]
     },
     "execution_count": 13,
     "metadata": {},
     "output_type": "execute_result"
    }
   ],
   "source": [
    "NSSCrisis_df.shape"
   ]
  },
  {
   "cell_type": "code",
   "execution_count": 14,
   "metadata": {},
   "outputs": [],
   "source": [
    "CallCenter_df_temp = pd.concat([CallCenter_2020, CallCenter_2021], axis=0, ignore_index=True)"
   ]
  },
  {
   "cell_type": "code",
   "execution_count": 15,
   "metadata": {},
   "outputs": [
    {
     "data": {
      "text/plain": [
       "(221, 11)"
      ]
     },
     "execution_count": 15,
     "metadata": {},
     "output_type": "execute_result"
    }
   ],
   "source": [
    "CallCenter_df_temp.shape"
   ]
  },
  {
   "cell_type": "code",
   "execution_count": 16,
   "metadata": {},
   "outputs": [],
   "source": [
    "CallCenter_df = pd.concat([CallCenter_df_temp, CallCenter_2022], axis=0, ignore_index=True)"
   ]
  },
  {
   "cell_type": "code",
   "execution_count": 17,
   "metadata": {},
   "outputs": [
    {
     "data": {
      "text/plain": [
       "(325, 13)"
      ]
     },
     "execution_count": 17,
     "metadata": {},
     "output_type": "execute_result"
    }
   ],
   "source": [
    "CallCenter_df.shape"
   ]
  },
  {
   "cell_type": "code",
   "execution_count": 18,
   "metadata": {
    "scrolled": true
   },
   "outputs": [
    {
     "data": {
      "text/html": [
       "<div>\n",
       "<style scoped>\n",
       "    .dataframe tbody tr th:only-of-type {\n",
       "        vertical-align: middle;\n",
       "    }\n",
       "\n",
       "    .dataframe tbody tr th {\n",
       "        vertical-align: top;\n",
       "    }\n",
       "\n",
       "    .dataframe thead th {\n",
       "        text-align: right;\n",
       "    }\n",
       "</style>\n",
       "<table border=\"1\" class=\"dataframe\">\n",
       "  <thead>\n",
       "    <tr style=\"text-align: right;\">\n",
       "      <th></th>\n",
       "      <th>FamilyandChildrensService - CallReports export requested on Monday May 9 2022 at 9:57 AM.</th>\n",
       "      <th>Unnamed: 1</th>\n",
       "      <th>Unnamed: 2</th>\n",
       "      <th>Unnamed: 3</th>\n",
       "      <th>Unnamed: 4</th>\n",
       "      <th>Unnamed: 5</th>\n",
       "      <th>Unnamed: 6</th>\n",
       "      <th>Unnamed: 7</th>\n",
       "      <th>Unnamed: 8</th>\n",
       "      <th>Unnamed: 9</th>\n",
       "      <th>...</th>\n",
       "      <th>Unnamed: 304</th>\n",
       "      <th>Unnamed: 305</th>\n",
       "      <th>Unnamed: 306</th>\n",
       "      <th>Unnamed: 307</th>\n",
       "      <th>Unnamed: 308</th>\n",
       "      <th>Unnamed: 309</th>\n",
       "      <th>Unnamed: 310</th>\n",
       "      <th>Unnamed: 311</th>\n",
       "      <th>Unnamed: 312</th>\n",
       "      <th>FamilyandChildrensService - CallReports export requested on Monday May 9 2022 at 9:58 AM.</th>\n",
       "    </tr>\n",
       "  </thead>\n",
       "  <tbody>\n",
       "    <tr>\n",
       "      <th>0</th>\n",
       "      <td></td>\n",
       "      <td>NaN</td>\n",
       "      <td>NaN</td>\n",
       "      <td>NaN</td>\n",
       "      <td>NaN</td>\n",
       "      <td>NaN</td>\n",
       "      <td>NaN</td>\n",
       "      <td>NaN</td>\n",
       "      <td>NaN</td>\n",
       "      <td>NaN</td>\n",
       "      <td>...</td>\n",
       "      <td>NaN</td>\n",
       "      <td>NaN</td>\n",
       "      <td>NaN</td>\n",
       "      <td>NaN</td>\n",
       "      <td>NaN</td>\n",
       "      <td>NaN</td>\n",
       "      <td>NaN</td>\n",
       "      <td>NaN</td>\n",
       "      <td>NaN</td>\n",
       "      <td>NaN</td>\n",
       "    </tr>\n",
       "    <tr>\n",
       "      <th>1</th>\n",
       "      <td>CallReportNum</td>\n",
       "      <td>ReportVersion</td>\n",
       "      <td>LinkedToCallReportNum</td>\n",
       "      <td>CallDateAndTimeStart</td>\n",
       "      <td>CallDateAndTimeEnd</td>\n",
       "      <td>CallLength</td>\n",
       "      <td>CallerNum</td>\n",
       "      <td>PhoneWorkerNum</td>\n",
       "      <td>PhoneWorkerName</td>\n",
       "      <td>WasRealCall</td>\n",
       "      <td>...</td>\n",
       "      <td>SUI AX Third-Party Risk Assessment Demographic...</td>\n",
       "      <td>Suicide Assessment - Are you thinking of suicide?</td>\n",
       "      <td>Suicide Assessment - Caller is having thoughts...</td>\n",
       "      <td>Suicide Assessment - Do you own a firearm?</td>\n",
       "      <td>Suicide Assessment - Have you ever attempted t...</td>\n",
       "      <td>Suicide Assessment - Have you thought about su...</td>\n",
       "      <td>Suicide Assessment - Suicide in progress?</td>\n",
       "      <td>Transfer Information - Were you transferred to...</td>\n",
       "      <td>Transfer Information - Which line/agency trans...</td>\n",
       "      <td>NaN</td>\n",
       "    </tr>\n",
       "    <tr>\n",
       "      <th>2</th>\n",
       "      <td>96627022</td>\n",
       "      <td>Crisis</td>\n",
       "      <td>NaN</td>\n",
       "      <td>12/31/2021 23:35</td>\n",
       "      <td>12/31/2021 23:58</td>\n",
       "      <td>23</td>\n",
       "      <td>-1</td>\n",
       "      <td>136748</td>\n",
       "      <td>Lisa Crawford</td>\n",
       "      <td>NaN</td>\n",
       "      <td>...</td>\n",
       "      <td>NaN</td>\n",
       "      <td>NaN</td>\n",
       "      <td>NaN</td>\n",
       "      <td>NaN</td>\n",
       "      <td>NaN</td>\n",
       "      <td>NaN</td>\n",
       "      <td>NaN</td>\n",
       "      <td>NaN</td>\n",
       "      <td>NaN</td>\n",
       "      <td>NaN</td>\n",
       "    </tr>\n",
       "    <tr>\n",
       "      <th>3</th>\n",
       "      <td>96626934</td>\n",
       "      <td>Crisis</td>\n",
       "      <td>NaN</td>\n",
       "      <td>12/31/2021 23:29</td>\n",
       "      <td>12/31/2021 23:35</td>\n",
       "      <td>6</td>\n",
       "      <td>-1</td>\n",
       "      <td>136748</td>\n",
       "      <td>Lisa Crawford</td>\n",
       "      <td>NaN</td>\n",
       "      <td>...</td>\n",
       "      <td>NaN</td>\n",
       "      <td>NaN</td>\n",
       "      <td>NaN</td>\n",
       "      <td>NaN</td>\n",
       "      <td>NaN</td>\n",
       "      <td>NaN</td>\n",
       "      <td>NaN</td>\n",
       "      <td>NaN</td>\n",
       "      <td>NaN</td>\n",
       "      <td>NaN</td>\n",
       "    </tr>\n",
       "    <tr>\n",
       "      <th>4</th>\n",
       "      <td>96626654</td>\n",
       "      <td>Crisis</td>\n",
       "      <td>NaN</td>\n",
       "      <td>12/31/2021 23:07</td>\n",
       "      <td>12/31/2021 23:28</td>\n",
       "      <td>21</td>\n",
       "      <td>1030262</td>\n",
       "      <td>136748</td>\n",
       "      <td>Lisa Crawford</td>\n",
       "      <td>NaN</td>\n",
       "      <td>...</td>\n",
       "      <td>NaN</td>\n",
       "      <td>NaN</td>\n",
       "      <td>NaN</td>\n",
       "      <td>NaN</td>\n",
       "      <td>NaN</td>\n",
       "      <td>NaN</td>\n",
       "      <td>NaN</td>\n",
       "      <td>NaN</td>\n",
       "      <td>NaN</td>\n",
       "      <td>NaN</td>\n",
       "    </tr>\n",
       "  </tbody>\n",
       "</table>\n",
       "<p>5 rows × 314 columns</p>\n",
       "</div>"
      ],
      "text/plain": [
       "  FamilyandChildrensService - CallReports export requested on Monday May 9 2022 at 9:57 AM.  \\\n",
       "0                                                                                             \n",
       "1                                      CallReportNum                                          \n",
       "2                                           96627022                                          \n",
       "3                                           96626934                                          \n",
       "4                                           96626654                                          \n",
       "\n",
       "      Unnamed: 1             Unnamed: 2            Unnamed: 3  \\\n",
       "0            NaN                    NaN                   NaN   \n",
       "1  ReportVersion  LinkedToCallReportNum  CallDateAndTimeStart   \n",
       "2         Crisis                    NaN      12/31/2021 23:35   \n",
       "3         Crisis                    NaN      12/31/2021 23:29   \n",
       "4         Crisis                    NaN      12/31/2021 23:07   \n",
       "\n",
       "           Unnamed: 4  Unnamed: 5 Unnamed: 6      Unnamed: 7       Unnamed: 8  \\\n",
       "0                 NaN         NaN        NaN             NaN              NaN   \n",
       "1  CallDateAndTimeEnd  CallLength  CallerNum  PhoneWorkerNum  PhoneWorkerName   \n",
       "2    12/31/2021 23:58          23         -1          136748    Lisa Crawford   \n",
       "3    12/31/2021 23:35           6         -1          136748    Lisa Crawford   \n",
       "4    12/31/2021 23:28          21    1030262          136748    Lisa Crawford   \n",
       "\n",
       "    Unnamed: 9  ...                                       Unnamed: 304  \\\n",
       "0          NaN  ...                                                NaN   \n",
       "1  WasRealCall  ...  SUI AX Third-Party Risk Assessment Demographic...   \n",
       "2          NaN  ...                                                NaN   \n",
       "3          NaN  ...                                                NaN   \n",
       "4          NaN  ...                                                NaN   \n",
       "\n",
       "                                        Unnamed: 305  \\\n",
       "0                                                NaN   \n",
       "1  Suicide Assessment - Are you thinking of suicide?   \n",
       "2                                                NaN   \n",
       "3                                                NaN   \n",
       "4                                                NaN   \n",
       "\n",
       "                                        Unnamed: 306  \\\n",
       "0                                                NaN   \n",
       "1  Suicide Assessment - Caller is having thoughts...   \n",
       "2                                                NaN   \n",
       "3                                                NaN   \n",
       "4                                                NaN   \n",
       "\n",
       "                                 Unnamed: 307  \\\n",
       "0                                         NaN   \n",
       "1  Suicide Assessment - Do you own a firearm?   \n",
       "2                                         NaN   \n",
       "3                                         NaN   \n",
       "4                                         NaN   \n",
       "\n",
       "                                        Unnamed: 308  \\\n",
       "0                                                NaN   \n",
       "1  Suicide Assessment - Have you ever attempted t...   \n",
       "2                                                NaN   \n",
       "3                                                NaN   \n",
       "4                                                NaN   \n",
       "\n",
       "                                        Unnamed: 309  \\\n",
       "0                                                NaN   \n",
       "1  Suicide Assessment - Have you thought about su...   \n",
       "2                                                NaN   \n",
       "3                                                NaN   \n",
       "4                                                NaN   \n",
       "\n",
       "                                Unnamed: 310  \\\n",
       "0                                        NaN   \n",
       "1  Suicide Assessment - Suicide in progress?   \n",
       "2                                        NaN   \n",
       "3                                        NaN   \n",
       "4                                        NaN   \n",
       "\n",
       "                                        Unnamed: 311  \\\n",
       "0                                                NaN   \n",
       "1  Transfer Information - Were you transferred to...   \n",
       "2                                                NaN   \n",
       "3                                                NaN   \n",
       "4                                                NaN   \n",
       "\n",
       "                                        Unnamed: 312  \\\n",
       "0                                                NaN   \n",
       "1  Transfer Information - Which line/agency trans...   \n",
       "2                                                NaN   \n",
       "3                                                NaN   \n",
       "4                                                NaN   \n",
       "\n",
       "  FamilyandChildrensService - CallReports export requested on Monday May 9 2022 at 9:58 AM.  \n",
       "0                                                NaN                                         \n",
       "1                                                NaN                                         \n",
       "2                                                NaN                                         \n",
       "3                                                NaN                                         \n",
       "4                                                NaN                                         \n",
       "\n",
       "[5 rows x 314 columns]"
      ]
     },
     "execution_count": 18,
     "metadata": {},
     "output_type": "execute_result"
    }
   ],
   "source": [
    "NSSCrisis_df.head()"
   ]
  },
  {
   "cell_type": "code",
   "execution_count": 19,
   "metadata": {},
   "outputs": [],
   "source": [
    "header_row = 1"
   ]
  },
  {
   "cell_type": "code",
   "execution_count": 20,
   "metadata": {},
   "outputs": [],
   "source": [
    "NSSCrisis_df.columns = NSSCrisis_df.iloc[header_row]"
   ]
  },
  {
   "cell_type": "code",
   "execution_count": 22,
   "metadata": {},
   "outputs": [],
   "source": [
    "NSSCrisis_df = NSSCrisis_df.drop(header_row)"
   ]
  },
  {
   "cell_type": "code",
   "execution_count": 24,
   "metadata": {},
   "outputs": [],
   "source": [
    "NSSCrisis_df = NSSCrisis_df.reset_index(drop=True)"
   ]
  },
  {
   "cell_type": "code",
   "execution_count": null,
   "metadata": {},
   "outputs": [],
   "source": [
    "NSSCrisis_df = NSSCrisis_df."
   ]
  },
  {
   "cell_type": "code",
   "execution_count": 25,
   "metadata": {},
   "outputs": [
    {
     "data": {
      "text/html": [
       "<div>\n",
       "<style scoped>\n",
       "    .dataframe tbody tr th:only-of-type {\n",
       "        vertical-align: middle;\n",
       "    }\n",
       "\n",
       "    .dataframe tbody tr th {\n",
       "        vertical-align: top;\n",
       "    }\n",
       "\n",
       "    .dataframe thead th {\n",
       "        text-align: right;\n",
       "    }\n",
       "</style>\n",
       "<table border=\"1\" class=\"dataframe\">\n",
       "  <thead>\n",
       "    <tr style=\"text-align: right;\">\n",
       "      <th>1</th>\n",
       "      <th>CallReportNum</th>\n",
       "      <th>ReportVersion</th>\n",
       "      <th>LinkedToCallReportNum</th>\n",
       "      <th>CallDateAndTimeStart</th>\n",
       "      <th>CallDateAndTimeEnd</th>\n",
       "      <th>CallLength</th>\n",
       "      <th>CallerNum</th>\n",
       "      <th>PhoneWorkerNum</th>\n",
       "      <th>PhoneWorkerName</th>\n",
       "      <th>WasRealCall</th>\n",
       "      <th>...</th>\n",
       "      <th>SUI AX Third-Party Risk Assessment Demographics - SUI AX Does this risk assesment have different demographics than the caller? (Third-party Call)</th>\n",
       "      <th>Suicide Assessment - Are you thinking of suicide?</th>\n",
       "      <th>Suicide Assessment - Caller is having thoughts of killing self or other</th>\n",
       "      <th>Suicide Assessment - Do you own a firearm?</th>\n",
       "      <th>Suicide Assessment - Have you ever attempted to kill yourself?</th>\n",
       "      <th>Suicide Assessment - Have you thought about suicide in the last two months?</th>\n",
       "      <th>Suicide Assessment - Suicide in progress?</th>\n",
       "      <th>Transfer Information - Were you transferred to this line from another crisis line or agency?</th>\n",
       "      <th>Transfer Information - Which line/agency transferred you to this Crisis Line?</th>\n",
       "      <th>NaN</th>\n",
       "    </tr>\n",
       "  </thead>\n",
       "  <tbody>\n",
       "    <tr>\n",
       "      <th>0</th>\n",
       "      <td></td>\n",
       "      <td>NaN</td>\n",
       "      <td>NaN</td>\n",
       "      <td>NaN</td>\n",
       "      <td>NaN</td>\n",
       "      <td>NaN</td>\n",
       "      <td>NaN</td>\n",
       "      <td>NaN</td>\n",
       "      <td>NaN</td>\n",
       "      <td>NaN</td>\n",
       "      <td>...</td>\n",
       "      <td>NaN</td>\n",
       "      <td>NaN</td>\n",
       "      <td>NaN</td>\n",
       "      <td>NaN</td>\n",
       "      <td>NaN</td>\n",
       "      <td>NaN</td>\n",
       "      <td>NaN</td>\n",
       "      <td>NaN</td>\n",
       "      <td>NaN</td>\n",
       "      <td>NaN</td>\n",
       "    </tr>\n",
       "    <tr>\n",
       "      <th>1</th>\n",
       "      <td>96627022</td>\n",
       "      <td>Crisis</td>\n",
       "      <td>NaN</td>\n",
       "      <td>12/31/2021 23:35</td>\n",
       "      <td>12/31/2021 23:58</td>\n",
       "      <td>23</td>\n",
       "      <td>-1</td>\n",
       "      <td>136748</td>\n",
       "      <td>Lisa Crawford</td>\n",
       "      <td>NaN</td>\n",
       "      <td>...</td>\n",
       "      <td>NaN</td>\n",
       "      <td>NaN</td>\n",
       "      <td>NaN</td>\n",
       "      <td>NaN</td>\n",
       "      <td>NaN</td>\n",
       "      <td>NaN</td>\n",
       "      <td>NaN</td>\n",
       "      <td>NaN</td>\n",
       "      <td>NaN</td>\n",
       "      <td>NaN</td>\n",
       "    </tr>\n",
       "    <tr>\n",
       "      <th>2</th>\n",
       "      <td>96626934</td>\n",
       "      <td>Crisis</td>\n",
       "      <td>NaN</td>\n",
       "      <td>12/31/2021 23:29</td>\n",
       "      <td>12/31/2021 23:35</td>\n",
       "      <td>6</td>\n",
       "      <td>-1</td>\n",
       "      <td>136748</td>\n",
       "      <td>Lisa Crawford</td>\n",
       "      <td>NaN</td>\n",
       "      <td>...</td>\n",
       "      <td>NaN</td>\n",
       "      <td>NaN</td>\n",
       "      <td>NaN</td>\n",
       "      <td>NaN</td>\n",
       "      <td>NaN</td>\n",
       "      <td>NaN</td>\n",
       "      <td>NaN</td>\n",
       "      <td>NaN</td>\n",
       "      <td>NaN</td>\n",
       "      <td>NaN</td>\n",
       "    </tr>\n",
       "    <tr>\n",
       "      <th>3</th>\n",
       "      <td>96626654</td>\n",
       "      <td>Crisis</td>\n",
       "      <td>NaN</td>\n",
       "      <td>12/31/2021 23:07</td>\n",
       "      <td>12/31/2021 23:28</td>\n",
       "      <td>21</td>\n",
       "      <td>1030262</td>\n",
       "      <td>136748</td>\n",
       "      <td>Lisa Crawford</td>\n",
       "      <td>NaN</td>\n",
       "      <td>...</td>\n",
       "      <td>NaN</td>\n",
       "      <td>NaN</td>\n",
       "      <td>NaN</td>\n",
       "      <td>NaN</td>\n",
       "      <td>NaN</td>\n",
       "      <td>NaN</td>\n",
       "      <td>NaN</td>\n",
       "      <td>NaN</td>\n",
       "      <td>NaN</td>\n",
       "      <td>NaN</td>\n",
       "    </tr>\n",
       "    <tr>\n",
       "      <th>4</th>\n",
       "      <td>96626370</td>\n",
       "      <td>Crisis</td>\n",
       "      <td>NaN</td>\n",
       "      <td>12/31/2021 22:45</td>\n",
       "      <td>12/31/2021 22:55</td>\n",
       "      <td>10</td>\n",
       "      <td>2479348</td>\n",
       "      <td>136748</td>\n",
       "      <td>Lisa Crawford</td>\n",
       "      <td>NaN</td>\n",
       "      <td>...</td>\n",
       "      <td>NaN</td>\n",
       "      <td>NaN</td>\n",
       "      <td>NaN</td>\n",
       "      <td>NaN</td>\n",
       "      <td>NaN</td>\n",
       "      <td>NaN</td>\n",
       "      <td>NaN</td>\n",
       "      <td>NaN</td>\n",
       "      <td>NaN</td>\n",
       "      <td>NaN</td>\n",
       "    </tr>\n",
       "  </tbody>\n",
       "</table>\n",
       "<p>5 rows × 314 columns</p>\n",
       "</div>"
      ],
      "text/plain": [
       "1 CallReportNum ReportVersion LinkedToCallReportNum CallDateAndTimeStart  \\\n",
       "0                         NaN                   NaN                  NaN   \n",
       "1      96627022        Crisis                   NaN     12/31/2021 23:35   \n",
       "2      96626934        Crisis                   NaN     12/31/2021 23:29   \n",
       "3      96626654        Crisis                   NaN     12/31/2021 23:07   \n",
       "4      96626370        Crisis                   NaN     12/31/2021 22:45   \n",
       "\n",
       "1 CallDateAndTimeEnd CallLength CallerNum PhoneWorkerNum PhoneWorkerName  \\\n",
       "0                NaN        NaN       NaN            NaN             NaN   \n",
       "1   12/31/2021 23:58         23        -1         136748   Lisa Crawford   \n",
       "2   12/31/2021 23:35          6        -1         136748   Lisa Crawford   \n",
       "3   12/31/2021 23:28         21   1030262         136748   Lisa Crawford   \n",
       "4   12/31/2021 22:55         10   2479348         136748   Lisa Crawford   \n",
       "\n",
       "1 WasRealCall  ...  \\\n",
       "0         NaN  ...   \n",
       "1         NaN  ...   \n",
       "2         NaN  ...   \n",
       "3         NaN  ...   \n",
       "4         NaN  ...   \n",
       "\n",
       "1 SUI AX Third-Party Risk Assessment Demographics - SUI AX Does this risk assesment have different demographics than the caller? (Third-party Call)  \\\n",
       "0                                                NaN                                                                                                  \n",
       "1                                                NaN                                                                                                  \n",
       "2                                                NaN                                                                                                  \n",
       "3                                                NaN                                                                                                  \n",
       "4                                                NaN                                                                                                  \n",
       "\n",
       "1 Suicide Assessment - Are you thinking of suicide?  \\\n",
       "0                                               NaN   \n",
       "1                                               NaN   \n",
       "2                                               NaN   \n",
       "3                                               NaN   \n",
       "4                                               NaN   \n",
       "\n",
       "1 Suicide Assessment - Caller is having thoughts of killing self or other  \\\n",
       "0                                                NaN                        \n",
       "1                                                NaN                        \n",
       "2                                                NaN                        \n",
       "3                                                NaN                        \n",
       "4                                                NaN                        \n",
       "\n",
       "1 Suicide Assessment - Do you own a firearm?  \\\n",
       "0                                        NaN   \n",
       "1                                        NaN   \n",
       "2                                        NaN   \n",
       "3                                        NaN   \n",
       "4                                        NaN   \n",
       "\n",
       "1 Suicide Assessment - Have you ever attempted to kill yourself?  \\\n",
       "0                                                NaN               \n",
       "1                                                NaN               \n",
       "2                                                NaN               \n",
       "3                                                NaN               \n",
       "4                                                NaN               \n",
       "\n",
       "1 Suicide Assessment - Have you thought about suicide in the last two months?  \\\n",
       "0                                                NaN                            \n",
       "1                                                NaN                            \n",
       "2                                                NaN                            \n",
       "3                                                NaN                            \n",
       "4                                                NaN                            \n",
       "\n",
       "1 Suicide Assessment - Suicide in progress?  \\\n",
       "0                                       NaN   \n",
       "1                                       NaN   \n",
       "2                                       NaN   \n",
       "3                                       NaN   \n",
       "4                                       NaN   \n",
       "\n",
       "1 Transfer Information - Were you transferred to this line from another crisis line or agency?  \\\n",
       "0                                                NaN                                             \n",
       "1                                                NaN                                             \n",
       "2                                                NaN                                             \n",
       "3                                                NaN                                             \n",
       "4                                                NaN                                             \n",
       "\n",
       "1 Transfer Information - Which line/agency transferred you to this Crisis Line?  \\\n",
       "0                                                NaN                              \n",
       "1                                                NaN                              \n",
       "2                                                NaN                              \n",
       "3                                                NaN                              \n",
       "4                                                NaN                              \n",
       "\n",
       "1  NaN  \n",
       "0  NaN  \n",
       "1  NaN  \n",
       "2  NaN  \n",
       "3  NaN  \n",
       "4  NaN  \n",
       "\n",
       "[5 rows x 314 columns]"
      ]
     },
     "execution_count": 25,
     "metadata": {},
     "output_type": "execute_result"
    }
   ],
   "source": [
    "NSSCrisis_df.head()"
   ]
  },
  {
   "cell_type": "markdown",
   "metadata": {},
   "source": [
    "##### Statistics is decision making in the face of uncertainty or variablity\n",
    " - GOAL: can we understand the metrics that explain how many years a person played sports?"
   ]
  },
  {
   "cell_type": "code",
   "execution_count": null,
   "metadata": {},
   "outputs": [],
   "source": [
    "people_df.head()"
   ]
  },
  {
   "cell_type": "markdown",
   "metadata": {},
   "source": [
    "### Common descriptive statistics\n",
    " - measures of central tendency (mean, median, mode)\n",
    " - measures of variability (standard deviation, variance)\n",
    " - distribution metrics (quartiles, interquartile range, outliers)"
   ]
  },
  {
   "cell_type": "code",
   "execution_count": null,
   "metadata": {},
   "outputs": [],
   "source": [
    "people_df['weight'].value_counts()\n",
    "\n",
    "#normalize = True finds percentage of bin\n",
    "#sort = False\n",
    "#ascending = True\n",
    "#bins = 5\n",
    "#.sort_index()"
   ]
  },
  {
   "cell_type": "code",
   "execution_count": null,
   "metadata": {},
   "outputs": [],
   "source": [
    "pd.DataFrame(people_df['sex'].value_counts(dropna = False))"
   ]
  },
  {
   "cell_type": "code",
   "execution_count": null,
   "metadata": {},
   "outputs": [],
   "source": [
    "people_df.describe()\n",
    "\n",
    "#percentiles = [.1, .2, .3, .4, .5, .6, .7, .8, .9]\n",
    "#include = 'all'"
   ]
  },
  {
   "cell_type": "markdown",
   "metadata": {},
   "source": [
    " -  What are the mean, median and mode for `weight`?"
   ]
  },
  {
   "cell_type": "code",
   "execution_count": null,
   "metadata": {},
   "outputs": [],
   "source": [
    "# mean is 169.95\n",
    "# median is 166\n",
    "# mode is 140 -- most frequent\n",
    "people_df.weight.value_counts()#.sort_index()"
   ]
  },
  {
   "cell_type": "markdown",
   "metadata": {},
   "source": [
    " - What are the following values for `years_played_sports`?\n",
    "    - Minimum  \n",
    "    - Maximum  \n",
    "    - 1st Quartile  \n",
    "    - 2nd Quartile  \n",
    "    - 3rd Quartile  \n",
    "    - Interquartile Range (IQR) (Difference between the 1st and 3rd quartiles) "
   ]
  },
  {
   "cell_type": "code",
   "execution_count": null,
   "metadata": {},
   "outputs": [],
   "source": [
    "people_desc = people_df.describe()\n",
    "people_desc"
   ]
  },
  {
   "cell_type": "code",
   "execution_count": null,
   "metadata": {},
   "outputs": [],
   "source": [
    "IQR = people_desc.loc['75%', 'years_played_sports'] - people_desc.loc['25%', 'years_played_sports']\n",
    "print(IQR)"
   ]
  },
  {
   "cell_type": "code",
   "execution_count": null,
   "metadata": {},
   "outputs": [],
   "source": [
    "#see below for explanation\n",
    "low_outliers_s = 1 - (1.5 * 9.0)\n",
    "print(low_outliers_s)\n",
    "high_outliers_s = 10 + (1.5 * 9.0)\n",
    "print(high_outliers_s)\n",
    "\n",
    "#good way to select a single column value\n",
    "low_outliers = people_desc.loc['25%', 'years_played_sports'] - (1.5 * IQR)\n",
    "print(low_outliers)\n",
    "high_outliers = people_desc.loc['75%', 'years_played_sports'] + (1.5 * IQR)\n",
    "print(high_outliers)"
   ]
  },
  {
   "cell_type": "code",
   "execution_count": null,
   "metadata": {},
   "outputs": [],
   "source": [
    "low_outliers_2 = people_desc.loc['25%', 'years_played_sports']-(1.5 * (people_desc.loc['75%', 'years_played_sports']-people_desc.loc['25%', 'years_played_sports']))"
   ]
  },
  {
   "cell_type": "code",
   "execution_count": null,
   "metadata": {},
   "outputs": [],
   "source": [
    "low_outliers_2"
   ]
  },
  {
   "cell_type": "markdown",
   "metadata": {},
   "source": [
    "- Outliers can be mathematically determined. They are values that fall below (Q1 − 1.5 IQR) or above (Q3 + 1.5 IQR)\n",
    "    - how many outliers are there for `years_played_sports`?"
   ]
  },
  {
   "cell_type": "code",
   "execution_count": null,
   "metadata": {},
   "outputs": [],
   "source": [
    "people_df.loc[:, 'years_played_sports'].sort_values()"
   ]
  },
  {
   "cell_type": "code",
   "execution_count": null,
   "metadata": {},
   "outputs": [],
   "source": [
    "#how many outliers would we calculate?\n",
    "print(len(people_df.loc[(people_df.years_played_sports < -12.5) | (people_df.years_played_sports > 23.5)]))\n",
    "sns.boxplot(people_df.years_played_sports);"
   ]
  },
  {
   "cell_type": "markdown",
   "metadata": {},
   "source": [
    "The length of the upper whisker is the largest value that is no greater than the third quartile plus 1.5 times the interquartile range. And the length of the lower whisker is the smallest value that is no less than the first quartile minus 1.5 times the interquartile range."
   ]
  },
  {
   "cell_type": "markdown",
   "metadata": {},
   "source": [
    "### [Correlations](https://statistics.laerd.com/statistical-guides/pearson-correlation-coefficient-statistical-guide.php) help us understand if variables _may_ have an underlying relationship\n",
    "- a perfect positive correlation is 1.0 ; positive correlation means variables are moving in the same direction (when one increases, the other increases)\n",
    "- a perfect negative correlation is -1.0 ; negative correlation means variables are moving in the opposite direction (when one increases, the other decreases)\n",
    "- interpreting correlation depends on the context and purpose!\n"
   ]
  },
  {
   "cell_type": "code",
   "execution_count": null,
   "metadata": {},
   "outputs": [],
   "source": [
    "people_df.corr()"
   ]
  },
  {
   "cell_type": "markdown",
   "metadata": {},
   "source": [
    " - Which variables in our dataset are most highly correlated with each other?\n",
    " - Which variables might explain the variability in `years_played_sports`?"
   ]
  },
  {
   "cell_type": "code",
   "execution_count": null,
   "metadata": {},
   "outputs": [],
   "source": [
    "fig, ax = plt.subplots(figsize=(6, 6))\n",
    "\n",
    "corr = people_df.corr()\n",
    "# create a custom diverging colormap\n",
    "cmap = sns.diverging_palette(220, 10, as_cmap=True)\n",
    "\n",
    "# Generate a mask for the upper triangle\n",
    "mask = np.zeros_like(corr, dtype=np.bool)\n",
    "mask[np.triu_indices_from(mask)] = True\n",
    "\n",
    "# Draw the heatmap with the mask and correct aspect ratio\n",
    "sns.heatmap(corr, cmap=cmap, mask = mask, center=0,\n",
    "            square=True, linewidths=.5, cbar_kws={\"shrink\": .5});\n",
    "#seaborn diverging palette"
   ]
  },
  {
   "cell_type": "markdown",
   "metadata": {},
   "source": [
    "### Normalization\n",
    " - Does the `years_played_sports` variable have the same meaning for all people in the dataset? Is a 70 yo with 5 years of sports the same as a 20 yo with 5 years of sports?\n",
    " - How would you normalize it?"
   ]
  },
  {
   "cell_type": "code",
   "execution_count": null,
   "metadata": {},
   "outputs": [],
   "source": [
    "#normalization is making data comparative\n",
    "people_df['pct_life_sports'] = people_df.years_played_sports/people_df.age\n",
    "people_df"
   ]
  },
  {
   "cell_type": "code",
   "execution_count": null,
   "metadata": {},
   "outputs": [],
   "source": [
    "people_df.corr()"
   ]
  },
  {
   "cell_type": "markdown",
   "metadata": {},
   "source": [
    "- Correlation between a variable you are trying to explain (sometimes called the dependent variable or target) and a variable that might explain it (independent variable or explanatory variable) helps us understand the target better.  \n",
    "- Correlation between two explanatory variables may cause us to overestimate their importance to explaining the variance in the target. Think about _why_ variables might be highly correlated.\n",
    " "
   ]
  },
  {
   "cell_type": "markdown",
   "metadata": {},
   "source": [
    "#### Feature Engineering"
   ]
  },
  {
   "cell_type": "markdown",
   "metadata": {},
   "source": [
    "##### These could be from an external dataset or from the provided data"
   ]
  },
  {
   "cell_type": "markdown",
   "metadata": {},
   "source": [
    "- compare bmi to an optimal bmi\n",
    "- categorize as `oldest`, `middle`, `youngest`, or `only` child"
   ]
  },
  {
   "cell_type": "code",
   "execution_count": null,
   "metadata": {},
   "outputs": [],
   "source": [
    "men_bmi_age = pd.read_csv('../data/men_bmi_age.csv')\n",
    "women_bmi_age = pd.read_csv('../data/women_bmi_age.csv')"
   ]
  },
  {
   "cell_type": "code",
   "execution_count": null,
   "metadata": {},
   "outputs": [],
   "source": [
    "men_bmi_age.head()"
   ]
  },
  {
   "cell_type": "code",
   "execution_count": null,
   "metadata": {},
   "outputs": [],
   "source": [
    "women_bmi_age.head()"
   ]
  },
  {
   "cell_type": "code",
   "execution_count": null,
   "metadata": {},
   "outputs": [],
   "source": [
    "people_df_men = people_df[people_df['sex'] == 'M']\n",
    "people_df_women = people_df[people_df['sex'] == 'F']\n",
    "people_df_unk = people_df[~people_df['sex'].isin(['M', 'F'])]\n",
    "#opposite of what you're trying to find without it\n",
    "people_df_unk_2 = people_df[people_df['sex'].isnull()]"
   ]
  },
  {
   "cell_type": "code",
   "execution_count": null,
   "metadata": {
    "scrolled": true
   },
   "outputs": [],
   "source": [
    "people_df_men.head()"
   ]
  },
  {
   "cell_type": "code",
   "execution_count": null,
   "metadata": {},
   "outputs": [],
   "source": [
    "people_df_women.head()"
   ]
  },
  {
   "cell_type": "code",
   "execution_count": null,
   "metadata": {},
   "outputs": [],
   "source": [
    "people_df_unk"
   ]
  },
  {
   "cell_type": "code",
   "execution_count": null,
   "metadata": {},
   "outputs": [],
   "source": [
    "people_df_unk_2"
   ]
  },
  {
   "cell_type": "code",
   "execution_count": null,
   "metadata": {},
   "outputs": [],
   "source": [
    "people_df_men = pd.merge(people_df_men, men_bmi_age, how = 'left', on = 'age')\n",
    "people_df_women = pd.merge(people_df_women, women_bmi_age, how = 'left', on = 'age')"
   ]
  },
  {
   "cell_type": "code",
   "execution_count": null,
   "metadata": {},
   "outputs": [],
   "source": [
    "people_df_men.head()"
   ]
  },
  {
   "cell_type": "code",
   "execution_count": null,
   "metadata": {},
   "outputs": [],
   "source": [
    "people_df_men['diff_optimal_bmi'] = people_df_men['optimal_bmi'] - people_df_men['bmi']\n",
    "people_df_women['diff_optimal_bmi'] = people_df_women['optimal_bmi'] - people_df_women['bmi']"
   ]
  },
  {
   "cell_type": "code",
   "execution_count": null,
   "metadata": {},
   "outputs": [],
   "source": [
    "people_df_men"
   ]
  },
  {
   "cell_type": "code",
   "execution_count": null,
   "metadata": {},
   "outputs": [],
   "source": [
    "people_df = pd.concat([people_df_women, people_df_men, people_df_unk])"
   ]
  },
  {
   "cell_type": "code",
   "execution_count": null,
   "metadata": {},
   "outputs": [],
   "source": [
    "people_df"
   ]
  },
  {
   "cell_type": "code",
   "execution_count": null,
   "metadata": {},
   "outputs": [],
   "source": [
    "people_df = people_df.reset_index(drop = True)"
   ]
  },
  {
   "cell_type": "code",
   "execution_count": null,
   "metadata": {},
   "outputs": [],
   "source": [
    "people_df['birth_category'] = ''"
   ]
  },
  {
   "cell_type": "code",
   "execution_count": null,
   "metadata": {},
   "outputs": [],
   "source": [
    "people_df"
   ]
  },
  {
   "cell_type": "code",
   "execution_count": null,
   "metadata": {},
   "outputs": [],
   "source": [
    "for ind, row in people_df.iterrows():\n",
    "    print('working on row: ', ind)\n",
    "    if row['sibling_count'] == 0:\n",
    "        people_df.loc[ind, 'birth_category'] = 'only'\n",
    "    elif row['birth_order'] == 1:\n",
    "        people_df.loc[ind, 'birth_category'] ='oldest'\n",
    "    elif row['birth_order'] > row['sibling_count']:\n",
    "        people_df.loc[ind, 'birth_category'] ='youngest'\n",
    "    else:\n",
    "        people_df.loc[ind, 'birth_category'] ='middle'\n",
    "print('finished!') #need to have this to see progress"
   ]
  },
  {
   "cell_type": "code",
   "execution_count": null,
   "metadata": {},
   "outputs": [],
   "source": [
    "people_df"
   ]
  },
  {
   "cell_type": "code",
   "execution_count": null,
   "metadata": {},
   "outputs": [],
   "source": []
  }
 ],
 "metadata": {
  "kernelspec": {
   "display_name": "Python 3 (ipykernel)",
   "language": "python",
   "name": "python3"
  },
  "language_info": {
   "codemirror_mode": {
    "name": "ipython",
    "version": 3
   },
   "file_extension": ".py",
   "mimetype": "text/x-python",
   "name": "python",
   "nbconvert_exporter": "python",
   "pygments_lexer": "ipython3",
   "version": "3.9.7"
  }
 },
 "nbformat": 4,
 "nbformat_minor": 2
}
