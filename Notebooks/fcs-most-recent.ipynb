{
 "cells": [
  {
   "cell_type": "markdown",
   "metadata": {},
   "source": [
    "### Four Types of Analytics\n",
    "![chart](../images/4-types-of-data-analytics-01.png)"
   ]
  },
  {
   "cell_type": "code",
   "execution_count": null,
   "metadata": {},
   "outputs": [],
   "source": [
    "import numpy as np\n",
    "import pandas as pd\n",
    "import matplotlib.pyplot as plt\n",
    "import seaborn as sns\n",
    "\n",
    "%matplotlib inline"
   ]
  },
  {
   "cell_type": "markdown",
   "metadata": {},
   "source": [
    "#### Let's get some data and take a look"
   ]
  },
  {
   "cell_type": "code",
   "execution_count": null,
   "metadata": {},
   "outputs": [],
   "source": [
    "NSSCrisis1_df = pd.read_csv('../Data/NSSCrisisv.1.csv')"
   ]
  },
  {
   "cell_type": "code",
   "execution_count": null,
   "metadata": {},
   "outputs": [],
   "source": [
    "NSSCrisis2_df = pd.read_csv('../Data/NSSCrisisv.2.csv')"
   ]
  },
  {
   "cell_type": "code",
   "execution_count": null,
   "metadata": {},
   "outputs": [],
   "source": [
    "CallCenter_2020 = pd.read_csv('../data/Contact_center_call_volume_2020.csv')"
   ]
  },
  {
   "cell_type": "code",
   "execution_count": null,
   "metadata": {},
   "outputs": [],
   "source": [
    "CallCenter_2021 = pd.read_csv('../data/Contact_center_call_volume_2021.csv')"
   ]
  },
  {
   "cell_type": "code",
   "execution_count": null,
   "metadata": {},
   "outputs": [],
   "source": [
    "CallCenter_2022 = pd.read_csv('../data/Contact center call volume_2022.csv')"
   ]
  },
  {
   "cell_type": "code",
   "execution_count": null,
   "metadata": {},
   "outputs": [],
   "source": []
  },
  {
   "cell_type": "code",
   "execution_count": null,
   "metadata": {},
   "outputs": [],
   "source": [
    "NSSCrisis1_df.shape"
   ]
  },
  {
   "cell_type": "code",
   "execution_count": null,
   "metadata": {},
   "outputs": [],
   "source": [
    "NSSCrisis2_df.shape"
   ]
  },
  {
   "cell_type": "code",
   "execution_count": null,
   "metadata": {},
   "outputs": [],
   "source": [
    "CallCenter_2020.shape"
   ]
  },
  {
   "cell_type": "code",
   "execution_count": null,
   "metadata": {},
   "outputs": [],
   "source": [
    "CallCenter_2021.shape"
   ]
  },
  {
   "cell_type": "code",
   "execution_count": null,
   "metadata": {},
   "outputs": [],
   "source": [
    "CallCenter_2022.shape"
   ]
  },
  {
   "cell_type": "code",
   "execution_count": null,
   "metadata": {},
   "outputs": [],
   "source": [
    "NSSCrisis1_df.head()"
   ]
  },
  {
   "cell_type": "code",
   "execution_count": null,
   "metadata": {},
   "outputs": [],
   "source": [
    "header_row = 1"
   ]
  },
  {
   "cell_type": "code",
   "execution_count": null,
   "metadata": {},
   "outputs": [],
   "source": [
    "NSSCrisis1_df.columns = NSSCrisis1_df.iloc[header_row]"
   ]
  },
  {
   "cell_type": "code",
   "execution_count": null,
   "metadata": {},
   "outputs": [],
   "source": [
    "NSSCrisis1_df = NSSCrisis1_df.drop(header_row)"
   ]
  },
  {
   "cell_type": "code",
   "execution_count": null,
   "metadata": {},
   "outputs": [],
   "source": [
    "NSSCrisis1_df = NSSCrisis1_df.reset_index(drop=True)\n",
    "NSSCrisis1_df.head()"
   ]
  },
  {
   "cell_type": "code",
   "execution_count": null,
   "metadata": {},
   "outputs": [],
   "source": [
    "NSSCrisis2_df.head()"
   ]
  },
  {
   "cell_type": "code",
   "execution_count": null,
   "metadata": {},
   "outputs": [],
   "source": [
    "NSSCrisis2_df.columns = NSSCrisis2_df.iloc[header_row]"
   ]
  },
  {
   "cell_type": "code",
   "execution_count": null,
   "metadata": {},
   "outputs": [],
   "source": [
    "NSSCrisis2_df = NSSCrisis2_df.drop(header_row)"
   ]
  },
  {
   "cell_type": "code",
   "execution_count": null,
   "metadata": {},
   "outputs": [],
   "source": [
    "NSSCrisis2_df = NSSCrisis2_df.reset_index(drop=True)\n",
    "NSSCrisis2_df.head()"
   ]
  },
  {
   "cell_type": "code",
   "execution_count": null,
   "metadata": {},
   "outputs": [],
   "source": []
  },
  {
   "cell_type": "code",
   "execution_count": null,
   "metadata": {},
   "outputs": [],
   "source": []
  },
  {
   "cell_type": "code",
   "execution_count": null,
   "metadata": {},
   "outputs": [],
   "source": []
  },
  {
   "cell_type": "code",
   "execution_count": null,
   "metadata": {},
   "outputs": [],
   "source": [
    "NSSCrisis_df = pd.concat([NSSCrisis1_df, NSSCrisis2_df], axis=0, ignore_index=True)"
   ]
  },
  {
   "cell_type": "code",
   "execution_count": null,
   "metadata": {},
   "outputs": [],
   "source": [
    "NSSCrisis_df.shape"
   ]
  },
  {
   "cell_type": "code",
   "execution_count": null,
   "metadata": {},
   "outputs": [],
   "source": [
    "NSSCrisis_df.head()"
   ]
  },
  {
   "cell_type": "code",
   "execution_count": null,
   "metadata": {},
   "outputs": [],
   "source": [
    "CallCenter_df_temp = pd.concat([CallCenter_2020, CallCenter_2021], axis=0, ignore_index=True)"
   ]
  },
  {
   "cell_type": "code",
   "execution_count": null,
   "metadata": {},
   "outputs": [],
   "source": [
    "CallCenter_df_temp.shape"
   ]
  },
  {
   "cell_type": "code",
   "execution_count": null,
   "metadata": {},
   "outputs": [],
   "source": [
    "CallCenter_df = pd.concat([CallCenter_df_temp, CallCenter_2022], axis=0, ignore_index=True)"
   ]
  },
  {
   "cell_type": "code",
   "execution_count": null,
   "metadata": {},
   "outputs": [],
   "source": [
    "CallCenter_df.shape"
   ]
  },
  {
   "cell_type": "code",
   "execution_count": null,
   "metadata": {
    "scrolled": true
   },
   "outputs": [],
   "source": [
    "NSSCrisis_df.head()"
   ]
  },
  {
   "cell_type": "code",
   "execution_count": null,
   "metadata": {},
   "outputs": [],
   "source": [
    "#header_row = 1"
   ]
  },
  {
   "cell_type": "code",
   "execution_count": null,
   "metadata": {},
   "outputs": [],
   "source": [
    "#NSSCrisis_df.columns = NSSCrisis_df.iloc[header_row]"
   ]
  },
  {
   "cell_type": "code",
   "execution_count": null,
   "metadata": {},
   "outputs": [],
   "source": [
    "#NSSCrisis_df = NSSCrisis_df.drop(header_row)"
   ]
  },
  {
   "cell_type": "code",
   "execution_count": null,
   "metadata": {},
   "outputs": [],
   "source": [
    "#NSSCrisis_df = NSSCrisis_df.reset_index(drop=True)\n",
    "#NSSCrisis_df.head()"
   ]
  },
  {
   "cell_type": "code",
   "execution_count": null,
   "metadata": {},
   "outputs": [],
   "source": [
    "NSSCrisis_df = NSSCrisis_df.drop(0)"
   ]
  },
  {
   "cell_type": "code",
   "execution_count": null,
   "metadata": {},
   "outputs": [],
   "source": [
    "NSSCrisis_df = NSSCrisis_df.reset_index(drop=True)"
   ]
  },
  {
   "cell_type": "code",
   "execution_count": null,
   "metadata": {},
   "outputs": [],
   "source": [
    "NSSCrisis_df.head()"
   ]
  },
  {
   "cell_type": "code",
   "execution_count": null,
   "metadata": {},
   "outputs": [],
   "source": [
    "print(list(NSSCrisis_df.columns))"
   ]
  },
  {
   "cell_type": "code",
   "execution_count": null,
   "metadata": {},
   "outputs": [],
   "source": [
    "#index shows column index -- can be used to exclude columns with nan data\n",
    "idx_dic = {}\n",
    "for col in NSSCrisis_df.columns:\n",
    "    idx_dic[col] = 63528 - NSSCrisis_df[col].isna().sum()\n",
    "#print(idx_dic)\n",
    "index_col_nan = pd.DataFrame(list(idx_dic.items()),columns = ['col_name','num_good_data'])\n",
    "index_col_nan['%'] = ((index_col_nan['num_good_data'])/63528)*100\n",
    "pd.set_option('display.max_rows', None)\n",
    "pd.set_option('display.max_columns', None)\n",
    "pd.set_option('display.width', None)\n",
    "pd.set_option('display.max_colwidth', None)\n",
    "index_col_nan\n",
    "#pd.reset_option('all')"
   ]
  },
  {
   "cell_type": "code",
   "execution_count": null,
   "metadata": {},
   "outputs": [],
   "source": [
    "good_data_df = index_col_nan.sort_values(['%'], ascending=[False])\n",
    "good_data_df"
   ]
  },
  {
   "cell_type": "code",
   "execution_count": null,
   "metadata": {},
   "outputs": [],
   "source": [
    "NSSCrisis_df['PostalCode'].value_counts()\n",
    "#df2=df[df['Fee']==22000]['Courses'].values[0]"
   ]
  },
  {
   "cell_type": "code",
   "execution_count": null,
   "metadata": {},
   "outputs": [],
   "source": [
    "NSSCrisis_df['CRISIS Demographics - Military'].value_counts(normalize=True)"
   ]
  },
  {
   "cell_type": "code",
   "execution_count": null,
   "metadata": {},
   "outputs": [],
   "source": [
    "NSSCrisis_df['CRISIS Demographics - Gender Identity'].value_counts()"
   ]
  },
  {
   "cell_type": "markdown",
   "metadata": {},
   "source": [
    "### 1. Examine call volume and identify surge times, seasons, or events."
   ]
  },
  {
   "cell_type": "code",
   "execution_count": null,
   "metadata": {},
   "outputs": [],
   "source": [
    "#Read first row\n",
    "NSSCrisis_df.iloc[0]"
   ]
  },
  {
   "cell_type": "code",
   "execution_count": null,
   "metadata": {},
   "outputs": [],
   "source": [
    "NSSCrisis_df['Year'] = NSSCrisis_df['CallDateAndTimeStart'].str.extract('\\d{2}/\\d{2}/(\\d{4})', expand=True)\n",
    "NSSCrisis_df['Year'].head()"
   ]
  },
  {
   "cell_type": "code",
   "execution_count": null,
   "metadata": {},
   "outputs": [],
   "source": [
    "NSSCrisis_df['Date'] = NSSCrisis_df['CallDateAndTimeStart'].str.extract('(\\d{2}/\\d{2}/\\d{4})', expand=True)\n",
    "NSSCrisis_df['Date'].head()"
   ]
  },
  {
   "cell_type": "code",
   "execution_count": null,
   "metadata": {},
   "outputs": [],
   "source": [
    "NSSCrisis_df['Day'] = NSSCrisis_df['CallDateAndTimeStart'].str.extract('\\d{2}/(\\d{2})/\\d{4}', expand=True)\n",
    "NSSCrisis_df['Day'].head()"
   ]
  },
  {
   "cell_type": "code",
   "execution_count": null,
   "metadata": {},
   "outputs": [],
   "source": [
    "NSSCrisis_df['Month'] = NSSCrisis_df['CallDateAndTimeStart'].str.extract('(\\d{2})/\\d{2}/\\d{4}', expand=True)\n",
    "NSSCrisis_df['Month'].head()"
   ]
  },
  {
   "cell_type": "markdown",
   "metadata": {},
   "source": [
    "### 3. Assess regional and demographic trends in call content and call volume."
   ]
  },
  {
   "cell_type": "code",
   "execution_count": null,
   "metadata": {},
   "outputs": [],
   "source": [
    "#Looking at Military Data\n",
    "NSSCrisis_df.groupby(['CRISIS Demographics - Military','Year'])['CallReportNum'].count()"
   ]
  },
  {
   "cell_type": "code",
   "execution_count": null,
   "metadata": {},
   "outputs": [],
   "source": [
    "#Veterans grouped by Zipcode\n",
    "NSSCrisis_df.groupby(['CRISIS Demographics - Military','Year', 'PostalCode'])['CallReportNum'].count()"
   ]
  },
  {
   "cell_type": "code",
   "execution_count": null,
   "metadata": {},
   "outputs": [],
   "source": [
    "NSSCrisis_df[NSSCrisis_df['PostalCode'] == '38012'].groupby(['Year'])['CallReportNum'].count()"
   ]
  },
  {
   "cell_type": "code",
   "execution_count": null,
   "metadata": {},
   "outputs": [],
   "source": [
    "#looking at percentage of calls by zipcode\n",
    "NSSCrisis_df['PostalCode'].value_counts(normalize=True).sort_values(ascending=False)"
   ]
  },
  {
   "cell_type": "code",
   "execution_count": null,
   "metadata": {},
   "outputs": [],
   "source": [
    "#Value counts after group by example\n",
    "#NSSCrisis_df.groupby('CRISIS Demographics - Education Level')['CRISIS Demographics - Occupation'].value_counts()\n"
   ]
  },
  {
   "cell_type": "code",
   "execution_count": null,
   "metadata": {},
   "outputs": [],
   "source": [
    "#Looking at content of military calls\n",
    "NSSCrisis_df[NSSCrisis_df['CRISIS Demographics - Military'] == 'Veteran'].groupby('CRISIS Demographics - Military')['CRISIS Issues - Emotional State'].value_counts().sort_values(ascending=False)"
   ]
  },
  {
   "cell_type": "raw",
   "metadata": {},
   "source": []
  },
  {
   "cell_type": "code",
   "execution_count": null,
   "metadata": {},
   "outputs": [],
   "source": [
    "#looking at homeless data\n",
    "NSSCrisis_df['CRISIS Demographics - Homeless?'].value_counts()"
   ]
  },
  {
   "cell_type": "code",
   "execution_count": null,
   "metadata": {},
   "outputs": [],
   "source": [
    "#homeless military relationship\n",
    "NSSCrisis_df[NSSCrisis_df['CRISIS Demographics - Homeless?'] == 'Yes'].groupby('CRISIS Demographics - Military')['CRISIS Demographics - Military'].value_counts().sort_values(ascending=False)"
   ]
  },
  {
   "cell_type": "code",
   "execution_count": null,
   "metadata": {},
   "outputs": [],
   "source": [
    "#homeless content\n",
    "NSSCrisis_df[(NSSCrisis_df['CRISIS Demographics - Homeless?'] == 'Yes') & (NSSCrisis_df['CRISIS Issues - Emotional State'].str.contains('Anxious'))].groupby('CRISIS Issues - Emotional State')['CRISIS Issues - Emotional State'].count()"
   ]
  },
  {
   "cell_type": "code",
   "execution_count": null,
   "metadata": {},
   "outputs": [],
   "source": [
    "#homeless content count for Anxious\n",
    "NSSCrisis_df[(NSSCrisis_df['CRISIS Demographics - Homeless?'] == 'Yes')]['CRISIS Issues - Emotional State'].str.contains('Anxious').count()"
   ]
  },
  {
   "cell_type": "code",
   "execution_count": null,
   "metadata": {},
   "outputs": [],
   "source": [
    "#homeless content count for Depressed\n",
    "NSSCrisis_df[(NSSCrisis_df['CRISIS Demographics - Homeless?'] == 'Yes')]['CRISIS Issues - Emotional State'].str.contains('Depressed').count()"
   ]
  },
  {
   "cell_type": "code",
   "execution_count": null,
   "metadata": {},
   "outputs": [],
   "source": [
    "#homeless calls by month\n",
    "NSSCrisis_df[NSSCrisis_df['CRISIS Demographics - Homeless?'] == 'Yes'].groupby(['Year','Month'])['CallReportNum'].count()"
   ]
  },
  {
   "cell_type": "code",
   "execution_count": null,
   "metadata": {},
   "outputs": [],
   "source": [
    "#homeless calls by month\n",
    "NSSCrisis_df[NSSCrisis_df['CRISIS Demographics - Homeless?'] == 'Yes'].groupby(['Date'])['CallReportNum'].count()"
   ]
  },
  {
   "cell_type": "code",
   "execution_count": null,
   "metadata": {},
   "outputs": [],
   "source": []
  },
  {
   "cell_type": "code",
   "execution_count": null,
   "metadata": {},
   "outputs": [],
   "source": [
    "#df.columns.isin([\"orange\", \"pear\"]))\n",
    "#index_no = df.columns.get_loc(col_name)"
   ]
  },
  {
   "cell_type": "code",
   "execution_count": null,
   "metadata": {},
   "outputs": [],
   "source": [
    "people_df.head()"
   ]
  },
  {
   "cell_type": "markdown",
   "metadata": {},
   "source": [
    "### Common descriptive statistics\n",
    " - measures of central tendency (mean, median, mode)\n",
    " - measures of variability (standard deviation, variance)\n",
    " - distribution metrics (quartiles, interquartile range, outliers)"
   ]
  },
  {
   "cell_type": "code",
   "execution_count": null,
   "metadata": {},
   "outputs": [],
   "source": [
    "people_df['weight'].value_counts()\n",
    "\n",
    "#normalize = True finds percentage of bin\n",
    "#sort = False\n",
    "#ascending = True\n",
    "#bins = 5\n",
    "#.sort_index()"
   ]
  },
  {
   "cell_type": "code",
   "execution_count": null,
   "metadata": {},
   "outputs": [],
   "source": [
    "pd.DataFrame(people_df['sex'].value_counts(dropna = False))"
   ]
  },
  {
   "cell_type": "code",
   "execution_count": null,
   "metadata": {},
   "outputs": [],
   "source": [
    "people_df.describe()\n",
    "\n",
    "#percentiles = [.1, .2, .3, .4, .5, .6, .7, .8, .9]\n",
    "#include = 'all'"
   ]
  },
  {
   "cell_type": "markdown",
   "metadata": {},
   "source": [
    " -  What are the mean, median and mode for `weight`?"
   ]
  },
  {
   "cell_type": "code",
   "execution_count": null,
   "metadata": {},
   "outputs": [],
   "source": [
    "# mean is 169.95\n",
    "# median is 166\n",
    "# mode is 140 -- most frequent\n",
    "people_df.weight.value_counts()#.sort_index()"
   ]
  },
  {
   "cell_type": "markdown",
   "metadata": {},
   "source": [
    " - What are the following values for `years_played_sports`?\n",
    "    - Minimum  \n",
    "    - Maximum  \n",
    "    - 1st Quartile  \n",
    "    - 2nd Quartile  \n",
    "    - 3rd Quartile  \n",
    "    - Interquartile Range (IQR) (Difference between the 1st and 3rd quartiles) "
   ]
  },
  {
   "cell_type": "code",
   "execution_count": null,
   "metadata": {},
   "outputs": [],
   "source": [
    "people_desc = people_df.describe()\n",
    "people_desc"
   ]
  },
  {
   "cell_type": "code",
   "execution_count": null,
   "metadata": {},
   "outputs": [],
   "source": [
    "IQR = people_desc.loc['75%', 'years_played_sports'] - people_desc.loc['25%', 'years_played_sports']\n",
    "print(IQR)"
   ]
  },
  {
   "cell_type": "code",
   "execution_count": null,
   "metadata": {},
   "outputs": [],
   "source": [
    "#see below for explanation\n",
    "low_outliers_s = 1 - (1.5 * 9.0)\n",
    "print(low_outliers_s)\n",
    "high_outliers_s = 10 + (1.5 * 9.0)\n",
    "print(high_outliers_s)\n",
    "\n",
    "#good way to select a single column value\n",
    "low_outliers = people_desc.loc['25%', 'years_played_sports'] - (1.5 * IQR)\n",
    "print(low_outliers)\n",
    "high_outliers = people_desc.loc['75%', 'years_played_sports'] + (1.5 * IQR)\n",
    "print(high_outliers)"
   ]
  },
  {
   "cell_type": "code",
   "execution_count": null,
   "metadata": {},
   "outputs": [],
   "source": [
    "low_outliers_2 = people_desc.loc['25%', 'years_played_sports']-(1.5 * (people_desc.loc['75%', 'years_played_sports']-people_desc.loc['25%', 'years_played_sports']))"
   ]
  },
  {
   "cell_type": "code",
   "execution_count": null,
   "metadata": {},
   "outputs": [],
   "source": [
    "low_outliers_2"
   ]
  },
  {
   "cell_type": "markdown",
   "metadata": {},
   "source": [
    "- Outliers can be mathematically determined. They are values that fall below (Q1 − 1.5 IQR) or above (Q3 + 1.5 IQR)\n",
    "    - how many outliers are there for `years_played_sports`?"
   ]
  },
  {
   "cell_type": "code",
   "execution_count": null,
   "metadata": {},
   "outputs": [],
   "source": [
    "people_df.loc[:, 'years_played_sports'].sort_values()"
   ]
  },
  {
   "cell_type": "code",
   "execution_count": null,
   "metadata": {},
   "outputs": [],
   "source": [
    "#how many outliers would we calculate?\n",
    "print(len(people_df.loc[(people_df.years_played_sports < -12.5) | (people_df.years_played_sports > 23.5)]))\n",
    "sns.boxplot(people_df.years_played_sports);"
   ]
  },
  {
   "cell_type": "markdown",
   "metadata": {},
   "source": [
    "The length of the upper whisker is the largest value that is no greater than the third quartile plus 1.5 times the interquartile range. And the length of the lower whisker is the smallest value that is no less than the first quartile minus 1.5 times the interquartile range."
   ]
  },
  {
   "cell_type": "markdown",
   "metadata": {},
   "source": [
    "### [Correlations](https://statistics.laerd.com/statistical-guides/pearson-correlation-coefficient-statistical-guide.php) help us understand if variables _may_ have an underlying relationship\n",
    "- a perfect positive correlation is 1.0 ; positive correlation means variables are moving in the same direction (when one increases, the other increases)\n",
    "- a perfect negative correlation is -1.0 ; negative correlation means variables are moving in the opposite direction (when one increases, the other decreases)\n",
    "- interpreting correlation depends on the context and purpose!\n"
   ]
  },
  {
   "cell_type": "code",
   "execution_count": null,
   "metadata": {},
   "outputs": [],
   "source": [
    "people_df.corr()"
   ]
  },
  {
   "cell_type": "markdown",
   "metadata": {},
   "source": [
    " - Which variables in our dataset are most highly correlated with each other?\n",
    " - Which variables might explain the variability in `years_played_sports`?"
   ]
  },
  {
   "cell_type": "code",
   "execution_count": null,
   "metadata": {},
   "outputs": [],
   "source": [
    "fig, ax = plt.subplots(figsize=(6, 6))\n",
    "\n",
    "corr = people_df.corr()\n",
    "# create a custom diverging colormap\n",
    "cmap = sns.diverging_palette(220, 10, as_cmap=True)\n",
    "\n",
    "# Generate a mask for the upper triangle\n",
    "mask = np.zeros_like(corr, dtype=np.bool)\n",
    "mask[np.triu_indices_from(mask)] = True\n",
    "\n",
    "# Draw the heatmap with the mask and correct aspect ratio\n",
    "sns.heatmap(corr, cmap=cmap, mask = mask, center=0,\n",
    "            square=True, linewidths=.5, cbar_kws={\"shrink\": .5});\n",
    "#seaborn diverging palette"
   ]
  },
  {
   "cell_type": "markdown",
   "metadata": {},
   "source": [
    "### Normalization\n",
    " - Does the `years_played_sports` variable have the same meaning for all people in the dataset? Is a 70 yo with 5 years of sports the same as a 20 yo with 5 years of sports?\n",
    " - How would you normalize it?"
   ]
  },
  {
   "cell_type": "code",
   "execution_count": null,
   "metadata": {},
   "outputs": [],
   "source": [
    "#normalization is making data comparative\n",
    "people_df['pct_life_sports'] = people_df.years_played_sports/people_df.age\n",
    "people_df"
   ]
  },
  {
   "cell_type": "code",
   "execution_count": null,
   "metadata": {},
   "outputs": [],
   "source": [
    "people_df.corr()"
   ]
  },
  {
   "cell_type": "markdown",
   "metadata": {},
   "source": [
    "- Correlation between a variable you are trying to explain (sometimes called the dependent variable or target) and a variable that might explain it (independent variable or explanatory variable) helps us understand the target better.  \n",
    "- Correlation between two explanatory variables may cause us to overestimate their importance to explaining the variance in the target. Think about _why_ variables might be highly correlated.\n",
    " "
   ]
  },
  {
   "cell_type": "markdown",
   "metadata": {},
   "source": [
    "#### Feature Engineering"
   ]
  },
  {
   "cell_type": "markdown",
   "metadata": {},
   "source": [
    "##### These could be from an external dataset or from the provided data"
   ]
  },
  {
   "cell_type": "markdown",
   "metadata": {},
   "source": [
    "- compare bmi to an optimal bmi\n",
    "- categorize as `oldest`, `middle`, `youngest`, or `only` child"
   ]
  },
  {
   "cell_type": "code",
   "execution_count": null,
   "metadata": {},
   "outputs": [],
   "source": [
    "men_bmi_age = pd.read_csv('../data/men_bmi_age.csv')\n",
    "women_bmi_age = pd.read_csv('../data/women_bmi_age.csv')"
   ]
  },
  {
   "cell_type": "code",
   "execution_count": null,
   "metadata": {},
   "outputs": [],
   "source": [
    "men_bmi_age.head()"
   ]
  },
  {
   "cell_type": "code",
   "execution_count": null,
   "metadata": {},
   "outputs": [],
   "source": [
    "women_bmi_age.head()"
   ]
  },
  {
   "cell_type": "code",
   "execution_count": null,
   "metadata": {},
   "outputs": [],
   "source": [
    "people_df_men = people_df[people_df['sex'] == 'M']\n",
    "people_df_women = people_df[people_df['sex'] == 'F']\n",
    "people_df_unk = people_df[~people_df['sex'].isin(['M', 'F'])]\n",
    "#opposite of what you're trying to find without it\n",
    "people_df_unk_2 = people_df[people_df['sex'].isnull()]"
   ]
  },
  {
   "cell_type": "code",
   "execution_count": null,
   "metadata": {
    "scrolled": true
   },
   "outputs": [],
   "source": [
    "people_df_men.head()"
   ]
  },
  {
   "cell_type": "code",
   "execution_count": null,
   "metadata": {},
   "outputs": [],
   "source": [
    "people_df_women.head()"
   ]
  },
  {
   "cell_type": "code",
   "execution_count": null,
   "metadata": {},
   "outputs": [],
   "source": [
    "people_df_unk"
   ]
  },
  {
   "cell_type": "code",
   "execution_count": null,
   "metadata": {},
   "outputs": [],
   "source": [
    "people_df_unk_2"
   ]
  },
  {
   "cell_type": "code",
   "execution_count": null,
   "metadata": {},
   "outputs": [],
   "source": [
    "people_df_men = pd.merge(people_df_men, men_bmi_age, how = 'left', on = 'age')\n",
    "people_df_women = pd.merge(people_df_women, women_bmi_age, how = 'left', on = 'age')"
   ]
  },
  {
   "cell_type": "code",
   "execution_count": null,
   "metadata": {},
   "outputs": [],
   "source": [
    "people_df_men.head()"
   ]
  },
  {
   "cell_type": "code",
   "execution_count": null,
   "metadata": {},
   "outputs": [],
   "source": [
    "people_df_men['diff_optimal_bmi'] = people_df_men['optimal_bmi'] - people_df_men['bmi']\n",
    "people_df_women['diff_optimal_bmi'] = people_df_women['optimal_bmi'] - people_df_women['bmi']"
   ]
  },
  {
   "cell_type": "code",
   "execution_count": null,
   "metadata": {},
   "outputs": [],
   "source": [
    "people_df_men"
   ]
  },
  {
   "cell_type": "code",
   "execution_count": null,
   "metadata": {},
   "outputs": [],
   "source": [
    "people_df = pd.concat([people_df_women, people_df_men, people_df_unk])"
   ]
  },
  {
   "cell_type": "code",
   "execution_count": null,
   "metadata": {},
   "outputs": [],
   "source": [
    "people_df"
   ]
  },
  {
   "cell_type": "code",
   "execution_count": null,
   "metadata": {},
   "outputs": [],
   "source": [
    "people_df = people_df.reset_index(drop = True)"
   ]
  },
  {
   "cell_type": "code",
   "execution_count": null,
   "metadata": {},
   "outputs": [],
   "source": [
    "people_df['birth_category'] = ''"
   ]
  },
  {
   "cell_type": "code",
   "execution_count": null,
   "metadata": {},
   "outputs": [],
   "source": [
    "people_df"
   ]
  },
  {
   "cell_type": "code",
   "execution_count": null,
   "metadata": {},
   "outputs": [],
   "source": [
    "for ind, row in people_df.iterrows():\n",
    "    print('working on row: ', ind)\n",
    "    if row['sibling_count'] == 0:\n",
    "        people_df.loc[ind, 'birth_category'] = 'only'\n",
    "    elif row['birth_order'] == 1:\n",
    "        people_df.loc[ind, 'birth_category'] ='oldest'\n",
    "    elif row['birth_order'] > row['sibling_count']:\n",
    "        people_df.loc[ind, 'birth_category'] ='youngest'\n",
    "    else:\n",
    "        people_df.loc[ind, 'birth_category'] ='middle'\n",
    "print('finished!') #need to have this to see progress"
   ]
  },
  {
   "cell_type": "code",
   "execution_count": null,
   "metadata": {},
   "outputs": [],
   "source": [
    "people_df"
   ]
  },
  {
   "cell_type": "code",
   "execution_count": null,
   "metadata": {},
   "outputs": [],
   "source": []
  }
 ],
 "metadata": {
  "kernelspec": {
   "display_name": "Python 3 (ipykernel)",
   "language": "python",
   "name": "python3"
  },
  "language_info": {
   "codemirror_mode": {
    "name": "ipython",
    "version": 3
   },
   "file_extension": ".py",
   "mimetype": "text/x-python",
   "name": "python",
   "nbconvert_exporter": "python",
   "pygments_lexer": "ipython3",
   "version": "3.9.7"
  }
 },
 "nbformat": 4,
 "nbformat_minor": 2
}
