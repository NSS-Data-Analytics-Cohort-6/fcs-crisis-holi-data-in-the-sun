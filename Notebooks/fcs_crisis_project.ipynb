{
 "cells": [
  {
   "cell_type": "code",
   "execution_count": null,
   "id": "8930cda8",
   "metadata": {},
   "outputs": [],
   "source": [
    "#Importing Packages\n",
    "import pandas as pd\n",
    "from pathlib import Path\n",
    "import openpyxl\n",
    "import seaborn as sns\n",
    "import matplotlib.pyplot as plt\n",
    "from matplotlib import rcParams\n"
   ]
  },
  {
   "cell_type": "code",
   "execution_count": null,
   "id": "90579bbc",
   "metadata": {
    "scrolled": true
   },
   "outputs": [],
   "source": [
    "#Reading in Crisis version 1 Excel file, removing the first two rows, converting to a Dataframe, and \n",
    "#printing the first five rows.\n",
    "crisisv1 = pd.read_excel('../data/NSSCrisisv.1.xlsx', skiprows=2)\n",
    "crisisv1_df = pd.DataFrame(crisisv1)\n",
    "crisisv1_df.head()"
   ]
  },
  {
   "cell_type": "code",
   "execution_count": null,
   "id": "ff37a6a5",
   "metadata": {},
   "outputs": [],
   "source": [
    "crisisv1_df.tail()"
   ]
  },
  {
   "cell_type": "code",
   "execution_count": null,
   "id": "c3097599",
   "metadata": {},
   "outputs": [],
   "source": [
    "#Viewing info about Crisis v1 Dataframe\n",
    "crisisv1_df.info()"
   ]
  },
  {
   "cell_type": "code",
   "execution_count": null,
   "id": "f71ff614",
   "metadata": {},
   "outputs": [],
   "source": [
    "#Getting a sum of null values\n",
    "crisisv1_df.isnull().sum()"
   ]
  },
  {
   "cell_type": "code",
   "execution_count": null,
   "id": "d60cb2d1",
   "metadata": {},
   "outputs": [],
   "source": [
    "nullPostCodes = crisisv1_df.PostalCode.isnull().sum()\n",
    "nullPostCodes "
   ]
  },
  {
   "cell_type": "code",
   "execution_count": null,
   "id": "d3b0091a",
   "metadata": {},
   "outputs": [],
   "source": [
    "nonNullPostCodesV1 = crisisv1_df.PostalCode.notnull().sum()\n",
    "nonNullPostCodesV1 "
   ]
  },
  {
   "cell_type": "code",
   "execution_count": null,
   "id": "bb55f248",
   "metadata": {},
   "outputs": [],
   "source": [
    "# Converting CallDateAndTimeStart column data type to string and creating call year column\n",
    "crisisv1_df['CallDateAndTimeStart'] = crisisv1_df['CallDateAndTimeStart'].astype('str')\n",
    "crisisv1_df['call_year'] = crisisv1_df.CallDateAndTimeStart.str[0:4]\n",
    "crisisv1_df.info()"
   ]
  },
  {
   "cell_type": "code",
   "execution_count": null,
   "id": "728fc5b5",
   "metadata": {},
   "outputs": [],
   "source": [
    "filter2020 = crisisv1_df['call_year'].isin(['2020'])\n",
    "crisisZip2020 = crisisv1_df[filter2020]\n",
    "crisisZip2020"
   ]
  },
  {
   "cell_type": "code",
   "execution_count": null,
   "id": "040c3053",
   "metadata": {},
   "outputs": [],
   "source": [
    "nonNullPostCodesV1_2020 = crisisZip2020.PostalCode.notnull().sum()\n",
    "nonNullPostCodesV1_2020 "
   ]
  },
  {
   "cell_type": "code",
   "execution_count": null,
   "id": "5dcedd07",
   "metadata": {},
   "outputs": [],
   "source": [
    "filter2021 = crisisv1_df['call_year'].isin(['2021'])\n",
    "crisisZip2021 = crisisv1_df[filter2021]\n",
    "crisisZip2021"
   ]
  },
  {
   "cell_type": "code",
   "execution_count": null,
   "id": "1859da13",
   "metadata": {},
   "outputs": [],
   "source": [
    "nonNullPostCodesV1_2021 = crisisZip2021.PostalCode.notnull().sum()\n",
    "nonNullPostCodesV1_2021"
   ]
  },
  {
   "cell_type": "code",
   "execution_count": null,
   "id": "416ddb1a",
   "metadata": {},
   "outputs": [],
   "source": [
    "#Dropping all null values and viewing resulting info\n",
    "crisisv1_df.dropna()\n",
    "crisisv1_df.info()"
   ]
  },
  {
   "cell_type": "code",
   "execution_count": null,
   "id": "2ce86fca",
   "metadata": {},
   "outputs": [],
   "source": [
    "#Viewing resulting dataframe\n",
    "crisisv1_df"
   ]
  },
  {
   "cell_type": "code",
   "execution_count": null,
   "id": "89fb5652",
   "metadata": {},
   "outputs": [],
   "source": [
    "#Dropping all null value columns and viewing resulting info\n",
    "crisisv1_df.dropna(how='all', axis=1, inplace=True)\n",
    "crisisv1_df.info()\n",
    " "
   ]
  },
  {
   "cell_type": "code",
   "execution_count": null,
   "id": "45772869",
   "metadata": {},
   "outputs": [],
   "source": [
    "#Viewing resulting dataframe\n",
    "crisisv1_df"
   ]
  },
  {
   "cell_type": "code",
   "execution_count": null,
   "id": "e04fb801",
   "metadata": {
    "scrolled": true
   },
   "outputs": [],
   "source": [
    "#Reading in Crisis v2 Excel dataset, converting to dataframe, and viewing the top 5 rows\n",
    "crisisv2 = pd.read_excel('../data/NSSCrisisv.2.xlsx', skiprows=2)\n",
    "crisisv2_df = pd.DataFrame(crisisv2)\n",
    "crisisv2_df.head()"
   ]
  },
  {
   "cell_type": "code",
   "execution_count": null,
   "id": "6562940f",
   "metadata": {},
   "outputs": [],
   "source": [
    "crisisv2_df.tail()"
   ]
  },
  {
   "cell_type": "code",
   "execution_count": null,
   "id": "67f4cda5",
   "metadata": {},
   "outputs": [],
   "source": [
    "nullPostCodesV2 = crisisv2_df.PostalCode.isnull().sum()\n",
    "nullPostCodesV2"
   ]
  },
  {
   "cell_type": "code",
   "execution_count": null,
   "id": "6438f5db",
   "metadata": {},
   "outputs": [],
   "source": [
    "nonNullPostCodesV2 = crisisv2_df.PostalCode.notnull().sum()\n",
    "nonNullPostCodesV2"
   ]
  },
  {
   "cell_type": "code",
   "execution_count": null,
   "id": "f8f04168",
   "metadata": {},
   "outputs": [],
   "source": [
    "# Converting CallDateAndTimeStart column data type to string and creating call year column\n",
    "crisisv2_df['CallDateAndTimeStart'] = crisisv2_df['CallDateAndTimeStart'].astype('str')\n",
    "crisisv2_df['call_year'] = crisisv2_df.CallDateAndTimeStart.str[0:4]\n",
    "crisisv2_df.info()"
   ]
  },
  {
   "cell_type": "code",
   "execution_count": null,
   "id": "1b0ae748",
   "metadata": {},
   "outputs": [],
   "source": [
    "filter2022 = crisisv2_df['call_year'].isin(['2022'])\n",
    "crisisZip2022 = crisisv2_df[filter2022]\n",
    "crisisZip2022"
   ]
  },
  {
   "cell_type": "code",
   "execution_count": null,
   "id": "f436c8a5",
   "metadata": {},
   "outputs": [],
   "source": [
    "nonNullPostCodesV2_2022 = crisisZip2022.PostalCode.notnull().sum()\n",
    "nonNullPostCodesV2_2022 "
   ]
  },
  {
   "cell_type": "code",
   "execution_count": null,
   "id": "4826f1cc",
   "metadata": {},
   "outputs": [],
   "source": [
    "#Dropping all null values and viewing resulting info\n",
    "crisisv2_df.dropna()\n",
    "crisisv2_df.info()"
   ]
  },
  {
   "cell_type": "code",
   "execution_count": null,
   "id": "13d2fdf5",
   "metadata": {},
   "outputs": [],
   "source": [
    "#Viewing resulting dataframe\n",
    "crisisv2_df"
   ]
  },
  {
   "cell_type": "code",
   "execution_count": null,
   "id": "bfb3b5d8",
   "metadata": {},
   "outputs": [],
   "source": [
    "#Dropping all null value columns and viewing resulting info\n",
    "crisisv2_df.dropna(how='all', axis=1, inplace=True)\n",
    "crisisv2_df.info()"
   ]
  },
  {
   "cell_type": "code",
   "execution_count": null,
   "id": "e703bec6",
   "metadata": {},
   "outputs": [],
   "source": [
    "#Viewing resulting dataframe\n",
    "crisisv2_df"
   ]
  },
  {
   "cell_type": "code",
   "execution_count": null,
   "id": "ab09368e",
   "metadata": {
    "scrolled": false
   },
   "outputs": [],
   "source": [
    "#Concatenating the Crisis v1 and v2 Dataframes and viewing resulting dataframe\n",
    "crisis1and2_df = pd.concat([crisisv1_df, crisisv2_df])\n",
    "crisis1and2_df"
   ]
  },
  {
   "cell_type": "code",
   "execution_count": null,
   "id": "1becec30",
   "metadata": {},
   "outputs": [],
   "source": [
    "crisis1and2_df.info()"
   ]
  },
  {
   "cell_type": "code",
   "execution_count": null,
   "id": "e4fb73ab",
   "metadata": {},
   "outputs": [],
   "source": [
    "crisis1and2_df"
   ]
  },
  {
   "cell_type": "code",
   "execution_count": null,
   "id": "52d9739f",
   "metadata": {},
   "outputs": [],
   "source": [
    "crisis1and2_df.describe()"
   ]
  },
  {
   "cell_type": "code",
   "execution_count": null,
   "id": "b32189d8",
   "metadata": {
    "scrolled": true
   },
   "outputs": [],
   "source": [
    "demographics = crisis1and2_df.loc[:,['Demographics' in i for i in crisis1and2_df.columns]]"
   ]
  },
  {
   "cell_type": "code",
   "execution_count": null,
   "id": "3ff9a994",
   "metadata": {},
   "outputs": [],
   "source": [
    "demographics.count()"
   ]
  },
  {
   "cell_type": "code",
   "execution_count": null,
   "id": "b5cf331f",
   "metadata": {},
   "outputs": [],
   "source": [
    "topAgeBracket = crisis1and2_df['CRISIS Demographics - Age'].value_counts()\n",
    "topAgeBracket = topAgeBracket.drop(topAgeBracket.index[7])\n",
    "topAgeBracket_df = pd.DataFrame(topAgeBracket).reset_index()\n",
    "topAgeBracket_df = topAgeBracket_df.rename(columns={'index': 'Age Bracket'})\n",
    "topAgeBracket_df.sort_values(by=['Age Bracket'], inplace=True)\n",
    "topAgeBracket_df\n"
   ]
  },
  {
   "cell_type": "code",
   "execution_count": null,
   "id": "2935fe4a",
   "metadata": {},
   "outputs": [],
   "source": [
    "#Viridis\n",
    "sns.set(font_scale = 10)\n",
    "sns.set_style('darkgrid')\n",
    "sns.set(rc={\"figure.figsize\":(15,12)})\n",
    "cmap = sns.color_palette('viridis')\n",
    "ax = sns.barplot(x='Age Bracket', y='CRISIS Demographics - Age', data=topAgeBracket_df, palette=cmap)\n",
    "cmap = sns.color_palette('viridis')\n",
    "plt.xlabel('Age Bracket', fontdict= {'fontsize':20, 'fontweight':'bold'})\n",
    "plt.ylabel('Call Volume', fontdict= {'fontsize':20, 'fontweight':'bold'})\n",
    "plt.title(\"Call Volume by Age Bracket\",fontdict= { 'fontsize': 30, 'fontweight':'bold','verticalalignment': 'center'})\n",
    "plt.xticks(fontsize=17, rotation=60)\n",
    "plt.yticks(fontsize=17)\n",
    ";\n",
    "\n",
    "#Gradient One\n",
    "#sns.set(font_scale = 10)\n",
    "#sns.set_style('darkgrid')\n",
    "#sns.set(rc={\"figure.figsize\":(15,12)})\n",
    "#cmap = sns.color_palette('light:#5A9')\n",
    "#ax = sns.barplot(x='Age Bracket', y='CRISIS Demographics - Age', data=topAgeBracket_df, palette=cmap)\n",
    "#cmap = sns.color_palette('viridis')\n",
    "#plt.xlabel('Age Bracket', fontdict= {'fontsize':20, 'fontweight':'bold'})\n",
    "#plt.ylabel('Call Volume', fontdict= {'fontsize':20, 'fontweight':'bold'})\n",
    "#plt.title(\"Call Volume by Age Bracket\",fontdict= { 'fontsize': 30, 'fontweight':'bold','verticalalignment': 'center'})\n",
    "#plt.xticks(fontsize=17, rotation=60)\n",
    "#plt.yticks(fontsize=17)\n",
    "#;\n",
    "\n",
    "#Gradient Two\n",
    "#sns.set(font_scale = 10)\n",
    "#sns.set_style('darkgrid')\n",
    "#sns.set(rc={\"figure.figsize\":(15,12)})\n",
    "#cmap = sns.color_palette('ch:s=.25,rot=-.25')\n",
    "#ax = sns.barplot(x='Age Bracket', y='CRISIS Demographics - Age', data=topAgeBracket_df, palette=cmap)\n",
    "#cmap = sns.color_palette('viridis')\n",
    "#plt.xlabel('Age Bracket', fontdict= {'fontsize':20, 'fontweight':'bold'})\n",
    "#plt.ylabel('Call Volume', fontdict= {'fontsize':20, 'fontweight':'bold'})\n",
    "#plt.title(\"Call Volume by Age Bracket\",fontdict= { 'fontsize': 30, 'fontweight':'bold','verticalalignment': 'center'})\n",
    "#plt.xticks(fontsize=17, rotation=60)\n",
    "#plt.yticks(fontsize=17)\n",
    "#;"
   ]
  },
  {
   "cell_type": "code",
   "execution_count": null,
   "id": "f643754a",
   "metadata": {},
   "outputs": [],
   "source": [
    "codes = ['K1A 0A1', 'V5K 0A1']\n",
    "crisis1and2_df = crisis1and2_df[crisis1and2_df.PostalCode.isin(codes) == False]\n",
    "crisis1and2_df['PostalCode'] = crisis1and2_df['PostalCode'].fillna(0)\n",
    "crisis1and2_df['PostalCode'] = crisis1and2_df['PostalCode'].astype(int)\n",
    "crisis1and2_df['PostalCode'] = crisis1and2_df['PostalCode'].astype(str)\n",
    "crisis1and2_df['PostalCode'].dtypes"
   ]
  },
  {
   "cell_type": "code",
   "execution_count": null,
   "id": "1487b853",
   "metadata": {},
   "outputs": [],
   "source": [
    "highestAgeBracketCount = crisis1and2_df.groupby('PostalCode')['CRISIS Demographics - Age'].value_counts()\n",
    "highestAgeBracketCount_df = pd.DataFrame(highestAgeBracketCount)\n",
    "highestAgeBracketCount_df.head(20)"
   ]
  },
  {
   "cell_type": "code",
   "execution_count": null,
   "id": "fb4cfe87",
   "metadata": {},
   "outputs": [],
   "source": [
    "zipCount = crisis1and2_df['PostalCode'].count()\n",
    "zipCount"
   ]
  },
  {
   "cell_type": "code",
   "execution_count": null,
   "id": "984e17b6",
   "metadata": {},
   "outputs": [],
   "source": [
    "# Getting counts of differing postal codes of callers\n",
    "#postalCodes = crisis1and2_df['PostalCode'].unique() \n",
    "postalCodeCount = crisis1and2_df['PostalCode'].value_counts().to_frame()\n",
    "postalCodeCount\n"
   ]
  },
  {
   "cell_type": "code",
   "execution_count": null,
   "id": "b1900cfa",
   "metadata": {},
   "outputs": [],
   "source": [
    "topAgeBracket = crisis1and2_df['CRISIS Demographics - Age'].value_counts()\n",
    "topAgeBracket = topAgeBracket.drop(topAgeBracket.index[7])\n",
    "topAgeBracket_df = pd.DataFrame(topAgeBracket)\n",
    "topAgeBracket_df"
   ]
  },
  {
   "cell_type": "code",
   "execution_count": null,
   "id": "c378c792",
   "metadata": {
    "scrolled": true
   },
   "outputs": [],
   "source": [
    "#Getting Top 10 postal codes based on call volume across all years\n",
    "postalCodeTop10_df = postalCodeCount.head(11)\n",
    "postalCodeTop10_df = postalCodeTop10_df.drop(postalCodeTop10_df.index[0])\n",
    "postalCodeTop10_df\n"
   ]
  },
  {
   "cell_type": "code",
   "execution_count": null,
   "id": "400b4d67",
   "metadata": {},
   "outputs": [],
   "source": [
    "top10zip = crisis1and2_df.loc[crisis1and2_df['PostalCode'].isin(['37075', '37115', '38012', '37211', '37138', '37013', '37857', '37207', '37238', '37130'])]\n",
    "top10zip.head()"
   ]
  },
  {
   "cell_type": "code",
   "execution_count": null,
   "id": "5e64da5f",
   "metadata": {},
   "outputs": [],
   "source": [
    "top10zipAge = top10zip.groupby('PostalCode')['CRISIS Demographics - Age'].value_counts(sort=True, ascending=True)\n",
    "top10zipAge = top10zipAge.unstack()\n",
    "top10zipAge = top10zipAge[['56-70', '70-85', '13-17', '41-55', '25-30', '18-24', '31-40']] = top10zipAge[['56-70', '70-85', '13-17', '41-55', '25-30', '18-24', '31-40']].fillna(0)\n",
    "top10zipAge = top10zipAge[['56-70', '70-85', '13-17', '41-55', '25-30', '18-24', '31-40']] = top10zipAge[['56-70', '70-85', '13-17', '41-55', '25-30', '18-24', '31-40']].astype(int)\n",
    "top10zipAge"
   ]
  },
  {
   "cell_type": "code",
   "execution_count": null,
   "id": "c0fac9aa",
   "metadata": {
    "scrolled": true
   },
   "outputs": [],
   "source": [
    "#Top 5 zip codes\n",
    "top5zip = crisis1and2_df.loc[crisis1and2_df['PostalCode'].isin(['37075', '37115', '38012', '37211', '37138'])]\n",
    "top5zip.head()"
   ]
  },
  {
   "cell_type": "code",
   "execution_count": null,
   "id": "eae5892e",
   "metadata": {},
   "outputs": [],
   "source": [
    "#Number of callers in each age bracket for each of the top 5 zip codes\n",
    "top5zipAge = top5zip.groupby('PostalCode')['CRISIS Demographics - Age'].value_counts()\n",
    "top5zipAge = top5zipAge.drop(top5zipAge.index[5])\n",
    "top5zipAge = top5zipAge.drop(top5zipAge.index[-3])\n",
    "top5zipAge = top5zipAge.unstack()\n",
    "top5zipAge = top5zipAge[['56-70', '70-85', '13-17', '41-55', '25-30', '18-24', '31-40']] = top5zipAge[['56-70', '70-85', '13-17', '41-55', '25-30', '18-24', '31-40']].fillna(0)\n",
    "top5zipAge = top5zipAge[['56-70', '70-85', '13-17', '41-55', '25-30', '18-24', '31-40']] = top5zipAge[['56-70', '70-85', '13-17', '41-55', '25-30', '18-24', '31-40']].astype(int)\n",
    "top5zipAge['Postal Code'] = top5zipAge.index\n",
    "top5zipAge\n"
   ]
  },
  {
   "cell_type": "code",
   "execution_count": null,
   "id": "671e461d",
   "metadata": {},
   "outputs": [],
   "source": [
    "top5zipAge.dtypes"
   ]
  },
  {
   "cell_type": "code",
   "execution_count": null,
   "id": "1f79a561",
   "metadata": {},
   "outputs": [],
   "source": [
    "zip2013 = pd.read_csv('../data/US Zip Codes from 2013 Government Data.csv', dtype={'zip': 'string'})\n",
    "zip2013.head()"
   ]
  },
  {
   "cell_type": "code",
   "execution_count": null,
   "id": "0ca8ee84",
   "metadata": {},
   "outputs": [],
   "source": [
    "zipPlusCrisis1And2 = crisis1and2_df.merge(zip2013, left_on='PostalCode', right_on='zip', how='left')\n",
    "zipPlusCrisis1And2"
   ]
  },
  {
   "cell_type": "code",
   "execution_count": null,
   "id": "69b03c3a",
   "metadata": {},
   "outputs": [],
   "source": [
    "ax = top5zipAge.plot(kind='bar', figsize=(7, 5), cmap='viridis', rot=0, width=.8)\n",
    "ax.legend(title='Age Bracket', bbox_to_anchor=(1,1), loc='upper left')\n",
    "plt.xticks(rotation=60)\n",
    "plt.tight_layout()\n",
    "plt.savefig('Top 5 Zip Codes based on Call Volume per Age Bracket')\n",
    "ax.set_title('Top 5 Zip Codes based on Call Volume per Age Bracket', fontsize=20)\n",
    "ax.set_xlabel(xlabel='Zip Code', fontsize=12)\n",
    "ax.set_ylabel('Call Volume', fontsize=12)\n",
    "plt.show()"
   ]
  },
  {
   "cell_type": "code",
   "execution_count": null,
   "id": "3f71ad7c",
   "metadata": {},
   "outputs": [],
   "source": [
    "#Top 3 zip codes\n",
    "top3zip = crisis1and2_df.loc[crisis1and2_df['PostalCode'].isin(['37075', '37115', '38012'])]\n",
    "top3zip.head()"
   ]
  },
  {
   "cell_type": "code",
   "execution_count": null,
   "id": "eac6440b",
   "metadata": {},
   "outputs": [],
   "source": [
    "top3zipAge = top3zip.groupby('PostalCode')['CRISIS Demographics - Age'].value_counts()\n",
    "top3zipAge = top3zipAge.drop(top3zipAge.index[5])\n",
    "top3zipAge"
   ]
  },
  {
   "cell_type": "code",
   "execution_count": null,
   "id": "9a96c430",
   "metadata": {},
   "outputs": [],
   "source": [
    "#Number of callers for each gender identity in the top 5 zip codes\n",
    "top5zipGendIdent = top5zip.groupby('PostalCode')['CRISIS Demographics - Gender Identity'].value_counts()\n",
    "top5zipGendIdent"
   ]
  },
  {
   "cell_type": "code",
   "execution_count": null,
   "id": "934280fd",
   "metadata": {},
   "outputs": [],
   "source": [
    "#Number of callers in each gender identity for each of the top 5 zip codes\n",
    "top5zipGenderId = top5zip.groupby('PostalCode')['CRISIS Demographics - Gender Identity'].value_counts()\n",
    "top5zipGenderId = top5zipGenderId.unstack()\n",
    "top5zipGenderId = top5zipGenderId[['Female', 'Male', 'Transgender']] = top5zipGenderId[['Female', 'Male', 'Transgender']].fillna(0)\n",
    "top5zipGenderId = top5zipGenderId[['Female', 'Male', 'Transgender']] = top5zipGenderId[['Female', 'Male', 'Transgender']].astype(int)\n",
    "top5zipGenderId"
   ]
  },
  {
   "cell_type": "code",
   "execution_count": null,
   "id": "5b4dcea9",
   "metadata": {},
   "outputs": [],
   "source": [
    "ax = top5zipGenderId.plot(kind='bar', figsize=(7, 5), cmap='viridis', rot=0, width=.8)\n",
    "ax.legend(title='Gender Indentity', bbox_to_anchor=(1,1), loc='upper left')\n",
    "plt.xticks(rotation=60)\n",
    "plt.tight_layout()\n",
    "plt.savefig('Top 5 Zip Codes based on Call Volume per Gender Identity')\n",
    "ax.set_title('Top 5 Zip Codes based on Call Volume per Gender Identity', fontsize=15)\n",
    "ax.set_xlabel(xlabel='Zip Code', fontsize=12)\n",
    "ax.set_ylabel('Call Volume', fontsize=12)\n",
    "plt.show()"
   ]
  },
  {
   "cell_type": "code",
   "execution_count": null,
   "id": "32d03102",
   "metadata": {},
   "outputs": [],
   "source": [
    "#Number of callers in each military status for each of the top 5 zip codes\n",
    "top5zipMilit = top5zip.groupby('PostalCode')['CRISIS Demographics - Military'].value_counts()\n",
    "top5zipMilit = top5zipMilit.unstack()\n",
    "top5zipMilit = top5zipMilit[['3rd Party Calling about Veteran', 'Family of Military', 'Veteran']] =  top5zipMilit[['3rd Party Calling about Veteran', 'Family of Military', 'Veteran']].fillna(0)\n",
    "top5zipMilit = top5zipMilit[['3rd Party Calling about Veteran', 'Family of Military', 'Veteran']] =  top5zipMilit[['3rd Party Calling about Veteran', 'Family of Military', 'Veteran']].astype(int)\n",
    "top5zipMilit"
   ]
  },
  {
   "cell_type": "code",
   "execution_count": null,
   "id": "d15b3a53",
   "metadata": {},
   "outputs": [],
   "source": [
    "ax = top5zipMilit.plot(kind='bar', figsize=(7, 5), cmap='viridis', rot=0, width=.8)\n",
    "ax.legend(title='Military Status', bbox_to_anchor=(1,1), loc='upper left')\n",
    "plt.xticks(rotation=60)\n",
    "plt.tight_layout()\n",
    "plt.savefig('Top 5 Zip Codes based on Call Volume per Military Status')\n",
    "ax.set_title('Top 5 Zip Codes based on Call Volume per Military Status', fontsize=15)\n",
    "ax.set_xlabel(xlabel=False)\n",
    "ax.set_ylabel('Call Volume', fontsize=12)\n",
    "plt.show()"
   ]
  },
  {
   "cell_type": "code",
   "execution_count": null,
   "id": "1e26fdd9",
   "metadata": {},
   "outputs": [],
   "source": [
    "topMilitary = crisis1and2_df['CRISIS Demographics - Military'].value_counts(normalize=True) * 100\n",
    "topMilitary = topMilitary.drop(topMilitary.index[0])\n",
    "topMilitary = topMilitary.drop(topMilitary.index[0])\n",
    "topMilitary_df = pd.DataFrame(topMilitary).reset_index()\n",
    "topMilitary_df = topMilitary_df.rename(columns={'index': 'Military Status'})\n",
    "topMilitary_df\n",
    "\n",
    "\n",
    "\n"
   ]
  },
  {
   "cell_type": "code",
   "execution_count": null,
   "id": "2cb256dd",
   "metadata": {},
   "outputs": [],
   "source": [
    "#Viridis\n",
    "sns.set_style('darkgrid')\n",
    "sns.set(rc={\"figure.figsize\":(45,30)})\n",
    "sns.set(font_scale = 10)\n",
    "ax = sns.barplot(x='Military Status', y='CRISIS Demographics - Military', data=topMilitary_df, palette=cmap)\n",
    "cmap = sns.color_palette('viridis')\n",
    "plt.xlabel('Military Status', fontdict= {'fontsize':70, 'fontweight':'bold'})\n",
    "plt.ylabel('Call Volume', fontdict= {'fontsize':70, 'fontweight':'bold'})\n",
    "plt.title(\"Call Volume by Military Status (Percentage)\",fontdict= { 'fontsize': 80, 'fontweight':'bold','verticalalignment': 'center'})\n",
    "plt.xticks(fontsize=60, rotation=60)\n",
    "plt.yticks(fontsize=60)\n",
    ";\n",
    "\n",
    "#Gradient One\n",
    "#sns.set_style('darkgrid')\n",
    "#sns.set(rc={\"figure.figsize\":(45,30)})\n",
    "#sns.set(font_scale = 10)\n",
    "#ax = sns.barplot(x='Military Status', y='CRISIS Demographics - Military', data=topMilitary_df, palette=cmap)\n",
    "#cmap = sns.color_palette('light:#5A9')\n",
    "#plt.xlabel('Military Status', fontdict= {'fontsize':70, 'fontweight':'bold'})\n",
    "#plt.ylabel('Call Volume', fontdict= {'fontsize':70, 'fontweight':'bold'})\n",
    "#plt.title(\"Call Volume by Military Status (Percentage)\",fontdict= { 'fontsize': 80, 'fontweight':'bold','verticalalignment': 'center'})\n",
    "#plt.xticks(fontsize=60, rotation=60)\n",
    "#plt.yticks(fontsize=60)\n",
    "#;\n",
    "\n",
    "#Gradient Two\n",
    "#sns.set_style('darkgrid')\n",
    "#sns.set(rc={\"figure.figsize\":(45,30)})\n",
    "#sns.set(font_scale = 10)\n",
    "#ax = sns.barplot(x='Military Status', y='CRISIS Demographics - Military', data=topMilitary_df, palette=cmap)\n",
    "#cmap = sns.color_palette('ch:s=.25,rot=-.25')\n",
    "#plt.xlabel('Military Status', fontdict= {'fontsize':70, 'fontweight':'bold'})\n",
    "#plt.ylabel('Call Volume', fontdict= {'fontsize':70, 'fontweight':'bold'})\n",
    "#plt.title(\"Call Volume by Military Status (Percentage)\",fontdict= { 'fontsize': 80, 'fontweight':'bold','verticalalignment': 'center'})\n",
    "#plt.xticks(fontsize=60, rotation=60)\n",
    "#plt.yticks(fontsize=60)\n",
    "#;\n",
    "\n",
    "\n"
   ]
  },
  {
   "cell_type": "code",
   "execution_count": null,
   "id": "d7d2311f",
   "metadata": {},
   "outputs": [],
   "source": [
    "#Value counts of gender identity - 37075\n",
    "genIdentCountFor37075= crisis1and2_df[crisis1and2_df['PostalCode']=='37075']['CRISIS Demographics - Gender Identity'].value_counts()\n",
    "genIdentCountFor37075"
   ]
  },
  {
   "cell_type": "code",
   "execution_count": null,
   "id": "b2023a72",
   "metadata": {},
   "outputs": [],
   "source": [
    "#Military count - 37075\n",
    "militCountFor37075 = crisis1and2_df[crisis1and2_df['PostalCode']=='37075']['CRISIS Demographics - Military'].value_counts()\n",
    "militCountFor37075"
   ]
  },
  {
   "cell_type": "code",
   "execution_count": null,
   "id": "6a0cdd43",
   "metadata": {},
   "outputs": [],
   "source": [
    "#Number of callers in each age bracket  - 37115\n",
    "ageBracketCountFor37115 = crisis1and2_df[crisis1and2_df['PostalCode']=='37115']['CRISIS Demographics - Age'].value_counts()\n",
    "ageBracketCountFor37115"
   ]
  },
  {
   "cell_type": "code",
   "execution_count": null,
   "id": "c342ff70",
   "metadata": {},
   "outputs": [],
   "source": [
    "#Value counts of gender identity - 37115\n",
    "genIdentCountFor37115 = crisis1and2_df[crisis1and2_df['PostalCode']=='37115']['CRISIS Demographics - Gender Identity'].value_counts()\n",
    "genIdentCountFor37115"
   ]
  },
  {
   "cell_type": "code",
   "execution_count": null,
   "id": "3f30dcbb",
   "metadata": {},
   "outputs": [],
   "source": [
    "#Military count - 37115\n",
    "militCountFor37115 = crisis1and2_df[crisis1and2_df['PostalCode']=='37115']['CRISIS Demographics - Military'].value_counts()\n",
    "militCountFor37115"
   ]
  },
  {
   "cell_type": "code",
   "execution_count": null,
   "id": "1ea892fb",
   "metadata": {},
   "outputs": [],
   "source": [
    "#Number of callers in each age bracket - 38012\n",
    "ageBracketCountFor38012 = crisis1and2_df[crisis1and2_df['PostalCode']=='38012']['CRISIS Demographics - Age'].value_counts()\n",
    "ageBracketCountFor38012"
   ]
  },
  {
   "cell_type": "code",
   "execution_count": null,
   "id": "39cf05d0",
   "metadata": {},
   "outputs": [],
   "source": [
    "#Value counts of gender identity - 38012\n",
    "genIdentCountFor38012 = crisis1and2_df[crisis1and2_df['PostalCode']=='38012']['CRISIS Demographics - Gender Identity'].value_counts()\n",
    "genIdentCountFor38012"
   ]
  },
  {
   "cell_type": "code",
   "execution_count": null,
   "id": "739ecc10",
   "metadata": {},
   "outputs": [],
   "source": [
    "#Military count - 38012\n",
    "militCountFor38012 = crisis1and2_df[crisis1and2_df['PostalCode']=='38012']['CRISIS Demographics - Military'].value_counts()\n",
    "militCountFor38012"
   ]
  },
  {
   "cell_type": "code",
   "execution_count": null,
   "id": "fd1cd820",
   "metadata": {},
   "outputs": [],
   "source": [
    "#Number of callers in each age bracket  - 37211\n",
    "ageBracketCountFor37211 = crisis1and2_df[crisis1and2_df['PostalCode']=='37211']['CRISIS Demographics - Age'].value_counts()\n",
    "ageBracketCountFor37211"
   ]
  },
  {
   "cell_type": "code",
   "execution_count": null,
   "id": "a94a9ff2",
   "metadata": {},
   "outputs": [],
   "source": [
    "#Value counts of gender identity - 37211\n",
    "genIdentCountFor37211 = crisis1and2_df[crisis1and2_df['PostalCode']=='37211']['CRISIS Demographics - Gender Identity'].value_counts()\n",
    "genIdentCountFor37211"
   ]
  },
  {
   "cell_type": "code",
   "execution_count": null,
   "id": "e0338c85",
   "metadata": {},
   "outputs": [],
   "source": [
    "#Military count - 37211\n",
    "militCountFor37211 = crisis1and2_df[crisis1and2_df['PostalCode']=='37211']['CRISIS Demographics - Military'].value_counts()\n",
    "militCountFor37211"
   ]
  },
  {
   "cell_type": "code",
   "execution_count": null,
   "id": "8737c1f7",
   "metadata": {},
   "outputs": [],
   "source": [
    "#Number of callers in each age bracket  - 37138\n",
    "ageBracketCountFor37138 = crisis1and2_df[crisis1and2_df['PostalCode']=='37138']['CRISIS Demographics - Age'].value_counts()\n",
    "ageBracketCountFor37138"
   ]
  },
  {
   "cell_type": "code",
   "execution_count": null,
   "id": "485e94b2",
   "metadata": {},
   "outputs": [],
   "source": [
    "#Value counts of gender identity - 37138\n",
    "genIdentCountFor37138 = crisis1and2_df[crisis1and2_df['PostalCode']=='37138']['CRISIS Demographics - Gender Identity'].value_counts()\n",
    "genIdentCountFor37138"
   ]
  },
  {
   "cell_type": "code",
   "execution_count": null,
   "id": "3ef716e9",
   "metadata": {},
   "outputs": [],
   "source": [
    "#Military count - 37138\n",
    "militCountFor37138 = crisis1and2_df[crisis1and2_df['PostalCode']=='37138']['CRISIS Demographics - Military'].value_counts()\n",
    "militCountFor37138"
   ]
  },
  {
   "cell_type": "code",
   "execution_count": null,
   "id": "30286c1e",
   "metadata": {},
   "outputs": [],
   "source": [
    "zipNonNulls = nonNullPostCodesV1 + nonNullPostCodesV2\n",
    "zipNonNulls"
   ]
  },
  {
   "cell_type": "code",
   "execution_count": null,
   "id": "2fc1ff7a",
   "metadata": {},
   "outputs": [],
   "source": [
    "#Percentage of call volume per zip code for all years\n",
    "postalCodePerc = crisis1and2_df['PostalCode'].value_counts() / zipNonNulls\n",
    "postalCodePerc_df = pd.DataFrame(postalCodePerc)\n",
    "postalCodeTop10Perc_df = postalCodePerc_df.head(11)\n",
    "postalCodeTop10Perc_df = round(postalCodeTop10Perc_df.drop(postalCodeTop10Perc_df.index[0]), 2)\n",
    "postalCodeTop10Perc_df"
   ]
  },
  {
   "cell_type": "code",
   "execution_count": null,
   "id": "e19fadcc",
   "metadata": {},
   "outputs": [],
   "source": [
    "#Records assocaited with Top 10 postal codes across all years\n",
    "crisisTop10Zip = crisis1and2_df.loc[crisis1and2_df['PostalCode'].isin(['37075', '37115', '38012', '37211', '37138', '37013', '37857', '37207', '37238', '37130'])]\n",
    "crisisTop10Zip\n"
   ]
  },
  {
   "cell_type": "code",
   "execution_count": null,
   "id": "3690ed57",
   "metadata": {},
   "outputs": [],
   "source": [
    "# Getting records from calls placed in 2020 alone\n",
    "filter2020 = crisis1and2_df['call_year'].isin(['2020'])\n",
    "crisisZip2020 = crisis1and2_df[filter2020]\n",
    "crisisZip2020.head()"
   ]
  },
  {
   "cell_type": "code",
   "execution_count": null,
   "id": "0d4b56ac",
   "metadata": {
    "scrolled": true
   },
   "outputs": [],
   "source": [
    "postalCodeCount2020 = crisisZip2020['PostalCode'].value_counts()\n",
    "Top10_2020_df = pd.DataFrame(postalCodeCount2020.head(11))\n",
    "Top10_2020_df = Top10_2020_df.drop(Top10_2020_df.index[0])\n",
    "Top10_2020_df"
   ]
  },
  {
   "cell_type": "code",
   "execution_count": null,
   "id": "d7d6445c",
   "metadata": {},
   "outputs": [],
   "source": [
    "postalCodePerc2020 = crisisZip2020['PostalCode'].value_counts() / nonNullPostCodesV1_2020\n",
    "Top10_2020Perc_df = pd.DataFrame(postalCodePerc2020.head(11))\n",
    "Top10_2020Perc_df = round(Top10_2020Perc_df.drop(Top10_2020Perc_df.index[0]), 2)\n",
    "Top10_2020Perc_df"
   ]
  },
  {
   "cell_type": "code",
   "execution_count": null,
   "id": "3ff0e360",
   "metadata": {},
   "outputs": [],
   "source": [
    "# Getting records from calls placed in 2020 alone\n",
    "filter2021 = crisis1and2_df['call_year'].isin(['2021'])\n",
    "crisisZip2021 = crisis1and2_df[filter2021]\n",
    "crisisZip2021.head()"
   ]
  },
  {
   "cell_type": "code",
   "execution_count": null,
   "id": "65cc0894",
   "metadata": {},
   "outputs": [],
   "source": [
    "postalCodeCount2021 = crisisZip2021['PostalCode'].value_counts()\n",
    "Top10_2021_df = pd.DataFrame(postalCodeCount2021.head(11))\n",
    "Top10_2021_df = Top10_2021_df.drop(Top10_2021_df.index[[0]])\n",
    "Top10_2021_df"
   ]
  },
  {
   "cell_type": "code",
   "execution_count": null,
   "id": "e8507b01",
   "metadata": {},
   "outputs": [],
   "source": [
    "postalCodePerc2021 = crisisZip2021['PostalCode'].value_counts() / nonNullPostCodesV1_2021\n",
    "Top10_2021Perc_df = pd.DataFrame(postalCodePerc2021.head(11))\n",
    "Top10_2021Perc_df = round(Top10_2021Perc_df.drop(Top10_2021Perc_df.index[0]), 2)\n",
    "Top10_2021Perc_df"
   ]
  },
  {
   "cell_type": "code",
   "execution_count": null,
   "id": "2725fe36",
   "metadata": {},
   "outputs": [],
   "source": [
    "filter2022 = crisis1and2_df['call_year'].isin(['2022'])\n",
    "crisisZip2022 = crisis1and2_df[filter2022]\n",
    "crisisZip2022.head()"
   ]
  },
  {
   "cell_type": "code",
   "execution_count": null,
   "id": "7fc4d67b",
   "metadata": {},
   "outputs": [],
   "source": [
    "postalCodeCount2022 = crisisZip2022['PostalCode'].value_counts()\n",
    "Top10_2022_df = pd.DataFrame(postalCodeCount2022.head(11))\n",
    "Top10_2022_df = Top10_2022_df.drop(Top10_2022_df.index[[0]])\n",
    "Top10_2022_df"
   ]
  },
  {
   "cell_type": "code",
   "execution_count": null,
   "id": "22bfbcc7",
   "metadata": {},
   "outputs": [],
   "source": [
    "postalCodePerc2022 = crisisZip2022['PostalCode'].value_counts() / nonNullPostCodesV2_2022\n",
    "Top10_2022Perc_df = pd.DataFrame(postalCodePerc2022.head(11))\n",
    "Top10_2022Perc_df = round(Top10_2022Perc_df.drop(Top10_2022Perc_df.index[0]), 2)\n",
    "Top10_2022Perc_df"
   ]
  },
  {
   "cell_type": "code",
   "execution_count": null,
   "id": "7fb0662b",
   "metadata": {},
   "outputs": [],
   "source": [
    "crisis1and2_df['ThirdPartyCity'].value_counts()"
   ]
  },
  {
   "cell_type": "code",
   "execution_count": null,
   "id": "c2522bf6",
   "metadata": {},
   "outputs": [],
   "source": [
    "crisis1and2_df['ThirdPartyCounty'].value_counts()"
   ]
  },
  {
   "cell_type": "code",
   "execution_count": null,
   "id": "fb70d977",
   "metadata": {},
   "outputs": [],
   "source": [
    "crisis1and2_df['ThirdPartyStateProvince'].value_counts()"
   ]
  },
  {
   "cell_type": "code",
   "execution_count": null,
   "id": "db25b7e2",
   "metadata": {},
   "outputs": [],
   "source": [
    "crisis1and2_df['ThirdPartyPostalCode'] = crisis1and2_df['ThirdPartyPostalCode'].astype('str')\n",
    "crisis1and2_df['ThirdPartyPostalCode'].value_counts()"
   ]
  },
  {
   "cell_type": "code",
   "execution_count": null,
   "id": "7d9656f4",
   "metadata": {},
   "outputs": [],
   "source": [
    "crisis1and2_df['CRISIS Demographics - Occupation'].value_counts()"
   ]
  },
  {
   "cell_type": "code",
   "execution_count": null,
   "id": "217c11d8",
   "metadata": {},
   "outputs": [],
   "source": [
    "crisis1and2_df['HOM AX Demographics - Occupation'].value_counts()"
   ]
  },
  {
   "cell_type": "code",
   "execution_count": null,
   "id": "37e09b58",
   "metadata": {},
   "outputs": [],
   "source": [
    "crisis1and2_df['SUI AX Demographics - Name of Third Party'].value_counts()"
   ]
  },
  {
   "cell_type": "code",
   "execution_count": null,
   "id": "12894ebd",
   "metadata": {},
   "outputs": [],
   "source": [
    "# Getting counts of age brackets of callers\n",
    "crisis1and2_df['CRISIS Demographics - Age'].value_counts()"
   ]
  },
  {
   "cell_type": "code",
   "execution_count": null,
   "id": "2be034a0",
   "metadata": {},
   "outputs": [],
   "source": [
    "crisis1and2_df['CRISIS Demographics - Education Level'].value_counts()"
   ]
  },
  {
   "cell_type": "code",
   "execution_count": null,
   "id": "de0297ec",
   "metadata": {},
   "outputs": [],
   "source": [
    "crisis1and2_df['CRISIS Demographics - Ethnicity'].value_counts()"
   ]
  },
  {
   "cell_type": "code",
   "execution_count": null,
   "id": "4a26c88a",
   "metadata": {},
   "outputs": [],
   "source": [
    "crisis1and2_df['CRISIS Demographics - Gender Identity'].value_counts()"
   ]
  },
  {
   "cell_type": "code",
   "execution_count": null,
   "id": "e4156e3e",
   "metadata": {},
   "outputs": [],
   "source": [
    "crisis1and2_df['CRISIS Demographics - Has a disability?'].value_counts()"
   ]
  },
  {
   "cell_type": "code",
   "execution_count": null,
   "id": "81868222",
   "metadata": {},
   "outputs": [],
   "source": [
    "crisis1and2_df['CRISIS Demographics - Homeless?'].value_counts()"
   ]
  },
  {
   "cell_type": "code",
   "execution_count": null,
   "id": "48ad3d7c",
   "metadata": {},
   "outputs": [],
   "source": [
    "crisis1and2_df['CRISIS Demographics - Income'].value_counts()"
   ]
  },
  {
   "cell_type": "code",
   "execution_count": null,
   "id": "7b564d0a",
   "metadata": {},
   "outputs": [],
   "source": [
    "crisis1and2_df['CRISIS Demographics - Marital Status'].value_counts()"
   ]
  },
  {
   "cell_type": "code",
   "execution_count": null,
   "id": "9a961a40",
   "metadata": {},
   "outputs": [],
   "source": [
    "crisis1and2_df['CRISIS Demographics - Military'].value_counts()"
   ]
  },
  {
   "cell_type": "code",
   "execution_count": null,
   "id": "3166d966",
   "metadata": {},
   "outputs": [],
   "source": [
    "crisis1and2_df['HOM AX Demographics - Age'].value_counts()"
   ]
  },
  {
   "cell_type": "code",
   "execution_count": null,
   "id": "cd38a583",
   "metadata": {},
   "outputs": [],
   "source": [
    "crisis1and2_df['HOM AX Demographics - Education Level'].value_counts()"
   ]
  },
  {
   "cell_type": "code",
   "execution_count": null,
   "id": "06f8e7a3",
   "metadata": {},
   "outputs": [],
   "source": [
    "crisis1and2_df['HOM AX Demographics - Ethnicity'].value_counts()"
   ]
  },
  {
   "cell_type": "code",
   "execution_count": null,
   "id": "71b66b21",
   "metadata": {},
   "outputs": [],
   "source": [
    "crisis1and2_df['HOM AX Demographics - Gender'].value_counts()"
   ]
  },
  {
   "cell_type": "code",
   "execution_count": null,
   "id": "0909ebf0",
   "metadata": {},
   "outputs": [],
   "source": [
    "crisis1and2_df['HOM AX Demographics - Has a disability?'].value_counts()"
   ]
  },
  {
   "cell_type": "code",
   "execution_count": null,
   "id": "a147675a",
   "metadata": {},
   "outputs": [],
   "source": [
    "crisis1and2_df['HOM AX Demographics - Homeless?'].value_counts()"
   ]
  },
  {
   "cell_type": "code",
   "execution_count": null,
   "id": "ea74bbed",
   "metadata": {},
   "outputs": [],
   "source": [
    "crisis1and2_df['HOM AX Demographics - Marital Status'].value_counts()"
   ]
  },
  {
   "cell_type": "code",
   "execution_count": null,
   "id": "b0acf85d",
   "metadata": {},
   "outputs": [],
   "source": [
    "crisis1and2_df['HOM AX Demographics - Military'].value_counts()"
   ]
  },
  {
   "cell_type": "markdown",
   "id": "32b0c12d",
   "metadata": {},
   "source": [
    "Curious if columns FY, GL, GU, and GV should be considered a demographics"
   ]
  },
  {
   "cell_type": "code",
   "execution_count": null,
   "id": "013d434b",
   "metadata": {},
   "outputs": [],
   "source": [
    "crisis1and2_df['HOM AX Third-Party Risk Assessment Demographics - Does this risk assesment have different demographics than the caller? (Third-party Call)'].value_counts()"
   ]
  },
  {
   "cell_type": "code",
   "execution_count": null,
   "id": "31d6f50a",
   "metadata": {},
   "outputs": [],
   "source": [
    "crisis1and2_df['SUI AX Demographics - Age'].value_counts()"
   ]
  },
  {
   "cell_type": "code",
   "execution_count": null,
   "id": "2229bb5a",
   "metadata": {},
   "outputs": [],
   "source": [
    "crisis1and2_df['SUI AX Demographics - Ethnicity'].value_counts()"
   ]
  },
  {
   "cell_type": "code",
   "execution_count": null,
   "id": "83737375",
   "metadata": {},
   "outputs": [],
   "source": [
    "crisis1and2_df['SUI AX Demographics - Gender'].value_counts()"
   ]
  },
  {
   "cell_type": "code",
   "execution_count": null,
   "id": "b9465093",
   "metadata": {},
   "outputs": [],
   "source": [
    "crisis1and2_df['SUI AX Demographics - Relationship to person at risk'].value_counts()"
   ]
  },
  {
   "cell_type": "code",
   "execution_count": null,
   "id": "a78a05bc",
   "metadata": {},
   "outputs": [],
   "source": [
    "crisis1and2_df['SUI AX Third-Party Risk Assessment Demographics - SUI AX Does this risk assesment have different demographics than the caller? (Third-party Call)'].value_counts()"
   ]
  },
  {
   "cell_type": "code",
   "execution_count": null,
   "id": "4bbf468e",
   "metadata": {},
   "outputs": [],
   "source": [
    "crisis1and2_df['SUI AX Demographics - Relationship to person at risk'].value_counts()"
   ]
  },
  {
   "cell_type": "code",
   "execution_count": null,
   "id": "45bd717d",
   "metadata": {
    "scrolled": false
   },
   "outputs": [],
   "source": [
    "#Reading in Sheet 2020 of Call volume Excel File\n",
    "callVol2020 = pd.read_excel('../data/Contact center call volume_2020-2022.xlsx', sheet_name ='2020', skiprows=10)\n",
    "callVol2020_df = pd.DataFrame(callVol2020)\n",
    "callVol2020_df"
   ]
  },
  {
   "cell_type": "code",
   "execution_count": null,
   "id": "1a067e62",
   "metadata": {},
   "outputs": [],
   "source": [
    "#Reading in Sheet 2021 of Call volume Excel File\n",
    "callVol2021 = pd.read_excel('../data/Contact center call volume_2020-2022.xlsx', sheet_name ='2021', skiprows=10)\n",
    "callVol2021_df = pd.DataFrame(callVol2021)\n",
    "callVol2021_df"
   ]
  },
  {
   "cell_type": "code",
   "execution_count": null,
   "id": "ab665d08",
   "metadata": {},
   "outputs": [],
   "source": [
    "#Reading in Sheet 2022 of Call volume Excel File\n",
    "callVol2022 = pd.read_excel('../data/Contact center call volume_2020-2022.xlsx', sheet_name ='2022', skiprows=7)\n",
    "callVol2022_df = pd.DataFrame(callVol2022)\n",
    "callVol2022_df\n"
   ]
  }
 ],
 "metadata": {
  "kernelspec": {
   "display_name": "Python 3 (ipykernel)",
   "language": "python",
   "name": "python3"
  },
  "language_info": {
   "codemirror_mode": {
    "name": "ipython",
    "version": 3
   },
   "file_extension": ".py",
   "mimetype": "text/x-python",
   "name": "python",
   "nbconvert_exporter": "python",
   "pygments_lexer": "ipython3",
   "version": "3.9.7"
  }
 },
 "nbformat": 4,
 "nbformat_minor": 5
}
