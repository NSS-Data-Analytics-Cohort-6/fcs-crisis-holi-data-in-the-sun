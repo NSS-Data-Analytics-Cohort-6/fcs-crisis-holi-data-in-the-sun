{
 "cells": [
  {
   "cell_type": "code",
   "execution_count": null,
   "id": "8930cda8",
   "metadata": {},
   "outputs": [],
   "source": [
    "#Importing Packages\n",
    "import pandas as pd\n",
    "import openpyxl\n",
    "from pathlib import Path"
   ]
  },
  {
   "cell_type": "code",
   "execution_count": null,
   "id": "90579bbc",
   "metadata": {},
   "outputs": [],
   "source": [
    "#Reading in Crisis version 1 Excel file, removing the first two rows, converting to a Dataframe, and \n",
    "#printing the first five rows.\n",
    "crisisv1 = pd.read_excel('../data/NSSCrisisv.1.xlsx', skiprows=2)\n",
    "crisisv1_df = pd.DataFrame(crisisv1)\n",
    "crisisv1_df.head()"
   ]
  },
  {
   "cell_type": "code",
   "execution_count": null,
   "id": "c3097599",
   "metadata": {},
   "outputs": [],
   "source": [
    "#Viewing info about Crisis v1 Dataframe\n",
    "crisisv1_df.info()"
   ]
  },
  {
   "cell_type": "code",
   "execution_count": null,
   "id": "416ddb1a",
   "metadata": {},
   "outputs": [],
   "source": [
    "#Dropping all null values and viewing resulting info\n",
    "crisisv1_df.dropna()\n",
    "crisisv1_df.info()"
   ]
  },
  {
   "cell_type": "code",
   "execution_count": null,
   "id": "2ce86fca",
   "metadata": {},
   "outputs": [],
   "source": [
    "#Viewing resulting dataframe\n",
    "crisisv1_df"
   ]
  },
  {
   "cell_type": "code",
   "execution_count": null,
   "id": "89fb5652",
   "metadata": {},
   "outputs": [],
   "source": [
    "#Dropping all null value columns and viewing resulting info\n",
    "crisisv1_df.dropna(how='all', axis=1, inplace=True)\n",
    "crisisv1_df.info()\n",
    " "
   ]
  },
  {
   "cell_type": "code",
   "execution_count": null,
   "id": "45772869",
   "metadata": {},
   "outputs": [],
   "source": [
    "#Viewing resulting dataframe\n",
    "crisisv1_df"
   ]
  },
  {
   "cell_type": "code",
   "execution_count": null,
   "id": "e04fb801",
   "metadata": {
    "scrolled": true
   },
   "outputs": [],
   "source": [
    "#Reading in Crisis v2 Excel dataset, converting to dataframe, and viewing the top 5 rows\n",
    "crisisv2 = pd.read_excel('../data/NSSCrisisv.2.xlsx', skiprows=2)\n",
    "crisisv2_df = pd.DataFrame(crisisv2)\n",
    "crisisv2_df.head()"
   ]
  },
  {
   "cell_type": "code",
   "execution_count": null,
   "id": "4826f1cc",
   "metadata": {},
   "outputs": [],
   "source": [
    "#Dropping all null values and viewing resulting info\n",
    "crisisv2_df.dropna()\n",
    "crisisv2_df.info()"
   ]
  },
  {
   "cell_type": "code",
   "execution_count": null,
   "id": "13d2fdf5",
   "metadata": {},
   "outputs": [],
   "source": [
    "#Viewing resulting dataframe\n",
    "crisisv2_df"
   ]
  },
  {
   "cell_type": "code",
   "execution_count": null,
   "id": "bfb3b5d8",
   "metadata": {},
   "outputs": [],
   "source": [
    "#Dropping all null value columns and viewing resulting info\n",
    "crisisv2_df.dropna(how='all', axis=1, inplace=True)\n",
    "crisisv2_df.info()"
   ]
  },
  {
   "cell_type": "code",
   "execution_count": null,
   "id": "e703bec6",
   "metadata": {},
   "outputs": [],
   "source": [
    "#Viewing resulting dataframe\n",
    "crisisv2_df"
   ]
  },
  {
   "cell_type": "code",
   "execution_count": null,
   "id": "ab09368e",
   "metadata": {},
   "outputs": [],
   "source": [
    "#Concatenating the Crisis v1 and v2 Dataframes and viewing resulting dataframe\n",
    "crisis1and2_df = pd.concat([crisisv1_df, crisisv2_df])\n",
    "crisis1and2_df"
   ]
  },
  {
   "cell_type": "code",
   "execution_count": null,
   "id": "2a9b524e",
   "metadata": {},
   "outputs": [],
   "source": [
    "#Viewing resulting info of previous concatentation\n",
    "crisis1and2_df.info()"
   ]
  },
  {
   "cell_type": "code",
   "execution_count": null,
   "id": "45bd717d",
   "metadata": {
    "scrolled": false
   },
   "outputs": [],
   "source": [
    "#Reading in Sheet 2020 of Call volume Excel File\n",
    "callVol2020 = pd.read_excel('../data/Contact center call volume_2020-2022.xlsx', sheet_name ='2020', nrows=104)\n",
    "callVol2020_df = pd.DataFrame(callVol2020)\n",
    "callVol2020_df"
   ]
  },
  {
   "cell_type": "code",
   "execution_count": null,
   "id": "1a067e62",
   "metadata": {},
   "outputs": [],
   "source": [
    "#Reading in Sheet 2021 of Call volume Excel File\n",
    "callVol2021 = pd.read_excel('../data/Contact center call volume_2020-2022.xlsx', sheet_name ='2021', nrows=119)\n",
    "callVol2021_df = pd.DataFrame(callVol2021)\n",
    "callVol2021_df"
   ]
  },
  {
   "cell_type": "code",
   "execution_count": null,
   "id": "ab665d08",
   "metadata": {},
   "outputs": [],
   "source": [
    "#Reading in Sheet 2022 of Call volume Excel File\n",
    "callVol2022 = pd.read_excel('../data/Contact center call volume_2020-2022.xlsx', sheet_name ='2022', nrows=104)\n",
    "callVol2022_df = pd.DataFrame(callVol2022)\n",
    "callVol2022_df\n"
   ]
  },
  {
   "cell_type": "code",
   "execution_count": null,
   "id": "9f2b43fa",
   "metadata": {},
   "outputs": [],
   "source": []
  }
 ],
 "metadata": {
  "kernelspec": {
   "display_name": "Python 3 (ipykernel)",
   "language": "python",
   "name": "python3"
  },
  "language_info": {
   "codemirror_mode": {
    "name": "ipython",
    "version": 3
   },
   "file_extension": ".py",
   "mimetype": "text/x-python",
   "name": "python",
   "nbconvert_exporter": "python",
   "pygments_lexer": "ipython3",
   "version": "3.9.7"
  }
 },
 "nbformat": 4,
 "nbformat_minor": 5
}
