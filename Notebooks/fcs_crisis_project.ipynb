{
 "cells": [
  {
   "cell_type": "code",
   "execution_count": null,
   "id": "8930cda8",
   "metadata": {},
   "outputs": [],
   "source": [
    "#Importing Packages\n",
    "import pandas as pd\n",
    "import openpyxl\n",
    "from pathlib import Path"
   ]
  },
  {
   "cell_type": "code",
   "execution_count": null,
   "id": "90579bbc",
   "metadata": {},
   "outputs": [],
   "source": [
    "#Reading in Crisis version 1 Excel file, removing the first two rows, converting to a Dataframe, and \n",
    "#printing the first five rows.\n",
    "crisisv1 = pd.read_excel('../data/NSSCrisisv.1.xlsx', skiprows=2)\n",
    "crisisv1_df = pd.DataFrame(crisisv1)\n",
    "crisisv1_df.head()"
   ]
  },
  {
   "cell_type": "code",
   "execution_count": null,
   "id": "ff37a6a5",
   "metadata": {},
   "outputs": [],
   "source": [
    "crisisv1_df.tail()"
   ]
  },
  {
   "cell_type": "code",
   "execution_count": null,
   "id": "c3097599",
   "metadata": {},
   "outputs": [],
   "source": [
    "#Viewing info about Crisis v1 Dataframe\n",
    "crisisv1_df.info()"
   ]
  },
  {
   "cell_type": "code",
   "execution_count": null,
   "id": "f71ff614",
   "metadata": {},
   "outputs": [],
   "source": [
    "#Getting a sum of null values\n",
    "crisisv1_df.isnull().sum()"
   ]
  },
  {
   "cell_type": "code",
   "execution_count": null,
   "id": "416ddb1a",
   "metadata": {},
   "outputs": [],
   "source": [
    "#Dropping all null values and viewing resulting info\n",
    "crisisv1_df.dropna()\n",
    "crisisv1_df.info()"
   ]
  },
  {
   "cell_type": "code",
   "execution_count": null,
   "id": "2ce86fca",
   "metadata": {},
   "outputs": [],
   "source": [
    "#Viewing resulting dataframe\n",
    "crisisv1_df"
   ]
  },
  {
   "cell_type": "code",
   "execution_count": null,
   "id": "89fb5652",
   "metadata": {},
   "outputs": [],
   "source": [
    "#Dropping all null value columns and viewing resulting info\n",
    "crisisv1_df.dropna(how='all', axis=1, inplace=True)\n",
    "crisisv1_df.info()\n",
    " "
   ]
  },
  {
   "cell_type": "code",
   "execution_count": null,
   "id": "45772869",
   "metadata": {},
   "outputs": [],
   "source": [
    "#Viewing resulting dataframe\n",
    "crisisv1_df"
   ]
  },
  {
   "cell_type": "code",
   "execution_count": null,
   "id": "e04fb801",
   "metadata": {
    "scrolled": true
   },
   "outputs": [],
   "source": [
    "#Reading in Crisis v2 Excel dataset, converting to dataframe, and viewing the top 5 rows\n",
    "crisisv2 = pd.read_excel('../data/NSSCrisisv.2.xlsx', skiprows=2)\n",
    "crisisv2_df = pd.DataFrame(crisisv2)\n",
    "crisisv2_df.head()"
   ]
  },
  {
   "cell_type": "code",
   "execution_count": null,
   "id": "6562940f",
   "metadata": {},
   "outputs": [],
   "source": [
    "crisisv2_df.tail()"
   ]
  },
  {
   "cell_type": "code",
   "execution_count": null,
   "id": "4826f1cc",
   "metadata": {},
   "outputs": [],
   "source": [
    "#Dropping all null values and viewing resulting info\n",
    "crisisv2_df.dropna()\n",
    "crisisv2_df.info()"
   ]
  },
  {
   "cell_type": "code",
   "execution_count": null,
   "id": "13d2fdf5",
   "metadata": {},
   "outputs": [],
   "source": [
    "#Viewing resulting dataframe\n",
    "crisisv2_df"
   ]
  },
  {
   "cell_type": "code",
   "execution_count": null,
   "id": "bfb3b5d8",
   "metadata": {},
   "outputs": [],
   "source": [
    "#Dropping all null value columns and viewing resulting info\n",
    "crisisv2_df.dropna(how='all', axis=1, inplace=True)\n",
    "crisisv2_df.info()"
   ]
  },
  {
   "cell_type": "code",
   "execution_count": null,
   "id": "e703bec6",
   "metadata": {},
   "outputs": [],
   "source": [
    "#Viewing resulting dataframe\n",
    "crisisv2_df"
   ]
  },
  {
   "cell_type": "code",
   "execution_count": null,
   "id": "ab09368e",
   "metadata": {
    "scrolled": false
   },
   "outputs": [],
   "source": [
    "#Concatenating the Crisis v1 and v2 Dataframes and viewing resulting dataframe\n",
    "crisis1and2_df = pd.concat([crisisv1_df, crisisv2_df])\n",
    "crisis1and2_df"
   ]
  },
  {
   "cell_type": "code",
   "execution_count": null,
   "id": "1becec30",
   "metadata": {},
   "outputs": [],
   "source": [
    "crisis1and2_df.info()"
   ]
  },
  {
   "cell_type": "code",
   "execution_count": null,
   "id": "14c52604",
   "metadata": {},
   "outputs": [],
   "source": [
    "# Converting CallDateAndTimeStart column data type to string and creating call data column\n",
    "crisis1and2_df['CallDateAndTimeStart'] = crisis1and2_df['CallDateAndTimeStart'].astype('str')\n",
    "crisis1and2_df['call_date'] = crisis1and2_df.CallDateAndTimeStart.str[0:10]\n",
    "crisis1and2_df.info()"
   ]
  },
  {
   "cell_type": "code",
   "execution_count": null,
   "id": "e4fb73ab",
   "metadata": {},
   "outputs": [],
   "source": [
    "crisis1and2_df"
   ]
  },
  {
   "cell_type": "code",
   "execution_count": null,
   "id": "940b36f8",
   "metadata": {},
   "outputs": [],
   "source": [
    "crisis1and2_df['PostalCode'] = crisis1and2_df['PostalCode'].astype('str')\n",
    "type(crisis1and2_df.PostalCode)"
   ]
  },
  {
   "cell_type": "code",
   "execution_count": null,
   "id": "984e17b6",
   "metadata": {},
   "outputs": [],
   "source": [
    "# Getting counts of differing postal codes of callers\n",
    "crisis1and2_df['PostalCode'].value_counts()"
   ]
  },
  {
   "cell_type": "code",
   "execution_count": null,
   "id": "7fb0662b",
   "metadata": {},
   "outputs": [],
   "source": [
    "crisis1and2_df['ThirdPartyCity'].value_counts()"
   ]
  },
  {
   "cell_type": "code",
   "execution_count": null,
   "id": "c2522bf6",
   "metadata": {},
   "outputs": [],
   "source": [
    "crisis1and2_df['ThirdPartyCounty'].value_counts()"
   ]
  },
  {
   "cell_type": "code",
   "execution_count": null,
   "id": "fb70d977",
   "metadata": {},
   "outputs": [],
   "source": [
    "crisis1and2_df['ThirdPartyStateProvince'].value_counts()"
   ]
  },
  {
   "cell_type": "code",
   "execution_count": null,
   "id": "db25b7e2",
   "metadata": {},
   "outputs": [],
   "source": [
    "crisis1and2_df['ThirdPartyPostalCode'] = crisis1and2_df['ThirdPartyPostalCode'].astype('str')\n",
    "crisis1and2_df['ThirdPartyPostalCode'].value_counts()"
   ]
  },
  {
   "cell_type": "code",
   "execution_count": null,
   "id": "7d9656f4",
   "metadata": {},
   "outputs": [],
   "source": [
    "crisis1and2_df['CRISIS Demographics - Occupation'].value_counts()"
   ]
  },
  {
   "cell_type": "code",
   "execution_count": null,
   "id": "217c11d8",
   "metadata": {},
   "outputs": [],
   "source": [
    "crisis1and2_df['HOM AX Demographics - Occupation'].value_counts()"
   ]
  },
  {
   "cell_type": "code",
   "execution_count": null,
   "id": "37e09b58",
   "metadata": {},
   "outputs": [],
   "source": [
    "crisis1and2_df['SUI AX Demographics - Name of Third Party'].value_counts()"
   ]
  },
  {
   "cell_type": "code",
   "execution_count": null,
   "id": "12894ebd",
   "metadata": {},
   "outputs": [],
   "source": [
    "# Getting counts of age brackets of callers\n",
    "crisis1and2_df['CRISIS Demographics - Age'].value_counts()"
   ]
  },
  {
   "cell_type": "code",
   "execution_count": null,
   "id": "2be034a0",
   "metadata": {},
   "outputs": [],
   "source": [
    "crisis1and2_df['CRISIS Demographics - Education Level'].value_counts()"
   ]
  },
  {
   "cell_type": "code",
   "execution_count": null,
   "id": "de0297ec",
   "metadata": {},
   "outputs": [],
   "source": [
    "crisis1and2_df['CRISIS Demographics - Ethnicity'].value_counts()"
   ]
  },
  {
   "cell_type": "code",
   "execution_count": null,
   "id": "4a26c88a",
   "metadata": {},
   "outputs": [],
   "source": [
    "crisis1and2_df['CRISIS Demographics - Gender Identity'].value_counts()"
   ]
  },
  {
   "cell_type": "code",
   "execution_count": null,
   "id": "e4156e3e",
   "metadata": {},
   "outputs": [],
   "source": [
    "crisis1and2_df['CRISIS Demographics - Has a disability?'].value_counts()"
   ]
  },
  {
   "cell_type": "code",
   "execution_count": null,
   "id": "81868222",
   "metadata": {},
   "outputs": [],
   "source": [
    "crisis1and2_df['CRISIS Demographics - Homeless?'].value_counts()"
   ]
  },
  {
   "cell_type": "code",
   "execution_count": null,
   "id": "48ad3d7c",
   "metadata": {},
   "outputs": [],
   "source": [
    "crisis1and2_df['CRISIS Demographics - Income'].value_counts()"
   ]
  },
  {
   "cell_type": "code",
   "execution_count": null,
   "id": "7b564d0a",
   "metadata": {},
   "outputs": [],
   "source": [
    "crisis1and2_df['CRISIS Demographics - Marital Status'].value_counts()"
   ]
  },
  {
   "cell_type": "code",
   "execution_count": null,
   "id": "9a961a40",
   "metadata": {},
   "outputs": [],
   "source": [
    "crisis1and2_df['CRISIS Demographics - Military'].value_counts()"
   ]
  },
  {
   "cell_type": "code",
   "execution_count": null,
   "id": "3166d966",
   "metadata": {},
   "outputs": [],
   "source": [
    "crisis1and2_df['HOM AX Demographics - Age'].value_counts()"
   ]
  },
  {
   "cell_type": "code",
   "execution_count": null,
   "id": "cd38a583",
   "metadata": {},
   "outputs": [],
   "source": [
    "crisis1and2_df['HOM AX Demographics - Education Level'].value_counts()"
   ]
  },
  {
   "cell_type": "code",
   "execution_count": null,
   "id": "06f8e7a3",
   "metadata": {},
   "outputs": [],
   "source": [
    "crisis1and2_df['HOM AX Demographics - Ethnicity'].value_counts()"
   ]
  },
  {
   "cell_type": "code",
   "execution_count": null,
   "id": "71b66b21",
   "metadata": {},
   "outputs": [],
   "source": [
    "crisis1and2_df['HOM AX Demographics - Gender'].value_counts()"
   ]
  },
  {
   "cell_type": "code",
   "execution_count": null,
   "id": "0909ebf0",
   "metadata": {},
   "outputs": [],
   "source": [
    "crisis1and2_df['HOM AX Demographics - Has a disability?'].value_counts()"
   ]
  },
  {
   "cell_type": "code",
   "execution_count": null,
   "id": "a147675a",
   "metadata": {},
   "outputs": [],
   "source": [
    "crisis1and2_df['HOM AX Demographics - Homeless?'].value_counts()"
   ]
  },
  {
   "cell_type": "code",
   "execution_count": null,
   "id": "ea74bbed",
   "metadata": {},
   "outputs": [],
   "source": [
    "crisis1and2_df['HOM AX Demographics - Marital Status'].value_counts()"
   ]
  },
  {
   "cell_type": "code",
   "execution_count": null,
   "id": "b0acf85d",
   "metadata": {},
   "outputs": [],
   "source": [
    "crisis1and2_df['HOM AX Demographics - Military'].value_counts()"
   ]
  },
  {
   "attachments": {},
   "cell_type": "markdown",
   "id": "32b0c12d",
   "metadata": {},
   "source": [
    "Curious if columns FY, GL, GU, and GV should be considered a demographics"
   ]
  },
  {
   "cell_type": "code",
   "execution_count": null,
   "id": "013d434b",
   "metadata": {},
   "outputs": [],
   "source": [
    "crisis1and2_df['HOM AX Third-Party Risk Assessment Demographics - Does this risk assesment have different demographics than the caller? (Third-party Call)'].value_counts()"
   ]
  },
  {
   "cell_type": "code",
   "execution_count": null,
   "id": "31d6f50a",
   "metadata": {},
   "outputs": [],
   "source": [
    "crisis1and2_df['SUI AX Demographics - Age'].value_counts()"
   ]
  },
  {
   "cell_type": "code",
   "execution_count": null,
   "id": "2229bb5a",
   "metadata": {},
   "outputs": [],
   "source": [
    "crisis1and2_df['SUI AX Demographics - Ethnicity'].value_counts()"
   ]
  },
  {
   "cell_type": "code",
   "execution_count": null,
   "id": "83737375",
   "metadata": {},
   "outputs": [],
   "source": [
    "crisis1and2_df['SUI AX Demographics - Gender'].value_counts()"
   ]
  },
  {
   "cell_type": "code",
   "execution_count": null,
   "id": "b9465093",
   "metadata": {},
   "outputs": [],
   "source": [
    "crisis1and2_df['SUI AX Demographics - Relationship to person at risk'].value_counts()"
   ]
  },
  {
   "cell_type": "code",
   "execution_count": null,
   "id": "a78a05bc",
   "metadata": {},
   "outputs": [],
   "source": [
    "crisis1and2_df['SUI AX Third-Party Risk Assessment Demographics - SUI AX Does this risk assesment have different demographics than the caller? (Third-party Call)'].value_counts()"
   ]
  },
  {
   "cell_type": "code",
   "execution_count": null,
   "id": "4bbf468e",
   "metadata": {},
   "outputs": [],
   "source": [
    "crisis1and2_df['SUI AX Demographics - Relationship to person at risk'].value_counts()"
   ]
  },
  {
   "cell_type": "code",
   "execution_count": null,
   "id": "45bd717d",
   "metadata": {
    "scrolled": false
   },
   "outputs": [],
   "source": [
    "#Reading in Sheet 2020 of Call volume Excel File\n",
    "callVol2020 = pd.read_excel('../data/Contact center call volume_2020-2022.xlsx', sheet_name ='2020', skiprows=10)\n",
    "callVol2020_df = pd.DataFrame(callVol2020)\n",
    "callVol2020_df"
   ]
  },
  {
   "cell_type": "code",
   "execution_count": null,
   "id": "f958efb6",
   "metadata": {},
   "outputs": [],
   "source": [
    "#Creates Dataframe just from total calls in 2020\n",
    "#callVol2020_df = callVol2020_df[['Total Calls', 'Unnamed:1']]\n",
    "#callVol2020_df"
   ]
  },
  {
   "cell_type": "code",
   "execution_count": null,
   "id": "1a067e62",
   "metadata": {},
   "outputs": [],
   "source": [
    "#Reading in Sheet 2021 of Call volume Excel File\n",
    "callVol2021 = pd.read_excel('../data/Contact center call volume_2020-2022.xlsx', sheet_name ='2021', skiprows=10)\n",
    "callVol2021_df = pd.DataFrame(callVol2021)\n",
    "callVol2021_df"
   ]
  },
  {
   "cell_type": "code",
   "execution_count": null,
   "id": "ab665d08",
   "metadata": {},
   "outputs": [],
   "source": [
    "#Reading in Sheet 2022 of Call volume Excel File\n",
    "callVol2022 = pd.read_excel('../data/Contact center call volume_2020-2022.xlsx', sheet_name ='2022', skiprows=7)\n",
    "callVol2022_df = pd.DataFrame(callVol2022)\n",
    "callVol2022_df\n"
   ]
  },
  {
   "cell_type": "code",
   "execution_count": null,
   "id": "9f2b43fa",
   "metadata": {},
   "outputs": [],
   "source": []
  }
 ],
 "metadata": {
  "kernelspec": {
   "display_name": "Python 3 (ipykernel)",
   "language": "python",
   "name": "python3"
  },
  "language_info": {
   "codemirror_mode": {
    "name": "ipython",
    "version": 3
   },
   "file_extension": ".py",
   "mimetype": "text/x-python",
   "name": "python",
   "nbconvert_exporter": "python",
   "pygments_lexer": "ipython3",
   "version": "3.9.7"
  }
 },
 "nbformat": 4,
 "nbformat_minor": 5
}
