{
 "cells": [
  {
   "cell_type": "code",
   "execution_count": null,
   "id": "8930cda8",
   "metadata": {},
   "outputs": [],
   "source": [
    "import pandas as pd\n",
    "import openpyxl\n",
    "from pathlib import Path"
   ]
  },
  {
   "cell_type": "code",
   "execution_count": null,
   "id": "90579bbc",
   "metadata": {},
   "outputs": [],
   "source": [
    "crisisv1 = pd.read_excel('../data/NSSCrisisv.1.xlsx', skiprows=2)\n",
    "crisisv1_df = pd.DataFrame(crisisv1)\n",
    "crisisv1_df.head()"
   ]
  },
  {
   "cell_type": "code",
   "execution_count": null,
   "id": "e04fb801",
   "metadata": {
    "scrolled": true
   },
   "outputs": [],
   "source": [
    "crisisv2 = pd.read_excel('../data/NSSCrisisv.2.xlsx', skiprows=2)\n",
    "crisisv2_df = pd.DataFrame(crisisv2)\n",
    "crisisv2_df.head()"
   ]
  },
  {
   "cell_type": "code",
   "execution_count": null,
   "id": "ab09368e",
   "metadata": {},
   "outputs": [],
   "source": [
    "crisis1and2_df = pd.concat([crisisv1_df, crisisv2_df])\n",
    "crisis1and2_df"
   ]
  },
  {
   "cell_type": "code",
   "execution_count": null,
   "id": "45bd717d",
   "metadata": {
    "scrolled": false
   },
   "outputs": [],
   "source": [
    "callVol2020 = pd.read_excel('../data/Contact center call volume_2020-2022.xlsx', sheet_name ='2020', nrows=104)\n",
    "callVol2020_df = pd.DataFrame(callVol2020)\n",
    "callVol2020_df"
   ]
  },
  {
   "cell_type": "code",
   "execution_count": null,
   "id": "1a067e62",
   "metadata": {},
   "outputs": [],
   "source": [
    "callVol2021 = pd.read_excel('../data/Contact center call volume_2020-2022.xlsx', sheet_name ='2021', nrows=119)\n",
    "callVol2021_df = pd.DataFrame(callVol2021)\n",
    "callVol2021_df"
   ]
  },
  {
   "cell_type": "code",
   "execution_count": null,
   "id": "ab665d08",
   "metadata": {},
   "outputs": [],
   "source": [
    "callVol2022 = pd.read_excel('../data/Contact center call volume_2020-2022.xlsx', sheet_name ='2022', nrows=104)\n",
    "callVol2022_df = pd.DataFrame(callVol2022)\n",
    "callVol2022_df\n"
   ]
  },
  {
   "cell_type": "code",
   "execution_count": null,
   "id": "9f2b43fa",
   "metadata": {},
   "outputs": [],
   "source": []
  }
 ],
 "metadata": {
  "kernelspec": {
   "display_name": "Python 3 (ipykernel)",
   "language": "python",
   "name": "python3"
  },
  "language_info": {
   "codemirror_mode": {
    "name": "ipython",
    "version": 3
   },
   "file_extension": ".py",
   "mimetype": "text/x-python",
   "name": "python",
   "nbconvert_exporter": "python",
   "pygments_lexer": "ipython3",
   "version": "3.9.7"
  }
 },
 "nbformat": 4,
 "nbformat_minor": 5
}
