{
 "cells": [
  {
   "cell_type": "code",
   "execution_count": null,
   "id": "0e0c5eef",
   "metadata": {},
   "outputs": [],
   "source": [
    "import requests\n",
    "import pandas as pd\n",
    "import json"
   ]
  },
  {
   "cell_type": "code",
   "execution_count": null,
   "id": "ab02401b",
   "metadata": {},
   "outputs": [],
   "source": [
    "SH_df2 = pd.read_excel (r'../Data/NSSCrisisv.2.xlsx')\n",
    "print (SH_df2)"
   ]
  },
  {
   "cell_type": "code",
   "execution_count": null,
   "id": "5120cb31",
   "metadata": {},
   "outputs": [],
   "source": [
    "SH_df1 = pd.read_excel (r'../Data/NSSCrisisv.1.xlsx')\n",
    "print (SH_df1)"
   ]
  },
  {
   "cell_type": "code",
   "execution_count": null,
   "id": "c216259d",
   "metadata": {},
   "outputs": [],
   "source": [
    "call_vol_df = pd.read_excel (r'../Data/Contact center call volume_2020-2022.xlsx')\n",
    "print (call_vol_df)\n",
    "\n",
    "#\"C:\\Users\\Megan Grim\\Documents\\NSS\\projects\\fcs-crisis-holi-data-in-the-sun\\Data\\Contact center call volume_2020-2022.xlsx\""
   ]
  },
  {
   "cell_type": "code",
   "execution_count": null,
   "id": "7ffc87ca",
   "metadata": {},
   "outputs": [],
   "source": [
    "call_vol_df= pd.DataFrame(call_vol_df)\n",
    "call_vol_df"
   ]
  },
  {
   "cell_type": "markdown",
   "id": "08deead2",
   "metadata": {},
   "source": [
    "header_row=1\n",
    "call_vol_df.columns = call_vol_df.iloc[header_row]"
   ]
  },
  {
   "cell_type": "markdown",
   "id": "b983df13",
   "metadata": {},
   "source": [
    "call_vol_df = call_vol_df.drop(header_row)"
   ]
  },
  {
   "cell_type": "markdown",
   "id": "6dcd3ac1",
   "metadata": {},
   "source": [
    "call_vol_df=call_vol_df.reset_index(drop=True)"
   ]
  },
  {
   "cell_type": "markdown",
   "id": "35159d30",
   "metadata": {},
   "source": [
    "call_vol_df"
   ]
  },
  {
   "cell_type": "code",
   "execution_count": null,
   "id": "ecd5e738",
   "metadata": {},
   "outputs": [],
   "source": [
    "SH_df1 = pd.DataFrame(SH_df1)"
   ]
  },
  {
   "cell_type": "code",
   "execution_count": null,
   "id": "5c5a31e6",
   "metadata": {},
   "outputs": [],
   "source": [
    "SH_df1"
   ]
  },
  {
   "cell_type": "code",
   "execution_count": null,
   "id": "11dbe90f",
   "metadata": {},
   "outputs": [],
   "source": [
    "header_row=1\n",
    "SH_df1.columns = SH_df1.iloc[header_row]"
   ]
  },
  {
   "cell_type": "code",
   "execution_count": null,
   "id": "213ec922",
   "metadata": {},
   "outputs": [],
   "source": [
    "SH_df1 = SH_df1.drop(header_row)"
   ]
  },
  {
   "cell_type": "code",
   "execution_count": null,
   "id": "17004b48",
   "metadata": {},
   "outputs": [],
   "source": [
    "SH_df1=SH_df1.reset_index(drop=False)"
   ]
  },
  {
   "cell_type": "code",
   "execution_count": null,
   "id": "802a416c",
   "metadata": {},
   "outputs": [],
   "source": [
    "print(SH_df1)"
   ]
  },
  {
   "cell_type": "code",
   "execution_count": null,
   "id": "55d597c9",
   "metadata": {},
   "outputs": [],
   "source": [
    "header_row=1 call_vol_df.columns = call_vol_df.iloc[header_row]\n",
    "\n",
    "call_vol_df = call_vol_df.drop(header_row)\n",
    "\n",
    "call_vol_df=call_vol_df.reset_index(drop=True)\n",
    "\n",
    "call_vol_df"
   ]
  }
 ],
 "metadata": {
  "kernelspec": {
   "display_name": "Python 3 (ipykernel)",
   "language": "python",
   "name": "python3"
  },
  "language_info": {
   "codemirror_mode": {
    "name": "ipython",
    "version": 3
   },
   "file_extension": ".py",
   "mimetype": "text/x-python",
   "name": "python",
   "nbconvert_exporter": "python",
   "pygments_lexer": "ipython3",
   "version": "3.9.7"
  }
 },
 "nbformat": 4,
 "nbformat_minor": 5
}
