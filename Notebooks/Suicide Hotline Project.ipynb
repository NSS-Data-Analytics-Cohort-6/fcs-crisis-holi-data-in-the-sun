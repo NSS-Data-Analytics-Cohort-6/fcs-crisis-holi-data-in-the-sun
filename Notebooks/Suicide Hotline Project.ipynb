{
 "cells": [
  {
   "cell_type": "code",
   "execution_count": null,
   "id": "92840a36",
   "metadata": {},
   "outputs": [],
   "source": [
    "import requests\n",
    "import pandas as pd\n",
    "import json"
   ]
  },
  {
   "cell_type": "code",
   "execution_count": null,
   "id": "c86f5fd7",
   "metadata": {
    "scrolled": true
   },
   "outputs": [],
   "source": [
    "SH_df1 = pd.read_excel (r'../Data/NSSCrisisv.1.xlsx', skiprows = [0, 1])\n",
    "SH_df1=SH_df1.reset_index(drop=True)\n",
    "SH_df1"
   ]
  },
  {
   "cell_type": "code",
   "execution_count": null,
   "id": "3bc70ff9",
   "metadata": {
    "scrolled": true
   },
   "outputs": [],
   "source": [
    "SH_df2 = pd.read_excel (r'../Data/NSSCrisisv.2.xlsx', skiprows = [0, 1])\n",
    "SH_df2=SH_df2.reset_index(drop=True)\n",
    "SH_df2"
   ]
  },
  {
   "cell_type": "code",
   "execution_count": null,
   "id": "d78a3f45",
   "metadata": {},
   "outputs": [],
   "source": [
    "#call_vol_df = pd.read_excel (r'../Data/Contact center call volume_2020-2022.xlsx')\n",
    "#call_vol_df\n",
    "#\"C:\\Users\\Megan Grim\\Documents\\NSS\\projects\\fcs-crisis-holi-data-in-the-sun\\Data\\Contact center call volume_2020-2022.xlsx\""
   ]
  },
  {
   "cell_type": "code",
   "execution_count": null,
   "id": "ba55d3ab",
   "metadata": {},
   "outputs": [],
   "source": [
    "#call_vol_df= pd.DataFrame(call_vol_df)\n",
    "#call_vol_df"
   ]
  },
  {
   "cell_type": "markdown",
   "id": "ce6f9edb",
   "metadata": {},
   "source": [
    "header_row=1\n",
    "call_vol_df.columns = call_vol_df.iloc[header_row]"
   ]
  },
  {
   "cell_type": "markdown",
   "id": "0a5dc39d",
   "metadata": {},
   "source": [
    "call_vol_df = call_vol_df.drop(header_row)"
   ]
  },
  {
   "cell_type": "markdown",
   "id": "19db2226",
   "metadata": {},
   "source": [
    "call_vol_df=call_vol_df.reset_index(drop=True)"
   ]
  },
  {
   "cell_type": "markdown",
   "id": "9072e9db",
   "metadata": {},
   "source": [
    "call_vol_df"
   ]
  },
  {
   "cell_type": "code",
   "execution_count": null,
   "id": "9a34fe21",
   "metadata": {},
   "outputs": [],
   "source": [
    "SH_df1.dtypes"
   ]
  },
  {
   "cell_type": "code",
   "execution_count": null,
   "id": "fd45b625",
   "metadata": {},
   "outputs": [],
   "source": [
    "SH_df1.info()"
   ]
  },
  {
   "cell_type": "code",
   "execution_count": null,
   "id": "23290e78",
   "metadata": {},
   "outputs": [],
   "source": [
    "SH_df1['Narrative']"
   ]
  },
  {
   "cell_type": "code",
   "execution_count": null,
   "id": "b3f71c8a",
   "metadata": {},
   "outputs": [],
   "source": [
    "SH_df1.value_counts(normalize=True)"
   ]
  },
  {
   "cell_type": "code",
   "execution_count": null,
   "id": "40020d6b",
   "metadata": {},
   "outputs": [],
   "source": [
    "SH_df2.dtypes"
   ]
  },
  {
   "cell_type": "code",
   "execution_count": null,
   "id": "e375ea02",
   "metadata": {},
   "outputs": [],
   "source": [
    "SH_df2.info()"
   ]
  },
  {
   "cell_type": "code",
   "execution_count": null,
   "id": "487cc16b",
   "metadata": {},
   "outputs": [],
   "source": [
    "crisis=pd.concat([SH_df2, SH_df1])"
   ]
  },
  {
   "cell_type": "markdown",
   "id": "a4ffd891",
   "metadata": {},
   "source": [
    "Caitlyn made top 5 caller:"
   ]
  },
  {
   "cell_type": "code",
   "execution_count": null,
   "id": "2d128d10",
   "metadata": {},
   "outputs": [],
   "source": [
    "top5occ = crisis.loc[crisis['CRISIS Demographics - Occupation'].isin(['Works at Goodwill', 'News Anchor', 'Construction Worker', 'bagger at Kroger', 'Substitute Teacher'])]\n",
    "top5occ.head()"
   ]
  },
  {
   "cell_type": "code",
   "execution_count": null,
   "id": "71ef60cf",
   "metadata": {},
   "outputs": [],
   "source": [
    "df_new = top5occ[['CRISIS Demographics - Occupation', 'CRISIS Demographics - Marital Status']]\n",
    "df_new"
   ]
  },
  {
   "cell_type": "code",
   "execution_count": null,
   "id": "7ec27427",
   "metadata": {},
   "outputs": [],
   "source": [
    "df_new = top5occ[['CRISIS Demographics - Occupation', 'CRISIS Demographics - Marital Status']]\n",
    "df_new"
   ]
  },
  {
   "cell_type": "code",
   "execution_count": null,
   "id": "93680ef9",
   "metadata": {},
   "outputs": [],
   "source": [
    "crisis['CallerNum'].valuecount()#.unique()"
   ]
  },
  {
   "cell_type": "code",
   "execution_count": null,
   "id": "f6fa7033",
   "metadata": {},
   "outputs": [],
   "source": [
    "df_try=crisis.groupby('CRISIS Demographics - Occupation')['CallerNum'].value_counts().unstack()\n",
    "df_try\n",
    "# = [['CRISIS Demographics - Occupation', 'CallerNum']]\n",
    "#df_try"
   ]
  },
  {
   "cell_type": "markdown",
   "id": "533aba80",
   "metadata": {},
   "source": [
    "Looking at top 5 occuption and their marital status at the time of call"
   ]
  },
  {
   "cell_type": "code",
   "execution_count": null,
   "id": "5c933e0a",
   "metadata": {},
   "outputs": [],
   "source": [
    "top5_marital=df_new['CRISIS Demographics - Marital Status'].value_counts(normalize=True).nlargest(n=10).to_frame('perc')\n",
    "top5_marital=top5_marital.reset_index()\n",
    "top5_marital"
   ]
  },
  {
   "cell_type": "code",
   "execution_count": null,
   "id": "69a3766e",
   "metadata": {},
   "outputs": [],
   "source": [
    "data = [0.508160, 0.491098, 0.000742]\n",
    "labels = ['Single', 'Divorced', 'Widowed']\n",
    "\n",
    "#define Seaborn color palette to use\n",
    "colors = sns.color_palette('viridis')[0:5]\n",
    "\n",
    "#create pie chart\n",
    "plt.pie(data, labels = labels, colors = colors, autopct='%1.11f%%', wedgeprops = {'linewidth' : 1, 'edgecolor' : 'white'})\n",
    "plt.axis('equal')\n",
    "plt.show()\n",
    "\n",
    "#plt.pie(recording_counts, labels=dsp_labels, autopct='%1.111111f%%', wedgeprops = {'linewidth' : 1, 'edgecolor' : 'white'}, colors=colors)\n",
    "\n",
    "#plt.savefig('DSPs Submitting 99 Hour Recordings.png')\n",
    "#plt.show()"
   ]
  },
  {
   "cell_type": "code",
   "execution_count": null,
   "id": "243e1999",
   "metadata": {},
   "outputs": [],
   "source": [
    "data = top5_marital.sort_values(by = ['index','perc'],ascending=[True,True])\n",
    "sns.set(rc={\"figure.figsize\":(15,11)})\n",
    "sns.barplot('index','perc', data=data, palette =\"viridis\")\n",
    "#plt.Axes.axes.barplot(width=5)\n",
    "plt.xlabel(None)\n",
    "plt.ylabel(None)\n",
    "plt.xticks(rotation = 70)\n",
    "#plt.legend(loc='best', frameon=True, fontsize=12)\n",
    "plt.title(\"Top 5 Occupation/Marital Status\",fontdict= { 'fontsize': 22, 'fontweight':'bold','verticalalignment': 'center'})\n",
    "plt.tick_params(axis='both', which='major', labelsize=15);"
   ]
  },
  {
   "cell_type": "markdown",
   "id": "0b10d0c6",
   "metadata": {},
   "source": [
    "Attempting a pie chart:"
   ]
  },
  {
   "cell_type": "code",
   "execution_count": null,
   "id": "7795a65a",
   "metadata": {},
   "outputs": [],
   "source": [
    "idkrightnow=top5occ.groupby('CRISIS Demographics - Occupation')['CRISIS Demographics - Marital Status'].value_counts().unstack()\n",
    "idkrightnow"
   ]
  },
  {
   "cell_type": "code",
   "execution_count": null,
   "id": "36c531a2",
   "metadata": {},
   "outputs": [],
   "source": [
    "idkrightnow.info()"
   ]
  },
  {
   "cell_type": "code",
   "execution_count": null,
   "id": "8a98f213",
   "metadata": {},
   "outputs": [],
   "source": [
    "demographics = crisis.loc[:,['Demographics' in i for i in crisis.columns]]\n",
    "demographics"
   ]
  },
  {
   "cell_type": "code",
   "execution_count": null,
   "id": "2d7b5707",
   "metadata": {},
   "outputs": [],
   "source": [
    "demographics.count()"
   ]
  },
  {
   "cell_type": "code",
   "execution_count": null,
   "id": "d28f940a",
   "metadata": {},
   "outputs": [],
   "source": [
    "demographics.info()"
   ]
  },
  {
   "cell_type": "code",
   "execution_count": null,
   "id": "01f5551e",
   "metadata": {},
   "outputs": [],
   "source": [
    "Marital_status = crisis.loc[:,['CRISIS Demographics - Marital Status' in i for i in crisis.columns]]\n",
    "Marital_status"
   ]
  },
  {
   "cell_type": "code",
   "execution_count": null,
   "id": "99037ed5",
   "metadata": {},
   "outputs": [],
   "source": [
    "Marital_status.count()"
   ]
  },
  {
   "cell_type": "code",
   "execution_count": null,
   "id": "095f1b9b",
   "metadata": {},
   "outputs": [],
   "source": [
    "marital_status_crisis=Marital_status['CRISIS Demographics - Marital Status'].value_counts(normalize=True).nlargest(n=5).to_frame('perc')\n",
    "marital_status_crisis=marital_status_crisis.reset_index()\n",
    "marital_status_crisis"
   ]
  },
  {
   "cell_type": "code",
   "execution_count": null,
   "id": "1047355a",
   "metadata": {},
   "outputs": [],
   "source": [
    "data = marital_status_crisis.sort_values(by = ['index','perc'],ascending=[True,True])\n",
    "sns.set(rc={\"figure.figsize\":(15,11)})\n",
    "sns.barplot('index','perc', data=data, palette =\"viridis\")\n",
    "#plt.Axes.axes.barplot(width=5)\n",
    "plt.xlabel(None)\n",
    "plt.ylabel(None)\n",
    "plt.xticks(rotation = 70)\n",
    "#plt.legend(loc='best', frameon=True, fontsize=12)\n",
    "plt.title(\"Marital Status (count)\",fontdict= { 'fontsize': 22, 'fontweight':'bold','verticalalignment': 'center'})\n",
    "plt.tick_params(axis='both', which='major', labelsize=15);"
   ]
  },
  {
   "cell_type": "code",
   "execution_count": null,
   "id": "8f13e58a",
   "metadata": {},
   "outputs": [],
   "source": [
    "marital_status_crisis2=Marital_status['CRISIS Demographics - Marital Status'].value_counts().nlargest(n=5).to_frame('count')\n",
    "marital_status_crisis2=marital_status_crisis2.reset_index()\n",
    "marital_status_crisis2"
   ]
  },
  {
   "cell_type": "code",
   "execution_count": null,
   "id": "4f0bc872",
   "metadata": {},
   "outputs": [],
   "source": [
    "issues = crisis.loc[:,['CRISIS Issues' in i for i in crisis.columns]]\n",
    "issues"
   ]
  },
  {
   "cell_type": "code",
   "execution_count": null,
   "id": "824413db",
   "metadata": {
    "scrolled": true
   },
   "outputs": [],
   "source": [
    "issues.count()"
   ]
  },
  {
   "cell_type": "code",
   "execution_count": null,
   "id": "2582e3c5",
   "metadata": {},
   "outputs": [],
   "source": [
    "issues.info()"
   ]
  },
  {
   "cell_type": "code",
   "execution_count": null,
   "id": "33c35135",
   "metadata": {},
   "outputs": [],
   "source": [
    "relationships_issues_crisis=issues['CRISIS Issues - Relationships'].value_counts(normalize=True).nlargest(n=10).to_frame('perc')\n",
    "#relationships_issues_crisis=issues['CRISIS Issues - Relationships'].value_counts().nlargest(n=10).to_frame('count')\n",
    "relationships_issues_crisis=relationships_issues_crisis.reset_index()\n",
    "relationships_issues_crisis"
   ]
  },
  {
   "cell_type": "code",
   "execution_count": null,
   "id": "9b7df3a6",
   "metadata": {},
   "outputs": [],
   "source": [
    "relationships_issues_crisis2=issues['CRISIS Issues - Relationships'].value_counts().nlargest(n=10).to_frame('count')\n",
    "relationships_issues_crisis2=relationships_issues_crisis2.reset_index()\n",
    "relationships_issues_crisis2"
   ]
  },
  {
   "cell_type": "code",
   "execution_count": null,
   "id": "5d1425be",
   "metadata": {},
   "outputs": [],
   "source": [
    "emo_issues_crisis=issues['CRISIS Issues - Emotional State'].value_counts(normalize=True).nlargest(n=10).to_frame('perc')\n",
    "emo_issues_crisis=emo_issues_crisis.reset_index()\n",
    "emo_issues_crisis"
   ]
  },
  {
   "cell_type": "code",
   "execution_count": null,
   "id": "c395aa53",
   "metadata": {},
   "outputs": [],
   "source": [
    "emo_issues_crisis2=issues['CRISIS Issues - Emotional State'].value_counts().nlargest(n=10).to_frame('count')\n",
    "emo_issues_crisis2=emo_issues_crisis2.reset_index()\n",
    "emo_issues_crisis2"
   ]
  },
  {
   "cell_type": "code",
   "execution_count": null,
   "id": "d47c5d35",
   "metadata": {},
   "outputs": [],
   "source": [
    "abusive_issues_crisis=issues['CRISIS Issues - Abusive Behavior'].value_counts(normalize=True).nlargest(n=10).to_frame('perc')\n",
    "abusive_issues_crisis=abusive_issues_crisis.reset_index()\n",
    "abusive_issues_crisis"
   ]
  },
  {
   "cell_type": "code",
   "execution_count": null,
   "id": "2b38db9c",
   "metadata": {},
   "outputs": [],
   "source": [
    "abusive_issues_crisis2=issues['CRISIS Issues - Abusive Behavior'].value_counts().nlargest(n=10).to_frame('count')\n",
    "abusive_issues_crisis2=abusive_issues_crisis2.reset_index()\n",
    "abusive_issues_crisis2"
   ]
  },
  {
   "cell_type": "code",
   "execution_count": null,
   "id": "b6da49e9",
   "metadata": {},
   "outputs": [],
   "source": [
    "mental_issues_crisis=issues['CRISIS Issues - Mental Health'].value_counts(normalize=True).nlargest(n=10).to_frame('perc')\n",
    "mental_issues_crisis=mental_issues_crisis.reset_index()\n",
    "mental_issues_crisis"
   ]
  },
  {
   "cell_type": "code",
   "execution_count": null,
   "id": "fe71a279",
   "metadata": {},
   "outputs": [],
   "source": [
    "mental_issues_crisis2=issues['CRISIS Issues - Mental Health'].value_counts().nlargest(n=10).to_frame('count')\n",
    "mental_issues_crisis2=mental_issues_crisis2.reset_index()\n",
    "mental_issues_crisis2"
   ]
  },
  {
   "cell_type": "code",
   "execution_count": null,
   "id": "01e2a25b",
   "metadata": {},
   "outputs": [],
   "source": [
    "Mental_Crisis=mental_issues_crisis.merge(mental_issues_crisis2, left_on='index', right_on='index')\n",
    "Mental_Crisis"
   ]
  },
  {
   "cell_type": "code",
   "execution_count": null,
   "id": "47da0163",
   "metadata": {},
   "outputs": [],
   "source": [
    "Abusive_Crisis=abusive_issues_crisis.merge(abusive_issues_crisis2, left_on='index', right_on='index')\n",
    "Abusive_Crisis"
   ]
  },
  {
   "cell_type": "code",
   "execution_count": null,
   "id": "18d3adbd",
   "metadata": {},
   "outputs": [],
   "source": [
    "Emotional_Crisis=emo_issues_crisis.merge(emo_issues_crisis2, left_on='index', right_on='index')\n",
    "Emotional_Crisis"
   ]
  },
  {
   "cell_type": "code",
   "execution_count": null,
   "id": "27b13500",
   "metadata": {},
   "outputs": [],
   "source": [
    "import matplotlib.pyplot as plt\n",
    "import seaborn as sns"
   ]
  },
  {
   "cell_type": "code",
   "execution_count": null,
   "id": "af008059",
   "metadata": {},
   "outputs": [],
   "source": [
    "data = mental_issues_crisis.sort_values('perc')\n",
    "plt.bar('index', 'perc', data = data)\n",
    "plt.xticks(rotation = 70)\n",
    "plt.xlabel('Mental Health issues')\n",
    "plt.ylabel('Percent')\n",
    "plt.title('CRISIS - Mental Health')\n",
    "plt.ticklabel_format(style='plain', axis='y')"
   ]
  },
  {
   "cell_type": "code",
   "execution_count": null,
   "id": "10297b6e",
   "metadata": {},
   "outputs": [],
   "source": [
    "data = emo_issues_crisis.sort_values('perc')\n",
    "plt.bar('index', 'perc', data = data)\n",
    "plt.xticks(rotation = 70)\n",
    "plt.xlabel('Emotional Health issues')\n",
    "plt.ylabel('Percent')\n",
    "plt.title('CRISIS - Emotional Health')\n",
    "plt.ticklabel_format(style='plain', axis='y')"
   ]
  },
  {
   "cell_type": "code",
   "execution_count": null,
   "id": "e41bf399",
   "metadata": {},
   "outputs": [],
   "source": [
    "data = marital_status_crisis.sort_values(by = ['index','perc'],ascending=[True,True])\n",
    "sns.set(rc={\"figure.figsize\":(15,11)})\n",
    "sns.barplot('index','perc', data=data, palette =\"viridis\")\n",
    "#plt.Axes.axes.barplot(width=5)\n",
    "plt.xlabel(None)\n",
    "plt.ylabel(None)\n",
    "plt.xticks(rotation = 70)\n",
    "#plt.legend(loc='best', frameon=True, fontsize=12)\n",
    "plt.title(\"Marital Status\",fontdict= { 'fontsize': 22, 'fontweight':'bold','verticalalignment': 'center'})\n",
    "plt.tick_params(axis='both', which='major', labelsize=15);"
   ]
  },
  {
   "cell_type": "code",
   "execution_count": null,
   "id": "cb6bb6ed",
   "metadata": {},
   "outputs": [],
   "source": [
    "data = marital_status_crisis2.sort_values(by = ['index','count'],ascending=[True,True])\n",
    "sns.set(rc={\"figure.figsize\":(15,11)})\n",
    "sns.barplot('index','perc', data=data, palette =\"viridis\")\n",
    "#plt.Axes.axes.barplot(width=5)\n",
    "plt.xlabel(None)\n",
    "plt.ylabel(None)\n",
    "plt.xticks(rotation = 70)\n",
    "#plt.legend(loc='best', frameon=True, fontsize=12)\n",
    "plt.title(\"Marital Status (count)\",fontdict= { 'fontsize': 22, 'fontweight':'bold','verticalalignment': 'center'})\n",
    "plt.tick_params(axis='both', which='major', labelsize=15);"
   ]
  },
  {
   "cell_type": "code",
   "execution_count": null,
   "id": "f2e5fd0f",
   "metadata": {},
   "outputs": [],
   "source": [
    "plt.bar(abusive_issues_crisis['index'], abusive_issues_crisis['perc'])\n",
    "#plt.xlabel\n",
    "#plt.ylabel"
   ]
  },
  {
   "cell_type": "code",
   "execution_count": null,
   "id": "e07fa5d3",
   "metadata": {},
   "outputs": [],
   "source": []
  },
  {
   "cell_type": "code",
   "execution_count": null,
   "id": "68a7b455",
   "metadata": {},
   "outputs": [],
   "source": [
    "#import re\n",
    "#re.findall(r\"\\*?friend\", crisis['Narrative'])"
   ]
  },
  {
   "cell_type": "code",
   "execution_count": null,
   "id": "d14a885f",
   "metadata": {},
   "outputs": [],
   "source": []
  }
 ],
 "metadata": {
  "kernelspec": {
   "display_name": "Python 3 (ipykernel)",
   "language": "python",
   "name": "python3"
  },
  "language_info": {
   "codemirror_mode": {
    "name": "ipython",
    "version": 3
   },
   "file_extension": ".py",
   "mimetype": "text/x-python",
   "name": "python",
   "nbconvert_exporter": "python",
   "pygments_lexer": "ipython3",
   "version": "3.9.7"
  }
 },
 "nbformat": 4,
 "nbformat_minor": 5
}
