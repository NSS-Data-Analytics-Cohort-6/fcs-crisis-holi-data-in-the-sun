{
 "cells": [
  {
   "cell_type": "code",
   "execution_count": null,
   "id": "e6d362bf",
   "metadata": {},
   "outputs": [],
   "source": [
    "import requests\n",
    "import pandas as pd\n",
    "import json"
   ]
  },
  {
   "cell_type": "code",
   "execution_count": null,
   "id": "be60beb0",
   "metadata": {},
   "outputs": [],
   "source": [
    "SH_df1 = pd.read_excel (r'../Data/NSSCrisisv.1.xlsx', skiprows = [0, 1])\n",
    "SH_df1=SH_df1.reset_index(drop=True)\n",
    "SH_df1"
   ]
  },
  {
   "cell_type": "code",
   "execution_count": null,
   "id": "4e61a772",
   "metadata": {
    "scrolled": true
   },
   "outputs": [],
   "source": [
    "SH_df2 = pd.read_excel (r'../Data/NSSCrisisv.2.xlsx', skiprows = [0, 1])\n",
    "SH_df2=SH_df2.reset_index(drop=True)\n",
    "SH_df2"
   ]
  },
  {
   "cell_type": "code",
   "execution_count": null,
   "id": "647d6493",
   "metadata": {},
   "outputs": [],
   "source": [
    "#call_vol_df = pd.read_excel (r'../Data/Contact center call volume_2020-2022.xlsx')\n",
    "#call_vol_df\n",
    "#\"C:\\Users\\Megan Grim\\Documents\\NSS\\projects\\fcs-crisis-holi-data-in-the-sun\\Data\\Contact center call volume_2020-2022.xlsx\""
   ]
  },
  {
   "cell_type": "code",
   "execution_count": null,
   "id": "58c1f6f4",
   "metadata": {},
   "outputs": [],
   "source": [
    "#call_vol_df= pd.DataFrame(call_vol_df)\n",
    "#call_vol_df"
   ]
  },
  {
   "cell_type": "markdown",
   "id": "cf3b5faa",
   "metadata": {},
   "source": [
    "header_row=1\n",
    "call_vol_df.columns = call_vol_df.iloc[header_row]"
   ]
  },
  {
   "cell_type": "markdown",
   "id": "75764cd4",
   "metadata": {},
   "source": [
    "call_vol_df = call_vol_df.drop(header_row)"
   ]
  },
  {
   "cell_type": "markdown",
   "id": "f11c4364",
   "metadata": {},
   "source": [
    "call_vol_df=call_vol_df.reset_index(drop=True)"
   ]
  },
  {
   "cell_type": "markdown",
   "id": "b6f620ca",
   "metadata": {},
   "source": [
    "call_vol_df"
   ]
  },
  {
   "cell_type": "code",
   "execution_count": null,
   "id": "fea466f5",
   "metadata": {},
   "outputs": [],
   "source": [
    "SH_df1.dtypes"
   ]
  },
  {
   "cell_type": "code",
   "execution_count": null,
   "id": "7e5eb906",
   "metadata": {},
   "outputs": [],
   "source": [
    "SH_df1.info()"
   ]
  },
  {
   "cell_type": "code",
   "execution_count": null,
   "id": "01da2fd4",
   "metadata": {},
   "outputs": [],
   "source": [
    "SH_df1['Narrative']"
   ]
  },
  {
   "cell_type": "code",
   "execution_count": null,
   "id": "5d291ad4",
   "metadata": {},
   "outputs": [],
   "source": [
    "SH_df1.value_counts(normalize=True)"
   ]
  },
  {
   "cell_type": "code",
   "execution_count": null,
   "id": "c3130cdb",
   "metadata": {},
   "outputs": [],
   "source": [
    "SH_df2.dtypes"
   ]
  },
  {
   "cell_type": "code",
   "execution_count": null,
   "id": "4ec13166",
   "metadata": {},
   "outputs": [],
   "source": [
    "SH_df2.info()"
   ]
  },
  {
   "cell_type": "code",
   "execution_count": null,
   "id": "fb5933bd",
   "metadata": {},
   "outputs": [],
   "source": [
    "crisis=pd.concat([SH_df2, SH_df1])"
   ]
  },
  {
   "cell_type": "code",
   "execution_count": null,
   "id": "777c5d26",
   "metadata": {},
   "outputs": [],
   "source": [
    "demographics = crisis.loc[:,['Demographics' in i for i in crisis.columns]]\n",
    "demographics"
   ]
  },
  {
   "cell_type": "code",
   "execution_count": null,
   "id": "1e89feda",
   "metadata": {},
   "outputs": [],
   "source": [
    "demographics.count()"
   ]
  },
  {
   "cell_type": "code",
   "execution_count": null,
   "id": "31f85056",
   "metadata": {},
   "outputs": [],
   "source": [
    "demographics.info()"
   ]
  },
  {
   "cell_type": "code",
   "execution_count": null,
   "id": "6315d302",
   "metadata": {},
   "outputs": [],
   "source": [
    "issues = crisis.loc[:,['CRISIS Issues' in i for i in crisis.columns]]\n",
    "issues"
   ]
  },
  {
   "cell_type": "code",
   "execution_count": null,
   "id": "152608ee",
   "metadata": {},
   "outputs": [],
   "source": [
    "issues.count()"
   ]
  },
  {
   "cell_type": "code",
   "execution_count": null,
   "id": "b9f6127f",
   "metadata": {},
   "outputs": [],
   "source": [
    "emo_issues_crisis=issues['CRISIS Issues - Emotional State'].value_counts(normalize=True).nlargest(n=10).to_frame('perc')\n",
    "emo_issues_crisis=emo_issues_crisis.reset_index()\n",
    "emo_issues_crisis"
   ]
  },
  {
   "cell_type": "code",
   "execution_count": null,
   "id": "7a06900c",
   "metadata": {},
   "outputs": [],
   "source": [
    "abusive_issues_crisis=issues['CRISIS Issues - Abusive Behavior'].value_counts(normalize=True).nlargest(n=10).to_frame('perc')\n",
    "abusive_issues_crisis=abusive_issues_crisis.reset_index()\n",
    "abusive_issues_crisis"
   ]
  },
  {
   "cell_type": "code",
   "execution_count": null,
   "id": "1d46f16b",
   "metadata": {},
   "outputs": [],
   "source": [
    "mental_issues_crisis=issues['CRISIS Issues - Mental Health'].value_counts(normalize=True).nlargest(n=10).to_frame('perc')\n",
    "mental_issues_crisis=mental_issues_crisis.reset_index()\n",
    "mental_issues_crisis"
   ]
  },
  {
   "cell_type": "code",
   "execution_count": null,
   "id": "08d5a056",
   "metadata": {},
   "outputs": [],
   "source": [
    "import matplotlib.pyplot as plt\n",
    "import seaborn as sns"
   ]
  },
  {
   "cell_type": "markdown",
   "id": "9d55e740",
   "metadata": {},
   "source": [
    "plt.bar(mental_issues_crisis)\n",
    "plt.xlabel\n",
    "plt.ylabel"
   ]
  },
  {
   "cell_type": "code",
   "execution_count": null,
   "id": "7fd5c68a",
   "metadata": {},
   "outputs": [],
   "source": [
    "mental_issues_crisis=sns.load_dataset(\"mental_issues_crisis\")"
   ]
  },
  {
   "cell_type": "code",
   "execution_count": null,
   "id": "e83beddf",
   "metadata": {},
   "outputs": [],
   "source": []
  },
  {
   "cell_type": "code",
   "execution_count": null,
   "id": "4d0a1cb2",
   "metadata": {},
   "outputs": [],
   "source": [
    "import re\n",
    "re.findall(r\"\\*?friend\", crisis['Narrative'])"
   ]
  },
  {
   "cell_type": "code",
   "execution_count": null,
   "id": "29903c1c",
   "metadata": {},
   "outputs": [],
   "source": []
  }
 ],
 "metadata": {
  "kernelspec": {
   "display_name": "Python 3 (ipykernel)",
   "language": "python",
   "name": "python3"
  },
  "language_info": {
   "codemirror_mode": {
    "name": "ipython",
    "version": 3
   },
   "file_extension": ".py",
   "mimetype": "text/x-python",
   "name": "python",
   "nbconvert_exporter": "python",
   "pygments_lexer": "ipython3",
   "version": "3.9.7"
  }
 },
 "nbformat": 4,
 "nbformat_minor": 5
}
