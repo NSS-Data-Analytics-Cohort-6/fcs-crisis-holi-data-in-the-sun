{
 "cells": [
  {
   "cell_type": "code",
   "execution_count": null,
   "id": "c9e842db",
   "metadata": {},
   "outputs": [],
   "source": [
    "import requests\n",
    "import pandas as pd\n",
    "import json"
   ]
  },
  {
   "cell_type": "code",
   "execution_count": null,
   "id": "6586704b",
   "metadata": {},
   "outputs": [],
   "source": [
    "SH_df1 = pd.read_excel (r'../Data/NSSCrisisv.1.xlsx', skiprows = [0, 1])\n",
    "SH_df1=SH_df1.reset_index(drop=True)\n",
    "SH_df1"
   ]
  },
  {
   "cell_type": "code",
   "execution_count": null,
   "id": "f1ba72e6",
   "metadata": {
    "scrolled": true
   },
   "outputs": [],
   "source": [
    "SH_df2 = pd.read_excel (r'../Data/NSSCrisisv.2.xlsx', skiprows = [0, 1])\n",
    "SH_df2=SH_df2.reset_index(drop=True)\n",
    "SH_df2"
   ]
  },
  {
   "cell_type": "code",
   "execution_count": null,
   "id": "c600d3fd",
   "metadata": {},
   "outputs": [],
   "source": [
    "#call_vol_df = pd.read_excel (r'../Data/Contact center call volume_2020-2022.xlsx')\n",
    "#call_vol_df\n",
    "#\"C:\\Users\\Megan Grim\\Documents\\NSS\\projects\\fcs-crisis-holi-data-in-the-sun\\Data\\Contact center call volume_2020-2022.xlsx\""
   ]
  },
  {
   "cell_type": "code",
   "execution_count": null,
   "id": "53fd8fc4",
   "metadata": {},
   "outputs": [],
   "source": [
    "#call_vol_df= pd.DataFrame(call_vol_df)\n",
    "#call_vol_df"
   ]
  },
  {
   "cell_type": "markdown",
   "id": "59b014c8",
   "metadata": {},
   "source": [
    "header_row=1\n",
    "call_vol_df.columns = call_vol_df.iloc[header_row]"
   ]
  },
  {
   "cell_type": "markdown",
   "id": "881d27ef",
   "metadata": {},
   "source": [
    "call_vol_df = call_vol_df.drop(header_row)"
   ]
  },
  {
   "cell_type": "markdown",
   "id": "c386ef8f",
   "metadata": {},
   "source": [
    "call_vol_df=call_vol_df.reset_index(drop=True)"
   ]
  },
  {
   "cell_type": "markdown",
   "id": "81f4dae7",
   "metadata": {},
   "source": [
    "call_vol_df"
   ]
  },
  {
   "cell_type": "code",
   "execution_count": null,
   "id": "f20d761b",
   "metadata": {},
   "outputs": [],
   "source": [
    "SH_df1.dtypes"
   ]
  },
  {
   "cell_type": "code",
   "execution_count": null,
   "id": "3e3b1b56",
   "metadata": {},
   "outputs": [],
   "source": [
    "SH_df1.info()"
   ]
  },
  {
   "cell_type": "code",
   "execution_count": null,
   "id": "96665255",
   "metadata": {},
   "outputs": [],
   "source": [
    "SH_df1['Narrative']"
   ]
  },
  {
   "cell_type": "code",
   "execution_count": null,
   "id": "95afe23e",
   "metadata": {},
   "outputs": [],
   "source": [
    "SH_df1.value_counts(normalize=True)"
   ]
  },
  {
   "cell_type": "code",
   "execution_count": null,
   "id": "bc55648b",
   "metadata": {},
   "outputs": [],
   "source": [
    "SH_df2.dtypes"
   ]
  },
  {
   "cell_type": "code",
   "execution_count": null,
   "id": "42f5fc0d",
   "metadata": {},
   "outputs": [],
   "source": [
    "SH_df2.info()"
   ]
  },
  {
   "cell_type": "code",
   "execution_count": null,
   "id": "8d6a553b",
   "metadata": {},
   "outputs": [],
   "source": [
    "crisis=pd.concat([SH_df2, SH_df1])"
   ]
  },
  {
   "cell_type": "code",
   "execution_count": null,
   "id": "46eee765",
   "metadata": {},
   "outputs": [],
   "source": [
    "demographics = crisis.loc[:,['Demographics' in i for i in crisis.columns]]\n",
    "demographics"
   ]
  },
  {
   "cell_type": "code",
   "execution_count": null,
   "id": "46077452",
   "metadata": {},
   "outputs": [],
   "source": [
    "demographics.count()"
   ]
  },
  {
   "cell_type": "code",
   "execution_count": null,
   "id": "78c6d25d",
   "metadata": {},
   "outputs": [],
   "source": [
    "demographics.info()"
   ]
  },
  {
   "cell_type": "code",
   "execution_count": null,
   "id": "b6c59cc0",
   "metadata": {},
   "outputs": [],
   "source": [
    "issues = crisis.loc[:,['CRISIS Issues' in i for i in crisis.columns]]\n",
    "issues"
   ]
  },
  {
   "cell_type": "code",
   "execution_count": null,
   "id": "9c1ef85d",
   "metadata": {
    "scrolled": true
   },
   "outputs": [],
   "source": [
    "issues.count()"
   ]
  },
  {
   "cell_type": "code",
   "execution_count": null,
   "id": "2cada36c",
   "metadata": {},
   "outputs": [],
   "source": [
    "relationships_issues_crisis=issues['CRISIS Issues - Relationships'].value_counts(normalize=True).nlargest(n=10).to_frame('perc')\n",
    "#relationships_issues_crisis=issues['CRISIS Issues - Relationships'].value_counts().nlargest(n=10).to_frame('count')\n",
    "relationships_issues_crisis=relationships_issues_crisis.reset_index()\n",
    "relationships_issues_crisis"
   ]
  },
  {
   "cell_type": "code",
   "execution_count": null,
   "id": "df3755c0",
   "metadata": {},
   "outputs": [],
   "source": [
    "relationships_issues_crisis2=issues['CRISIS Issues - Relationships'].value_counts().nlargest(n=10).to_frame('count')\n",
    "relationships_issues_crisis2=relationships_issues_crisis2.reset_index()\n",
    "relationships_issues_crisis2"
   ]
  },
  {
   "cell_type": "code",
   "execution_count": null,
   "id": "0ab9c7d2",
   "metadata": {},
   "outputs": [],
   "source": [
    "emo_issues_crisis=issues['CRISIS Issues - Emotional State'].value_counts(normalize=True).nlargest(n=10).to_frame('perc')\n",
    "emo_issues_crisis=emo_issues_crisis.reset_index()\n",
    "emo_issues_crisis"
   ]
  },
  {
   "cell_type": "code",
   "execution_count": null,
   "id": "554e87d2",
   "metadata": {},
   "outputs": [],
   "source": [
    "emo_issues_crisis2=issues['CRISIS Issues - Emotional State'].value_counts().nlargest(n=10).to_frame('count')\n",
    "emo_issues_crisis2=emo_issues_crisis2.reset_index()\n",
    "emo_issues_crisis2"
   ]
  },
  {
   "cell_type": "code",
   "execution_count": null,
   "id": "ca7320b3",
   "metadata": {},
   "outputs": [],
   "source": [
    "abusive_issues_crisis=issues['CRISIS Issues - Abusive Behavior'].value_counts(normalize=True).nlargest(n=10).to_frame('perc')\n",
    "abusive_issues_crisis=abusive_issues_crisis.reset_index()\n",
    "abusive_issues_crisis"
   ]
  },
  {
   "cell_type": "code",
   "execution_count": null,
   "id": "0ef32307",
   "metadata": {},
   "outputs": [],
   "source": [
    "abusive_issues_crisis2=issues['CRISIS Issues - Abusive Behavior'].value_counts().nlargest(n=10).to_frame('count')\n",
    "abusive_issues_crisis2=abusive_issues_crisis2.reset_index()\n",
    "abusive_issues_crisis2"
   ]
  },
  {
   "cell_type": "code",
   "execution_count": null,
   "id": "f1eecbeb",
   "metadata": {},
   "outputs": [],
   "source": [
    "mental_issues_crisis=issues['CRISIS Issues - Mental Health'].value_counts(normalize=True).nlargest(n=10).to_frame('perc')\n",
    "mental_issues_crisis=mental_issues_crisis.reset_index()\n",
    "mental_issues_crisis"
   ]
  },
  {
   "cell_type": "code",
   "execution_count": null,
   "id": "8c803038",
   "metadata": {},
   "outputs": [],
   "source": [
    "mental_issues_crisis2=issues['CRISIS Issues - Mental Health'].value_counts().nlargest(n=10).to_frame('count')\n",
    "mental_issues_crisis2=mental_issues_crisis2.reset_index()\n",
    "mental_issues_crisis2"
   ]
  },
  {
   "cell_type": "code",
   "execution_count": null,
   "id": "b4452f20",
   "metadata": {},
   "outputs": [],
   "source": [
    "import matplotlib.pyplot as plt\n",
    "import seaborn as sns"
   ]
  },
  {
   "cell_type": "code",
   "execution_count": null,
   "id": "2021d9c9",
   "metadata": {},
   "outputs": [],
   "source": [
    "plt.bar(mental_issues_crisis['index'], mental_issues_crisis['perc'])\n",
    "\n",
    "data = unknownDSP.sort_values('Streams')\n",
    "plt.bar('Song_Length', 'Streams', data = data)\n",
    "plt.xticks(rotation = 70)\n",
    "plt.xlabel('Song Length')\n",
    "plt.ylabel('Stream Count')\n",
    "plt.title('CRISIS - mental health')\n",
    "plt.ticklabel_format(style='plain', axis='y');\n",
    "plt.show()\n",
    "\n",
    "#plt.xlabel\n",
    "#plt.ylabel"
   ]
  },
  {
   "cell_type": "code",
   "execution_count": null,
   "id": "ad649c81",
   "metadata": {},
   "outputs": [],
   "source": [
    "plt.bar(abusive_issues_crisis['index'], abusive_issues_crisis['perc'])\n",
    "#plt.xlabel\n",
    "#plt.ylabel"
   ]
  },
  {
   "cell_type": "code",
   "execution_count": null,
   "id": "02b51ba4",
   "metadata": {},
   "outputs": [],
   "source": []
  },
  {
   "cell_type": "code",
   "execution_count": null,
   "id": "96923999",
   "metadata": {},
   "outputs": [],
   "source": [
    "import re\n",
    "re.findall(r\"\\*?friend\", crisis['Narrative'])"
   ]
  },
  {
   "cell_type": "code",
   "execution_count": null,
   "id": "28e10f5d",
   "metadata": {},
   "outputs": [],
   "source": []
  }
 ],
 "metadata": {
  "kernelspec": {
   "display_name": "Python 3 (ipykernel)",
   "language": "python",
   "name": "python3"
  },
  "language_info": {
   "codemirror_mode": {
    "name": "ipython",
    "version": 3
   },
   "file_extension": ".py",
   "mimetype": "text/x-python",
   "name": "python",
   "nbconvert_exporter": "python",
   "pygments_lexer": "ipython3",
   "version": "3.9.7"
  }
 },
 "nbformat": 4,
 "nbformat_minor": 5
}
