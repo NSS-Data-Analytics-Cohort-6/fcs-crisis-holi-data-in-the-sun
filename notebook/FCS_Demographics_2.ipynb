{
 "cells": [
  {
   "cell_type": "code",
   "execution_count": null,
   "id": "056603e0",
   "metadata": {},
   "outputs": [],
   "source": [
    "import pandas as pd\n",
    "import numpy as np\n",
    "import matplotlib.pyplot as plt\n",
    "import seaborn as sns\n",
    "%matplotlib inline\n",
    "import re\n",
    "from ipywidgets import interactive\n",
    "pd.set_option('display.max_columns', 500)"
   ]
  },
  {
   "cell_type": "markdown",
   "id": "ca83a700",
   "metadata": {},
   "source": [
    "#### Abigail's Method for Reading Excel Files and Formatting Columns"
   ]
  },
  {
   "cell_type": "code",
   "execution_count": null,
   "id": "6e6fa6e6",
   "metadata": {},
   "outputs": [],
   "source": [
    "crisis1 = pd.ExcelFile('../data/NSSCrisisv.1.xlsx')"
   ]
  },
  {
   "cell_type": "code",
   "execution_count": null,
   "id": "6fa6e847",
   "metadata": {},
   "outputs": [],
   "source": [
    "crisis1.sheet_names"
   ]
  },
  {
   "cell_type": "code",
   "execution_count": null,
   "id": "246afca6",
   "metadata": {},
   "outputs": [],
   "source": [
    "crisis1 = crisis1.parse('in')"
   ]
  },
  {
   "cell_type": "code",
   "execution_count": null,
   "id": "da9a90ca",
   "metadata": {},
   "outputs": [],
   "source": [
    "crisis1.head(10)"
   ]
  },
  {
   "cell_type": "code",
   "execution_count": null,
   "id": "82cd8666",
   "metadata": {},
   "outputs": [],
   "source": [
    "crisis1.info()"
   ]
  },
  {
   "cell_type": "code",
   "execution_count": null,
   "id": "69d0ff22",
   "metadata": {},
   "outputs": [],
   "source": [
    "crisis1 = crisis1.apply(lambda x: x.str.strip() if x.dtype == \"str\" else x)"
   ]
  },
  {
   "cell_type": "code",
   "execution_count": null,
   "id": "b666e3d1",
   "metadata": {},
   "outputs": [],
   "source": [
    "header_row = 1\n",
    "crisis1.columns = crisis1.iloc[header_row]\n",
    "crisis1.head()"
   ]
  },
  {
   "cell_type": "code",
   "execution_count": null,
   "id": "2327fd35",
   "metadata": {},
   "outputs": [],
   "source": [
    "crisis1 = crisis1.drop(header_row)\n",
    "crisis1 = crisis1.reset_index(drop=True)\n",
    "crisis1.head()"
   ]
  },
  {
   "cell_type": "code",
   "execution_count": null,
   "id": "f63b79d0",
   "metadata": {},
   "outputs": [],
   "source": [
    "crisis1.tail()"
   ]
  },
  {
   "cell_type": "code",
   "execution_count": null,
   "id": "13672265",
   "metadata": {},
   "outputs": [],
   "source": [
    "crisis2 = pd.ExcelFile('../data/NSSCrisisv.2.xlsx')"
   ]
  },
  {
   "cell_type": "code",
   "execution_count": null,
   "id": "753a296b",
   "metadata": {},
   "outputs": [],
   "source": [
    "crisis2.sheet_names"
   ]
  },
  {
   "cell_type": "code",
   "execution_count": null,
   "id": "d8e230f0",
   "metadata": {},
   "outputs": [],
   "source": [
    "crisis2 = crisis2.parse('in')"
   ]
  },
  {
   "cell_type": "code",
   "execution_count": null,
   "id": "d4cf88df",
   "metadata": {},
   "outputs": [],
   "source": [
    "crisis2.head()"
   ]
  },
  {
   "cell_type": "code",
   "execution_count": null,
   "id": "fd86efb5",
   "metadata": {},
   "outputs": [],
   "source": [
    "crisis2.tail()"
   ]
  },
  {
   "cell_type": "code",
   "execution_count": null,
   "id": "3c1c8174",
   "metadata": {},
   "outputs": [],
   "source": [
    "crisis2.info()"
   ]
  },
  {
   "cell_type": "code",
   "execution_count": null,
   "id": "b2c61afa",
   "metadata": {},
   "outputs": [],
   "source": [
    "crisis2 = crisis2.dropna(axis=1, how ='all')\n",
    "crisis2 = crisis2.dropna(axis=0, how='all')\n",
    "crisis2.head()"
   ]
  },
  {
   "cell_type": "code",
   "execution_count": null,
   "id": "5f9c0f47",
   "metadata": {},
   "outputs": [],
   "source": [
    "crisis2 = crisis2.apply(lambda x: x.str.strip() if x.dtype == \"str\" else x)"
   ]
  },
  {
   "cell_type": "code",
   "execution_count": null,
   "id": "59803f76",
   "metadata": {},
   "outputs": [],
   "source": [
    "crisis2.columns = crisis2.iloc[header_row]\n",
    "crisis2 = crisis2.drop(header_row)\n",
    "crisis2 = crisis2.reset_index(drop=True)\n",
    "crisis2.head()"
   ]
  },
  {
   "cell_type": "code",
   "execution_count": null,
   "id": "3554a105",
   "metadata": {},
   "outputs": [],
   "source": [
    "crisis = pd.concat([crisis2, crisis1])"
   ]
  },
  {
   "cell_type": "code",
   "execution_count": null,
   "id": "f185997a",
   "metadata": {},
   "outputs": [],
   "source": [
    "crisis = crisis.reset_index(drop=True)\n",
    "crisis.head()"
   ]
  },
  {
   "cell_type": "code",
   "execution_count": null,
   "id": "70954bf9",
   "metadata": {},
   "outputs": [],
   "source": [
    "crisis.shape"
   ]
  },
  {
   "cell_type": "code",
   "execution_count": null,
   "id": "38145950",
   "metadata": {},
   "outputs": [],
   "source": [
    "crisis.info()"
   ]
  },
  {
   "cell_type": "markdown",
   "id": "225d5b1b",
   "metadata": {},
   "source": [
    "#### EDA & Demographics (Occupation & Education Deep Dive)"
   ]
  },
  {
   "cell_type": "code",
   "execution_count": null,
   "id": "8c8a4d08",
   "metadata": {},
   "outputs": [],
   "source": [
    "crisis['CallDateAndTimeStart'] = crisis['CallDateAndTimeStart'].astype('str')"
   ]
  },
  {
   "cell_type": "code",
   "execution_count": null,
   "id": "05c0d6bd",
   "metadata": {},
   "outputs": [],
   "source": [
    "crisis['call_date'] = crisis.CallDateAndTimeStart.str[0:10]"
   ]
  },
  {
   "cell_type": "code",
   "execution_count": null,
   "id": "561c74fc",
   "metadata": {},
   "outputs": [],
   "source": [
    "crisis.head()"
   ]
  },
  {
   "cell_type": "code",
   "execution_count": null,
   "id": "bdc27721",
   "metadata": {},
   "outputs": [],
   "source": [
    "call_dates = crisis['call_date'].value_counts()\n",
    "call_dates = pd.DataFrame(call_dates).reset_index()\n",
    "call_dates.columns = ['date', 'number_calls']\n",
    "call_dates.head()"
   ]
  },
  {
   "cell_type": "code",
   "execution_count": null,
   "id": "d4b5bc70",
   "metadata": {},
   "outputs": [],
   "source": [
    "crisis_issues = crisis.loc[:,['CRISIS Issues' in i for i in crisis.columns]]\n",
    "crisis_issues.head()"
   ]
  },
  {
   "cell_type": "code",
   "execution_count": null,
   "id": "1e30c632",
   "metadata": {},
   "outputs": [],
   "source": [
    "crisis_notes = crisis_issues.count().to_frame().reset_index()"
   ]
  },
  {
   "cell_type": "code",
   "execution_count": null,
   "id": "bdf18c6b",
   "metadata": {},
   "outputs": [],
   "source": [
    "crisis_notes.columns = ['crisis_issue', 'call_volume']"
   ]
  },
  {
   "cell_type": "code",
   "execution_count": null,
   "id": "089a4480",
   "metadata": {},
   "outputs": [],
   "source": [
    "crisis_notes = crisis_notes.sort_values(by='call_volume', ascending=False)\n",
    "crisis_notes.head(20)"
   ]
  },
  {
   "cell_type": "code",
   "execution_count": null,
   "id": "b462627d",
   "metadata": {},
   "outputs": [],
   "source": [
    "demographics = crisis.loc[:,['Demographics' in i for i in crisis.columns]]\n",
    "demographics.head()"
   ]
  },
  {
   "cell_type": "code",
   "execution_count": null,
   "id": "b887b06a",
   "metadata": {},
   "outputs": [],
   "source": [
    "demographics.count()"
   ]
  },
  {
   "cell_type": "code",
   "execution_count": null,
   "id": "9f745e98",
   "metadata": {},
   "outputs": [],
   "source": [
    "crisis['call_year'] = crisis.CallDateAndTimeStart.str[0:4]"
   ]
  },
  {
   "cell_type": "code",
   "execution_count": null,
   "id": "b2f2fcb8",
   "metadata": {},
   "outputs": [],
   "source": [
    "filter2020 = crisis['call_year'].isin(['2020'])"
   ]
  },
  {
   "cell_type": "code",
   "execution_count": null,
   "id": "be418171",
   "metadata": {},
   "outputs": [],
   "source": [
    "calls2020 = crisis[filter2020]\n",
    "calls2020.head()"
   ]
  },
  {
   "cell_type": "code",
   "execution_count": null,
   "id": "7f28750f",
   "metadata": {},
   "outputs": [],
   "source": [
    "filter2021 = crisis['call_year'].isin(['2021'])"
   ]
  },
  {
   "cell_type": "code",
   "execution_count": null,
   "id": "2ffb6a3c",
   "metadata": {},
   "outputs": [],
   "source": [
    "calls2021 = crisis[filter2021]\n",
    "calls2021.head()"
   ]
  },
  {
   "cell_type": "code",
   "execution_count": null,
   "id": "42671fd8",
   "metadata": {},
   "outputs": [],
   "source": [
    "filter2022 = crisis['call_year'].isin(['2022'])"
   ]
  },
  {
   "cell_type": "code",
   "execution_count": null,
   "id": "ad1bf559",
   "metadata": {},
   "outputs": [],
   "source": [
    "calls2022 = crisis[filter2022]\n",
    "calls2022.head()"
   ]
  },
  {
   "cell_type": "markdown",
   "id": "b78d0b71",
   "metadata": {},
   "source": [
    "#### Now that files are in as Excel and dates are formatted with year first, should be able to pick up previous demographic EDA work and look more closely at year and date trends for occupation and education calls."
   ]
  },
  {
   "cell_type": "markdown",
   "id": "e71295c7",
   "metadata": {},
   "source": [
    "##  Demographics Deep Dive - Occupation & Education"
   ]
  },
  {
   "cell_type": "code",
   "execution_count": null,
   "id": "099c80c6",
   "metadata": {},
   "outputs": [],
   "source": [
    "crisis['CRISIS Demographics - Occupation'].value_counts()"
   ]
  },
  {
   "cell_type": "code",
   "execution_count": null,
   "id": "fa917919",
   "metadata": {},
   "outputs": [],
   "source": [
    "crisis['CRISIS Demographics - Occupation'].value_counts(normalize=True)"
   ]
  },
  {
   "cell_type": "code",
   "execution_count": null,
   "id": "31908a3c",
   "metadata": {},
   "outputs": [],
   "source": [
    "crisis.groupby('CRISIS Demographics - Education Level')['CRISIS Demographics - Occupation'].value_counts()"
   ]
  },
  {
   "cell_type": "code",
   "execution_count": null,
   "id": "3014e424",
   "metadata": {},
   "outputs": [],
   "source": [
    "goodwill = crisis.loc[crisis['CRISIS Demographics - Occupation'] == 'Works at Goodwill']\n",
    "goodwill.head()"
   ]
  },
  {
   "cell_type": "code",
   "execution_count": null,
   "id": "d5be932d",
   "metadata": {},
   "outputs": [],
   "source": [
    "goodwill['CallerNum'].value_counts()\n",
    "#Does this mean its the same caller?"
   ]
  },
  {
   "cell_type": "code",
   "execution_count": null,
   "id": "3681d74f",
   "metadata": {},
   "outputs": [],
   "source": [
    "top5occ = crisis.loc[crisis['CRISIS Demographics - Occupation'].isin(['Works at Goodwill', 'News Anchor', 'Construction Worker', 'bagger at Kroger', 'Substitute Teacher'])]\n",
    "top5occ.head()"
   ]
  },
  {
   "cell_type": "code",
   "execution_count": null,
   "id": "8416e3f5",
   "metadata": {},
   "outputs": [],
   "source": [
    "top5occ['CallerNum'].value_counts()\n",
    "#Again, are we looking at a singular caller for each top occupation?"
   ]
  },
  {
   "cell_type": "code",
   "execution_count": null,
   "id": "c6a6b497",
   "metadata": {},
   "outputs": [],
   "source": [
    "crisis['CallerNum'].value_counts()"
   ]
  },
  {
   "cell_type": "code",
   "execution_count": null,
   "id": "38dd3c02",
   "metadata": {},
   "outputs": [],
   "source": [
    "crisis.groupby('CallerNum')['CRISIS Demographics - Occupation'].value_counts()"
   ]
  },
  {
   "cell_type": "code",
   "execution_count": null,
   "id": "7f91755b",
   "metadata": {},
   "outputs": [],
   "source": [
    "top5occ['CRISIS Call Information - Call Type'].value_counts(normalize=True)"
   ]
  },
  {
   "cell_type": "code",
   "execution_count": null,
   "id": "3e97aaf2",
   "metadata": {},
   "outputs": [],
   "source": [
    "top5occ['CRISIS Call Information - Call Type'].value_counts()"
   ]
  },
  {
   "cell_type": "code",
   "execution_count": null,
   "id": "a10142ba",
   "metadata": {},
   "outputs": [],
   "source": [
    "top5occ['CRISIS Demographics - Age'].value_counts(normalize=True)"
   ]
  },
  {
   "cell_type": "code",
   "execution_count": null,
   "id": "576d6866",
   "metadata": {},
   "outputs": [],
   "source": [
    "top5occ['CRISIS Demographics - Age'].value_counts()"
   ]
  },
  {
   "cell_type": "code",
   "execution_count": null,
   "id": "54cc56c9",
   "metadata": {},
   "outputs": [],
   "source": [
    "top5occ['CallLength'].describe()"
   ]
  },
  {
   "cell_type": "code",
   "execution_count": null,
   "id": "dfc5b48b",
   "metadata": {},
   "outputs": [],
   "source": [
    "top5occ['call_year'].value_counts(normalize=True)"
   ]
  },
  {
   "cell_type": "code",
   "execution_count": null,
   "id": "2e6f3267",
   "metadata": {},
   "outputs": [],
   "source": [
    "top5occ['call_year'].value_counts()"
   ]
  },
  {
   "cell_type": "code",
   "execution_count": null,
   "id": "a4ca2e43",
   "metadata": {},
   "outputs": [],
   "source": [
    "crisis.groupby('call_year')['CRISIS Demographics - Occupation'].value_counts()"
   ]
  },
  {
   "cell_type": "code",
   "execution_count": null,
   "id": "5ac49964",
   "metadata": {},
   "outputs": [],
   "source": [
    "top5occ.groupby('CRISIS Demographics - Occupation')['call_year'].value_counts()"
   ]
  },
  {
   "cell_type": "code",
   "execution_count": null,
   "id": "98d7971a",
   "metadata": {},
   "outputs": [],
   "source": [
    "top5occ.groupby('CRISIS Demographics - Occupation')['call_year'].value_counts(normalize=True)"
   ]
  },
  {
   "cell_type": "code",
   "execution_count": null,
   "id": "67fd9ac6",
   "metadata": {},
   "outputs": [],
   "source": [
    "goodwill['call_date'].value_counts()"
   ]
  },
  {
   "cell_type": "code",
   "execution_count": null,
   "id": "23c87fcc",
   "metadata": {},
   "outputs": [],
   "source": [
    "newsanchor = crisis.loc[crisis['CRISIS Demographics - Occupation'] == 'News Anchor']\n",
    "newsanchor.head()"
   ]
  },
  {
   "cell_type": "code",
   "execution_count": null,
   "id": "8c8ae4d6",
   "metadata": {},
   "outputs": [],
   "source": [
    "construction = crisis.loc[crisis['CRISIS Demographics - Occupation'] == 'Construction Worker']\n",
    "construction.head()"
   ]
  },
  {
   "cell_type": "code",
   "execution_count": null,
   "id": "335e938f",
   "metadata": {
    "scrolled": true
   },
   "outputs": [],
   "source": [
    "subteacher = crisis.loc[crisis['CRISIS Demographics - Occupation'] == 'Substitute Teacher']\n",
    "subteacher.head()"
   ]
  },
  {
   "cell_type": "code",
   "execution_count": null,
   "id": "8d3153df",
   "metadata": {},
   "outputs": [],
   "source": [
    "subteacher = crisis.loc[crisis['CRISIS Demographics - Occupation'] == 'Substitute Teacher']\n",
    "subteacher.head()"
   ]
  },
  {
   "cell_type": "code",
   "execution_count": null,
   "id": "3e2711d4",
   "metadata": {},
   "outputs": [],
   "source": [
    "krogerbagger = crisis.loc[crisis['CRISIS Demographics - Occupation'] == 'bagger at Kroger']\n",
    "krogerbagger.head()"
   ]
  },
  {
   "cell_type": "code",
   "execution_count": null,
   "id": "e0c34d83",
   "metadata": {},
   "outputs": [],
   "source": [
    "newsanchor['CallLength'].describe()"
   ]
  },
  {
   "cell_type": "code",
   "execution_count": null,
   "id": "6e1546e0",
   "metadata": {},
   "outputs": [],
   "source": [
    "goodwill['CallLength'].describe()"
   ]
  },
  {
   "cell_type": "code",
   "execution_count": null,
   "id": "9380f349",
   "metadata": {},
   "outputs": [],
   "source": [
    "construction['CallLength'].describe()"
   ]
  },
  {
   "cell_type": "code",
   "execution_count": null,
   "id": "c6217156",
   "metadata": {},
   "outputs": [],
   "source": [
    "subteacher['CallLength'].describe()"
   ]
  },
  {
   "cell_type": "code",
   "execution_count": null,
   "id": "247fedb8",
   "metadata": {},
   "outputs": [],
   "source": [
    "krogerbagger['CallLength'].describe()"
   ]
  },
  {
   "cell_type": "code",
   "execution_count": null,
   "id": "b106299d",
   "metadata": {},
   "outputs": [],
   "source": [
    "top5occ['PostalCode'].value_counts()"
   ]
  },
  {
   "cell_type": "code",
   "execution_count": null,
   "id": "48b132aa",
   "metadata": {},
   "outputs": [],
   "source": [
    "top5occ['PostalCode'].value_counts(normalize=True)"
   ]
  },
  {
   "cell_type": "code",
   "execution_count": null,
   "id": "2c5bd744",
   "metadata": {},
   "outputs": [],
   "source": [
    "top5occ['call_date'].value_counts()"
   ]
  },
  {
   "cell_type": "code",
   "execution_count": null,
   "id": "ac9397d0",
   "metadata": {
    "scrolled": true
   },
   "outputs": [],
   "source": [
    "crisis.groupby('PostalCode')['CRISIS Demographics - Education Level'].value_counts()"
   ]
  },
  {
   "cell_type": "code",
   "execution_count": null,
   "id": "f93a6503",
   "metadata": {},
   "outputs": [],
   "source": [
    "top5zip = crisis.loc[crisis['PostalCode'].isin([37075, 37115, 38012, 37211, 37138])]\n",
    "top5zip.head()"
   ]
  },
  {
   "cell_type": "code",
   "execution_count": null,
   "id": "74b0d707",
   "metadata": {
    "scrolled": true
   },
   "outputs": [],
   "source": [
    "top5zip.groupby('PostalCode')['CRISIS Demographics - Education Level'].value_counts(normalize=True)"
   ]
  },
  {
   "cell_type": "code",
   "execution_count": null,
   "id": "f76741fd",
   "metadata": {},
   "outputs": [],
   "source": [
    "top5zip.groupby('PostalCode')['CRISIS Demographics - Education Level'].value_counts()"
   ]
  },
  {
   "cell_type": "code",
   "execution_count": null,
   "id": "ac2ff35f",
   "metadata": {},
   "outputs": [],
   "source": [
    "top5zip.groupby('PostalCode')['call_year'].value_counts(normalize=True)"
   ]
  },
  {
   "cell_type": "code",
   "execution_count": null,
   "id": "30b7208e",
   "metadata": {},
   "outputs": [],
   "source": [
    "top5zip.groupby('PostalCode')['call_year'].value_counts()"
   ]
  },
  {
   "cell_type": "code",
   "execution_count": null,
   "id": "4c5d2b3c",
   "metadata": {},
   "outputs": [],
   "source": [
    "crisis.groupby('CRISIS Demographics - Education Level')['call_year'].value_counts(normalize=True)"
   ]
  },
  {
   "cell_type": "code",
   "execution_count": null,
   "id": "788310ba",
   "metadata": {},
   "outputs": [],
   "source": [
    "crisis.groupby('CRISIS Demographics - Education Level')['call_year'].value_counts()"
   ]
  },
  {
   "cell_type": "code",
   "execution_count": null,
   "id": "be765f58",
   "metadata": {},
   "outputs": [],
   "source": [
    "calls2022['CRISIS Demographics - Occupation'].value_counts()"
   ]
  },
  {
   "cell_type": "code",
   "execution_count": null,
   "id": "56144b27",
   "metadata": {},
   "outputs": [],
   "source": [
    "crisis.groupby('call_year')['PostalCode'].value_counts()"
   ]
  },
  {
   "cell_type": "code",
   "execution_count": null,
   "id": "9b19e9c4",
   "metadata": {
    "scrolled": true
   },
   "outputs": [],
   "source": [
    "calls2022['PostalCode'].value_counts()"
   ]
  },
  {
   "cell_type": "code",
   "execution_count": null,
   "id": "68b25101",
   "metadata": {},
   "outputs": [],
   "source": [
    "crisis['call_year'] = pd.to_numeric(crisis['call_year'], errors='coerce')"
   ]
  },
  {
   "cell_type": "code",
   "execution_count": null,
   "id": "c8cfacd8",
   "metadata": {},
   "outputs": [],
   "source": [
    "g = sns.FacetGrid(crisis.loc[crisis['CRISIS Demographics - Occupation'].isin(['Works at Goodwill', 'News Anchor', 'Construction Worker', 'bagger at Kroger', 'Substitute Teacher'])], col='CRISIS Demographics - Occupation', hue_kws={'color' : ['darkgray']})\n",
    "g.map_dataframe(sns.barplot, x='call_year', y='call_year', ci=None)\n",
    "g.set_axis_labels('Top 5 Occupations', 'Call Volume')\n",
    "g.set_titles(col_template='{col_name}')\n",
    "plt.savefig('Top 5 Occupations - Call Volume Per Year.png');"
   ]
  },
  {
   "cell_type": "code",
   "execution_count": null,
   "id": "bb3502ef",
   "metadata": {},
   "outputs": [],
   "source": [
    "yearlyocc_calls = top5occ.groupby('CRISIS Demographics - Occupation')['call_year'].value_counts().unstack()"
   ]
  },
  {
   "cell_type": "code",
   "execution_count": null,
   "id": "60861c1d",
   "metadata": {},
   "outputs": [],
   "source": [
    "yearlyocc_calls"
   ]
  },
  {
   "cell_type": "code",
   "execution_count": null,
   "id": "54655234",
   "metadata": {},
   "outputs": [],
   "source": [
    "ax = yearlyocc_calls.plot(kind='bar', figsize=(7,5), xlabel='Occupation', ylabel='Call Volume', rot=0, color=['#440154', '#3B528B'])\n",
    "ax.legend(title='Call Year', bbox_to_anchor=(1,1), loc='upper left')\n",
    "plt.xticks(rotation=60)\n",
    "plt.tight_layout()\n",
    "plt.savefig('Call Volume by Year for Top 5 Occupations')\n",
    "plt.show();"
   ]
  },
  {
   "cell_type": "code",
   "execution_count": null,
   "id": "d16626df",
   "metadata": {},
   "outputs": [],
   "source": [
    "phoneline = crisis.groupby('CRISIS Call Information - Phone Line')['call_year'].value_counts().unstack()"
   ]
  },
  {
   "cell_type": "code",
   "execution_count": null,
   "id": "84ac6620",
   "metadata": {},
   "outputs": [],
   "source": [
    "phoneline"
   ]
  },
  {
   "cell_type": "code",
   "execution_count": null,
   "id": "2c5105b8",
   "metadata": {},
   "outputs": [],
   "source": [
    "ax = phoneline.plot(kind='bar', figsize=(10,10), xlabel='Phone Line', ylabel='Call Volume', rot=0, color=['#440154', '#3B528B', '#21918C'])\n",
    "ax.legend(title='Call Year', bbox_to_anchor=(1,1), loc='upper left')\n",
    "plt.xticks(rotation=60)\n",
    "plt.tight_layout()\n",
    "plt.savefig('Annual Call Volume by Phone Line')\n",
    "plt.show();"
   ]
  },
  {
   "cell_type": "markdown",
   "id": "9ba3d51b",
   "metadata": {},
   "source": [
    "plt.rcParams['figure.figsize'] = (15,9)\n",
    "for col in phoneline.columns:\n",
    "    plt.plot(phoneline[col], linewidth=2, label=col, color=['#440154', '#3B528B', '#21918C'])\n",
    "plt.xlabel('Phone Line', fontsize=20)\n",
    "plt.ylabel('Call Year', fontsize=20)\n",
    "plt.xticks(fontsize=18, rotation=60)\n",
    "plt.yticks(fontsize=18)\n",
    "plt.legend(fontsize=18)\n",
    "#plt.set_cmap('viridis')\n",
    "plt.show()"
   ]
  },
  {
   "cell_type": "markdown",
   "id": "abfd0fa4",
   "metadata": {},
   "source": [
    "ax_cis = cisgender_year.plot(kind='line', figsize=(10, 10), cmap=\"viridis\")\n",
    "cis_labels = ['Female', 'Male']\n",
    "ax_cis.legend(title='Cisgender Individuals', loc='center left', labels=cis_labels)\n",
    "plt.title('Cisgender Call Volume by Year')\n",
    "\n",
    "#hide x axis title\n",
    "ax_cis.set(xlabel=None)\n"
   ]
  },
  {
   "cell_type": "code",
   "execution_count": null,
   "id": "78e97ba5",
   "metadata": {},
   "outputs": [],
   "source": [
    "top5occ['CRISIS Demographics - Homeless?'].value_counts()"
   ]
  },
  {
   "cell_type": "code",
   "execution_count": null,
   "id": "d16b2b84",
   "metadata": {},
   "outputs": [],
   "source": [
    "top5occ['CRISIS Demographics - Has a disability?'].value_counts()"
   ]
  },
  {
   "cell_type": "code",
   "execution_count": null,
   "id": "9010e2a2",
   "metadata": {},
   "outputs": [],
   "source": [
    "top5occ['CRISIS Demographics - Ethnicity'].value_counts()"
   ]
  },
  {
   "cell_type": "code",
   "execution_count": null,
   "id": "30d1a669",
   "metadata": {},
   "outputs": [],
   "source": [
    "top5occ['CRISIS Demographics - Gender Identity'].value_counts()"
   ]
  },
  {
   "cell_type": "code",
   "execution_count": null,
   "id": "1e968845",
   "metadata": {},
   "outputs": [],
   "source": [
    "top5occ['CRISIS Demographics - Income'].value_counts()"
   ]
  },
  {
   "cell_type": "code",
   "execution_count": null,
   "id": "c83574e5",
   "metadata": {},
   "outputs": [],
   "source": [
    "top5occ['CRISIS Demographics - Military'].value_counts()"
   ]
  },
  {
   "cell_type": "code",
   "execution_count": null,
   "id": "9b731622",
   "metadata": {},
   "outputs": [],
   "source": [
    "top5zip['CRISIS Demographics - Homeless?'].value_counts()"
   ]
  },
  {
   "cell_type": "code",
   "execution_count": null,
   "id": "f9bec45c",
   "metadata": {},
   "outputs": [],
   "source": [
    "top5zip['CRISIS Demographics - Has a disability?'].value_counts()"
   ]
  },
  {
   "cell_type": "code",
   "execution_count": null,
   "id": "478037f3",
   "metadata": {},
   "outputs": [],
   "source": [
    "top5zip['CRISIS Demographics - Gender Identity'].value_counts()"
   ]
  },
  {
   "cell_type": "code",
   "execution_count": null,
   "id": "8e070158",
   "metadata": {},
   "outputs": [],
   "source": [
    "top5zip['CRISIS Demographics - Income'].value_counts()"
   ]
  },
  {
   "cell_type": "code",
   "execution_count": null,
   "id": "895937d2",
   "metadata": {},
   "outputs": [],
   "source": [
    "top5zip['CRISIS Demographics - Military'].value_counts()"
   ]
  },
  {
   "cell_type": "code",
   "execution_count": null,
   "id": "52e1d5da",
   "metadata": {},
   "outputs": [],
   "source": [
    "top5occ['CRISIS Call Information - Phone Line'].value_counts()"
   ]
  },
  {
   "cell_type": "code",
   "execution_count": null,
   "id": "f3c73168",
   "metadata": {},
   "outputs": [],
   "source": [
    "top5zip['CRISIS Call Information - Phone Line'].value_counts()"
   ]
  },
  {
   "cell_type": "code",
   "execution_count": null,
   "id": "5d26c493",
   "metadata": {},
   "outputs": [],
   "source": [
    "sns.barplot(x='CRISIS Demographics - Occupation', y='CRISIS Call Information - Phone Line', data=top5occ);"
   ]
  },
  {
   "cell_type": "code",
   "execution_count": null,
   "id": "5a955204",
   "metadata": {},
   "outputs": [],
   "source": []
  }
 ],
 "metadata": {
  "kernelspec": {
   "display_name": "Python 3 (ipykernel)",
   "language": "python",
   "name": "python3"
  },
  "language_info": {
   "codemirror_mode": {
    "name": "ipython",
    "version": 3
   },
   "file_extension": ".py",
   "mimetype": "text/x-python",
   "name": "python",
   "nbconvert_exporter": "python",
   "pygments_lexer": "ipython3",
   "version": "3.9.7"
  }
 },
 "nbformat": 4,
 "nbformat_minor": 5
}
