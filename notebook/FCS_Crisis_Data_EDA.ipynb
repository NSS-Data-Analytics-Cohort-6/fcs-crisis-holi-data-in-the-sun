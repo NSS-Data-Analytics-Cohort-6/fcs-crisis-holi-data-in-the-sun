{
 "cells": [
  {
   "cell_type": "code",
   "execution_count": null,
   "id": "ef05c4e0",
   "metadata": {},
   "outputs": [],
   "source": [
    "import pandas as pd\n",
    "import numpy as np\n",
    "import matplotlib.pyplot as plt\n",
    "import seaborn as sns\n",
    "%matplotlib inline\n",
    "import re\n",
    "from ipywidgets import interactive"
   ]
  },
  {
   "cell_type": "code",
   "execution_count": null,
   "id": "5019d9e7",
   "metadata": {
    "scrolled": true
   },
   "outputs": [],
   "source": [
    "callcenter2020 = pd.read_csv(\"../data/callcenter2020.csv\")\n",
    "callcenter2020.head()"
   ]
  },
  {
   "cell_type": "code",
   "execution_count": null,
   "id": "93e38dbd",
   "metadata": {},
   "outputs": [],
   "source": [
    "callcenter2021 = pd.read_csv('../data/callcenter2021.csv')\n",
    "callcenter2021.head()"
   ]
  },
  {
   "cell_type": "code",
   "execution_count": null,
   "id": "38ace907",
   "metadata": {},
   "outputs": [],
   "source": [
    "callcenter2022 = pd.read_csv('../data/callcenter2022.csv')\n",
    "callcenter2022.head()"
   ]
  },
  {
   "cell_type": "code",
   "execution_count": null,
   "id": "5a8bc4b0",
   "metadata": {},
   "outputs": [],
   "source": [
    "crisis1 = pd.read_csv('../data/NSSCrisis1.csv', skiprows=2)\n",
    "crisis1.head()"
   ]
  },
  {
   "cell_type": "code",
   "execution_count": null,
   "id": "4727a1d6",
   "metadata": {
    "scrolled": true
   },
   "outputs": [],
   "source": [
    "crisis2 = pd.read_csv('../data/NSSCrisis2.csv', skiprows=2)\n",
    "crisis2.head()"
   ]
  },
  {
   "cell_type": "code",
   "execution_count": null,
   "id": "b538c990",
   "metadata": {},
   "outputs": [],
   "source": [
    "crisis1.shape"
   ]
  },
  {
   "cell_type": "code",
   "execution_count": null,
   "id": "abbf1e42",
   "metadata": {},
   "outputs": [],
   "source": [
    "crisis2.shape"
   ]
  },
  {
   "cell_type": "code",
   "execution_count": null,
   "id": "d075ae20",
   "metadata": {
    "scrolled": true
   },
   "outputs": [],
   "source": [
    "crisis = pd.concat([crisis2, crisis1])\n",
    "crisis.head()"
   ]
  },
  {
   "cell_type": "code",
   "execution_count": null,
   "id": "853ac857",
   "metadata": {},
   "outputs": [],
   "source": [
    "crisis['CallDateAndTimeStart'].dtypes"
   ]
  },
  {
   "cell_type": "code",
   "execution_count": null,
   "id": "1d6ba06a",
   "metadata": {},
   "outputs": [],
   "source": [
    "callcenter2020.shape"
   ]
  },
  {
   "cell_type": "code",
   "execution_count": null,
   "id": "efa65a3a",
   "metadata": {},
   "outputs": [],
   "source": [
    "callcenter2021.shape"
   ]
  },
  {
   "cell_type": "code",
   "execution_count": null,
   "id": "dc865be3",
   "metadata": {},
   "outputs": [],
   "source": [
    "callcenter2022.shape"
   ]
  },
  {
   "cell_type": "markdown",
   "id": "ee2f73b4",
   "metadata": {},
   "source": [
    "# General EDA"
   ]
  },
  {
   "cell_type": "code",
   "execution_count": null,
   "id": "2f66431b",
   "metadata": {},
   "outputs": [],
   "source": [
    "crisis['PostalCode'].value_counts()"
   ]
  },
  {
   "cell_type": "code",
   "execution_count": null,
   "id": "56bdc316",
   "metadata": {},
   "outputs": [],
   "source": [
    "crisis['PhoneWorkerName'].value_counts()"
   ]
  },
  {
   "cell_type": "code",
   "execution_count": null,
   "id": "9e375934",
   "metadata": {},
   "outputs": [],
   "source": [
    "crisis['ReportVersion'].value_counts()"
   ]
  },
  {
   "cell_type": "code",
   "execution_count": null,
   "id": "a0888479",
   "metadata": {},
   "outputs": [],
   "source": [
    "crisis['CallLength'].describe()"
   ]
  },
  {
   "cell_type": "code",
   "execution_count": null,
   "id": "c98cdf47",
   "metadata": {
    "scrolled": true
   },
   "outputs": [],
   "source": [
    "crisis.nlargest(20, ['CallLength'])"
   ]
  },
  {
   "cell_type": "code",
   "execution_count": null,
   "id": "1ebd148b",
   "metadata": {},
   "outputs": [],
   "source": [
    "(crisis['CallLength'].values > 5).sum()"
   ]
  },
  {
   "cell_type": "code",
   "execution_count": null,
   "id": "426bec49",
   "metadata": {},
   "outputs": [],
   "source": [
    "crisis['Reviewed'].value_counts()"
   ]
  },
  {
   "cell_type": "code",
   "execution_count": null,
   "id": "3a60d519",
   "metadata": {
    "scrolled": false
   },
   "outputs": [],
   "source": [
    "crisis['FeedbackStatus'].value_counts()"
   ]
  },
  {
   "cell_type": "code",
   "execution_count": null,
   "id": "73619e3b",
   "metadata": {
    "scrolled": false
   },
   "outputs": [],
   "source": [
    "crisis['ThirdPartyStateProvince'].value_counts()"
   ]
  },
  {
   "cell_type": "code",
   "execution_count": null,
   "id": "ac091055",
   "metadata": {
    "scrolled": true
   },
   "outputs": [],
   "source": [
    "crisis['Feedback'].value_counts()"
   ]
  },
  {
   "cell_type": "code",
   "execution_count": null,
   "id": "7669ac67",
   "metadata": {},
   "outputs": [],
   "source": [
    "crisis['OrgNum'].value_counts()"
   ]
  },
  {
   "cell_type": "markdown",
   "id": "586d411b",
   "metadata": {},
   "source": [
    "# CRISIS Designation Value Counts (EDA)"
   ]
  },
  {
   "cell_type": "code",
   "execution_count": null,
   "id": "5daa5118",
   "metadata": {},
   "outputs": [],
   "source": [
    "crisis['CRISIS Demographics - Occupation'].value_counts()"
   ]
  },
  {
   "cell_type": "code",
   "execution_count": null,
   "id": "80c8e2c2",
   "metadata": {
    "scrolled": true
   },
   "outputs": [],
   "source": [
    "crisis['CRISIS Call Information - Phone Line'].value_counts()"
   ]
  },
  {
   "cell_type": "code",
   "execution_count": null,
   "id": "e6c90c6b",
   "metadata": {},
   "outputs": [],
   "source": [
    "crisis['CRISIS Call Information - Call Type'].value_counts()"
   ]
  },
  {
   "cell_type": "code",
   "execution_count": null,
   "id": "f98b2ccc",
   "metadata": {},
   "outputs": [],
   "source": [
    "crisis['CRISIS Demographics - Age'].value_counts()\n",
    "#12-Jul is likely the 7-12 age bracket that just defaulted to a date"
   ]
  },
  {
   "cell_type": "code",
   "execution_count": null,
   "id": "4eb244ba",
   "metadata": {},
   "outputs": [],
   "source": [
    "crisis['CRISIS Demographics - Education Level'].value_counts()"
   ]
  },
  {
   "cell_type": "code",
   "execution_count": null,
   "id": "d3e1b4fc",
   "metadata": {},
   "outputs": [],
   "source": [
    "crisis['CRISIS Demographics - Ethnicity'].value_counts()"
   ]
  },
  {
   "cell_type": "code",
   "execution_count": null,
   "id": "a069aa6a",
   "metadata": {},
   "outputs": [],
   "source": [
    "crisis['CRISIS Demographics - Gender Identity'].value_counts()"
   ]
  },
  {
   "cell_type": "code",
   "execution_count": null,
   "id": "1033b39b",
   "metadata": {},
   "outputs": [],
   "source": [
    "crisis['CRISIS Demographics - Has a disability?'].value_counts()"
   ]
  },
  {
   "cell_type": "code",
   "execution_count": null,
   "id": "61e38349",
   "metadata": {},
   "outputs": [],
   "source": [
    "crisis['CRISIS Demographics - Homeless?'].value_counts()"
   ]
  },
  {
   "cell_type": "code",
   "execution_count": null,
   "id": "038ef6d7",
   "metadata": {},
   "outputs": [],
   "source": [
    "crisis['CRISIS Demographics - Income'].value_counts()"
   ]
  },
  {
   "cell_type": "code",
   "execution_count": null,
   "id": "a0864ece",
   "metadata": {},
   "outputs": [],
   "source": [
    "crisis['CRISIS Demographics - Marital Status'].value_counts()"
   ]
  },
  {
   "cell_type": "code",
   "execution_count": null,
   "id": "864ed909",
   "metadata": {},
   "outputs": [],
   "source": [
    "crisis['CRISIS Demographics - Military'].value_counts()"
   ]
  },
  {
   "cell_type": "code",
   "execution_count": null,
   "id": "8014e88c",
   "metadata": {},
   "outputs": [],
   "source": [
    "crisis['CRISIS Issues - Emotional State'].value_counts()"
   ]
  },
  {
   "cell_type": "code",
   "execution_count": null,
   "id": "dd6da5f6",
   "metadata": {},
   "outputs": [],
   "source": [
    "crisis['CRISIS Issues - Financial/Basic Needs'].value_counts()"
   ]
  },
  {
   "cell_type": "code",
   "execution_count": null,
   "id": "4960ff5f",
   "metadata": {},
   "outputs": [],
   "source": [
    "crisis['CRISIS Issues - Health/Physical'].value_counts()"
   ]
  },
  {
   "cell_type": "code",
   "execution_count": null,
   "id": "72148c19",
   "metadata": {},
   "outputs": [],
   "source": [
    "crisis['CRISIS Issues - Homicide'].value_counts()"
   ]
  },
  {
   "cell_type": "code",
   "execution_count": null,
   "id": "740f9dc2",
   "metadata": {},
   "outputs": [],
   "source": [
    "crisis['CRISIS Issues - Mental Health'].value_counts()"
   ]
  },
  {
   "cell_type": "code",
   "execution_count": null,
   "id": "b9b71d2f",
   "metadata": {},
   "outputs": [],
   "source": [
    "crisis['CRISIS Issues - Relationships'].value_counts()"
   ]
  },
  {
   "cell_type": "code",
   "execution_count": null,
   "id": "b3ddf6e7",
   "metadata": {},
   "outputs": [],
   "source": [
    "crisis['CRISIS Issues - Substances'].value_counts()"
   ]
  },
  {
   "cell_type": "code",
   "execution_count": null,
   "id": "c49cc93c",
   "metadata": {},
   "outputs": [],
   "source": [
    "crisis['CRISIS Issues - Suicide'].value_counts()"
   ]
  },
  {
   "cell_type": "code",
   "execution_count": null,
   "id": "d3d33ab6",
   "metadata": {},
   "outputs": [],
   "source": [
    "crisis['CRISIS Successful Outcome - Successful Outcome'].value_counts()"
   ]
  },
  {
   "cell_type": "code",
   "execution_count": null,
   "id": "6e8a5777",
   "metadata": {
    "scrolled": true
   },
   "outputs": [],
   "source": [
    "crisis['CRISIS Unsuccessful Outcome - CRISIS Unsuccessful Outcome'].value_counts()"
   ]
  },
  {
   "cell_type": "code",
   "execution_count": null,
   "id": "f6239770",
   "metadata": {
    "scrolled": true
   },
   "outputs": [],
   "source": [
    "crisis['CRISIS Issues - Abusive Behavior'].value_counts()"
   ]
  },
  {
   "cell_type": "code",
   "execution_count": null,
   "id": "35b53b97",
   "metadata": {
    "scrolled": true
   },
   "outputs": [],
   "source": [
    "crisis['CRISIS Issues - Information or Services Needed'].value_counts()"
   ]
  },
  {
   "cell_type": "markdown",
   "id": "a3d2154d",
   "metadata": {},
   "source": [
    "# CRISIS/LIFELINE Designation Value Counts (EDA)"
   ]
  },
  {
   "cell_type": "code",
   "execution_count": null,
   "id": "01411b39",
   "metadata": {},
   "outputs": [],
   "source": [
    "crisis['CRISIS/LIFELINE Imminent Risk - 2. Was caller at imminent risk for suicide? '].value_counts()"
   ]
  },
  {
   "cell_type": "code",
   "execution_count": null,
   "id": "d6566bda",
   "metadata": {},
   "outputs": [],
   "source": [
    "crisis['CRISIS/LIFELINE Imminent Risk - 3. Was emergency rescue dispatched? '].value_counts()"
   ]
  },
  {
   "cell_type": "code",
   "execution_count": null,
   "id": "4a274e76",
   "metadata": {},
   "outputs": [],
   "source": [
    "crisis['CRISIS/LIFELINE Imminent Risk - 4. Was homicidal ideation (any desire or threat of violence to others) present? '].value_counts()"
   ]
  },
  {
   "cell_type": "code",
   "execution_count": null,
   "id": "b4cf9141",
   "metadata": {},
   "outputs": [],
   "source": [
    "crisis['CRISIS/LIFELINE Imminent Risk - 5. If yes to #4 please indicate category: (Choose all that apply)'].value_counts()"
   ]
  },
  {
   "cell_type": "code",
   "execution_count": null,
   "id": "c7564587",
   "metadata": {},
   "outputs": [],
   "source": [
    "crisis['CRISIS/LIFELINE Imminent Risk - 6. If yes to #4 were emergency services dispatched? '].value_counts()"
   ]
  },
  {
   "cell_type": "code",
   "execution_count": null,
   "id": "abdb1071",
   "metadata": {},
   "outputs": [],
   "source": [
    "crisis['CRISIS/LIFELINE Imminent Risk - 7. Third-party caller concerned about homicidal ideation in another person'].value_counts()"
   ]
  },
  {
   "cell_type": "code",
   "execution_count": null,
   "id": "7abf6e3a",
   "metadata": {},
   "outputs": [],
   "source": [
    "crisis['CRISIS/LIFELINE Imminent Risk - Contact Disposition \t\t\t\t\t\t\t\t\t\t\t'].value_counts()"
   ]
  },
  {
   "cell_type": "code",
   "execution_count": null,
   "id": "5fc59bf4",
   "metadata": {},
   "outputs": [],
   "source": [
    "crisis['CRISIS/LIFELINE Imminent Risk - Was suicidal ideation present? '].value_counts()"
   ]
  },
  {
   "cell_type": "code",
   "execution_count": null,
   "id": "3f4933fd",
   "metadata": {
    "scrolled": true
   },
   "outputs": [],
   "source": [
    "crisis['CRISIS/LIFLINE THIRD-PARTY IMMINENT RISK - Imminent risk for suicide for third party call?'].value_counts()"
   ]
  },
  {
   "cell_type": "markdown",
   "id": "78a98da6",
   "metadata": {},
   "source": [
    "# HOM AX Designation Value Counts (EDA)"
   ]
  },
  {
   "cell_type": "code",
   "execution_count": null,
   "id": "944703b8",
   "metadata": {},
   "outputs": [],
   "source": [
    "crisis['HOM AX Call Information - Call Type'].value_counts()"
   ]
  },
  {
   "cell_type": "code",
   "execution_count": null,
   "id": "6fa595e3",
   "metadata": {},
   "outputs": [],
   "source": [
    "crisis['HOM AX Demographics - Age'].value_counts()"
   ]
  },
  {
   "cell_type": "code",
   "execution_count": null,
   "id": "2e8fe3c1",
   "metadata": {},
   "outputs": [],
   "source": [
    "crisis['HOM AX Demographics - Education Level'].value_counts()"
   ]
  },
  {
   "cell_type": "code",
   "execution_count": null,
   "id": "92be723f",
   "metadata": {},
   "outputs": [],
   "source": [
    "crisis['HOM AX Demographics - Ethnicity'].value_counts()"
   ]
  },
  {
   "cell_type": "code",
   "execution_count": null,
   "id": "ed4dfa28",
   "metadata": {},
   "outputs": [],
   "source": [
    "crisis['HOM AX Demographics - Gender'].value_counts()"
   ]
  },
  {
   "cell_type": "markdown",
   "id": "2b896fdf",
   "metadata": {},
   "source": [
    "# CRISIS Additional Reporting Designation Value Counts (EDA)"
   ]
  },
  {
   "cell_type": "code",
   "execution_count": null,
   "id": "97f3c627",
   "metadata": {},
   "outputs": [],
   "source": [
    "crisis['CRISIS Additional Reporting - ADD APS Report'].value_counts()"
   ]
  },
  {
   "cell_type": "code",
   "execution_count": null,
   "id": "a7ea487a",
   "metadata": {},
   "outputs": [],
   "source": [
    "crisis['CRISIS Additional Reporting - ADD CPS Report'].value_counts()"
   ]
  },
  {
   "cell_type": "code",
   "execution_count": null,
   "id": "caf4b0a2",
   "metadata": {},
   "outputs": [],
   "source": [
    "crisis['CRISIS Assessment - Did you complete a Homicidal Risk Assessment for this call?'].value_counts()"
   ]
  },
  {
   "cell_type": "code",
   "execution_count": null,
   "id": "66018843",
   "metadata": {},
   "outputs": [],
   "source": [
    "crisis['CRISIS Assessment - Did you complete a Suicide Assessment for this call?'].value_counts()"
   ]
  },
  {
   "cell_type": "code",
   "execution_count": null,
   "id": "c9487e09",
   "metadata": {},
   "outputs": [],
   "source": [
    "crisis['CRISIS Call Information - Call Type'].value_counts()"
   ]
  },
  {
   "cell_type": "code",
   "execution_count": null,
   "id": "805abd91",
   "metadata": {},
   "outputs": [],
   "source": [
    "crisis['CRISIS Call Information - Caller not reached'].value_counts()"
   ]
  },
  {
   "cell_type": "code",
   "execution_count": null,
   "id": "478d6dca",
   "metadata": {},
   "outputs": [],
   "source": [
    "crisis['CRISIS Call Information - How did you hear about the Crisis Contact Center?'].value_counts()"
   ]
  },
  {
   "cell_type": "code",
   "execution_count": null,
   "id": "17e9c295",
   "metadata": {},
   "outputs": [],
   "source": [
    "crisis['CRISIS Call Information - Phone Line'].value_counts()"
   ]
  },
  {
   "cell_type": "code",
   "execution_count": null,
   "id": "bb83f6a2",
   "metadata": {},
   "outputs": [],
   "source": [
    "crisis['CRISIS CPS Report - Does the caller wish to remain anonymous?'].value_counts()"
   ]
  },
  {
   "cell_type": "code",
   "execution_count": null,
   "id": "f04edc20",
   "metadata": {},
   "outputs": [],
   "source": [
    "crisis['CRISIS CPS Report - Follow-up letter requested?'].value_counts()"
   ]
  },
  {
   "cell_type": "code",
   "execution_count": null,
   "id": "b2314d83",
   "metadata": {},
   "outputs": [],
   "source": [
    "crisis['CRISIS CPS Report - Gender'].value_counts()"
   ]
  },
  {
   "cell_type": "code",
   "execution_count": null,
   "id": "1314ab3e",
   "metadata": {},
   "outputs": [],
   "source": [
    "crisis['CRISIS Resources - Has the caller used a resource offered by the crisis line?'].value_counts()"
   ]
  },
  {
   "cell_type": "markdown",
   "id": "aaac131d",
   "metadata": {},
   "source": [
    "# NSPL Phone Line Designation Value Counts (EDA)"
   ]
  },
  {
   "cell_type": "code",
   "execution_count": null,
   "id": "102898b7",
   "metadata": {
    "scrolled": true
   },
   "outputs": [],
   "source": [
    "crisis['NSPL Phone Line - NSPL - Did you complete a warm transfer to the Veterans Crisis Line?'].value_counts()"
   ]
  },
  {
   "cell_type": "code",
   "execution_count": null,
   "id": "fe045124",
   "metadata": {},
   "outputs": [],
   "source": [
    "crisis['NSPL Phone Line - NSPL - If Veteran why didnt they press 1 for Veterans when calling Lifeline?'].value_counts()"
   ]
  },
  {
   "cell_type": "code",
   "execution_count": null,
   "id": "18bab5d5",
   "metadata": {},
   "outputs": [],
   "source": []
  }
 ],
 "metadata": {
  "kernelspec": {
   "display_name": "Python 3 (ipykernel)",
   "language": "python",
   "name": "python3"
  },
  "language_info": {
   "codemirror_mode": {
    "name": "ipython",
    "version": 3
   },
   "file_extension": ".py",
   "mimetype": "text/x-python",
   "name": "python",
   "nbconvert_exporter": "python",
   "pygments_lexer": "ipython3",
   "version": "3.9.7"
  }
 },
 "nbformat": 4,
 "nbformat_minor": 5
}
