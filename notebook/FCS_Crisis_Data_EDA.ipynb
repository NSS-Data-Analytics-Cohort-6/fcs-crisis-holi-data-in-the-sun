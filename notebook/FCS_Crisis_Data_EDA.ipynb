{
 "cells": [
  {
   "cell_type": "code",
   "execution_count": null,
   "id": "87d8641b",
   "metadata": {},
   "outputs": [],
   "source": [
    "import pandas as pd\n",
    "import numpy as np\n",
    "import matplotlib.pyplot as plt\n",
    "import seaborn as sns\n",
    "%matplotlib inline\n",
    "import re\n",
    "from ipywidgets import interactive"
   ]
  },
  {
   "cell_type": "code",
   "execution_count": null,
   "id": "8e66ff67",
   "metadata": {},
   "outputs": [],
   "source": [
    "callcenter2020 = pd.read_csv('../data/callcenter2020.csv')\n",
    "callcenter2020.head()"
   ]
  },
  {
   "cell_type": "code",
   "execution_count": null,
   "id": "f2fd335f",
   "metadata": {},
   "outputs": [],
   "source": [
    "callcenter2021 = pd.read_csv('../data/callcenter2021.csv')\n",
    "callcenter2021.head()"
   ]
  },
  {
   "cell_type": "code",
   "execution_count": null,
   "id": "5a306525",
   "metadata": {},
   "outputs": [],
   "source": [
    "callcenter2022 = pd.read_csv('../data/callcenter2022.csv')\n",
    "callcenter2022.head()"
   ]
  },
  {
   "cell_type": "code",
   "execution_count": null,
   "id": "b15bfbb5",
   "metadata": {},
   "outputs": [],
   "source": [
    "crisis1 = pd.read_csv('../data/NSSCrisis1.csv', skiprows=2)\n",
    "crisis1.head()"
   ]
  },
  {
   "cell_type": "code",
   "execution_count": null,
   "id": "4eb55e11",
   "metadata": {
    "scrolled": true
   },
   "outputs": [],
   "source": [
    "crisis2 = pd.read_csv('../data/NSSCrisis2.csv', skiprows=2)\n",
    "crisis2.head()"
   ]
  },
  {
   "cell_type": "code",
   "execution_count": null,
   "id": "f33da7a1",
   "metadata": {},
   "outputs": [],
   "source": [
    "crisis1.shape"
   ]
  },
  {
   "cell_type": "code",
   "execution_count": null,
   "id": "76fe57a8",
   "metadata": {},
   "outputs": [],
   "source": [
    "crisis2.shape"
   ]
  },
  {
   "cell_type": "code",
   "execution_count": null,
   "id": "04362baa",
   "metadata": {},
   "outputs": [],
   "source": [
    "crisis = pd.concat([crisis2, crisis1])\n",
    "crisis.head()"
   ]
  },
  {
   "cell_type": "code",
   "execution_count": null,
   "id": "df3c5473",
   "metadata": {},
   "outputs": [],
   "source": [
    "callcenter2020.shape"
   ]
  },
  {
   "cell_type": "code",
   "execution_count": null,
   "id": "9fd244b2",
   "metadata": {},
   "outputs": [],
   "source": [
    "callcenter2021.shape"
   ]
  },
  {
   "cell_type": "code",
   "execution_count": null,
   "id": "27eb022d",
   "metadata": {},
   "outputs": [],
   "source": [
    "callcenter2022.shape"
   ]
  },
  {
   "cell_type": "markdown",
   "id": "2a0cb405",
   "metadata": {},
   "source": [
    "# General EDA"
   ]
  },
  {
   "cell_type": "code",
   "execution_count": null,
   "id": "9c6bfa6c",
   "metadata": {},
   "outputs": [],
   "source": [
    "crisis['PhoneWorkerName'].value_counts()"
   ]
  },
  {
   "cell_type": "code",
   "execution_count": null,
   "id": "10ab384b",
   "metadata": {},
   "outputs": [],
   "source": [
    "crisis['ReportVersion'].value_counts()"
   ]
  },
  {
   "cell_type": "code",
   "execution_count": null,
   "id": "5b9324ea",
   "metadata": {},
   "outputs": [],
   "source": [
    "crisis['CallLength'].describe()"
   ]
  },
  {
   "cell_type": "code",
   "execution_count": null,
   "id": "f0ef5022",
   "metadata": {},
   "outputs": [],
   "source": [
    "crisis1.nlargest(20, ['CallLength'])"
   ]
  },
  {
   "cell_type": "code",
   "execution_count": null,
   "id": "32831383",
   "metadata": {},
   "outputs": [],
   "source": [
    "(crisis['CallLength'].values > 5).sum()"
   ]
  },
  {
   "cell_type": "code",
   "execution_count": null,
   "id": "7f520ef8",
   "metadata": {},
   "outputs": [],
   "source": [
    "crisis['Reviewed'].value_counts()"
   ]
  },
  {
   "cell_type": "code",
   "execution_count": null,
   "id": "6ef4e213",
   "metadata": {
    "scrolled": true
   },
   "outputs": [],
   "source": [
    "crisis['FeedbackStatus'].value_counts()"
   ]
  },
  {
   "cell_type": "markdown",
   "id": "97da75c6",
   "metadata": {},
   "source": [
    "# CRISIS Designation Value Counts (EDA)"
   ]
  },
  {
   "cell_type": "code",
   "execution_count": null,
   "id": "0ff20ace",
   "metadata": {},
   "outputs": [],
   "source": [
    "crisis['CRISIS Call Information - Phone Line'].value_counts()"
   ]
  },
  {
   "cell_type": "code",
   "execution_count": null,
   "id": "02b30049",
   "metadata": {},
   "outputs": [],
   "source": [
    "crisis['CRISIS Call Information - Call Type'].value_counts()"
   ]
  },
  {
   "cell_type": "code",
   "execution_count": null,
   "id": "2e389c8b",
   "metadata": {},
   "outputs": [],
   "source": [
    "crisis['CRISIS Demographics - Age'].value_counts()\n",
    "#12-Jul is likely the 7-12 age bracket that just defaulted to a date"
   ]
  },
  {
   "cell_type": "code",
   "execution_count": null,
   "id": "08ddca82",
   "metadata": {},
   "outputs": [],
   "source": [
    "crisis['CRISIS Demographics - Education Level'].value_counts()"
   ]
  },
  {
   "cell_type": "code",
   "execution_count": null,
   "id": "94aec078",
   "metadata": {},
   "outputs": [],
   "source": [
    "crisis['CRISIS Demographics - Ethnicity'].value_counts()"
   ]
  },
  {
   "cell_type": "code",
   "execution_count": null,
   "id": "cc45f510",
   "metadata": {},
   "outputs": [],
   "source": [
    "crisis['CRISIS Demographics - Gender Identity'].value_counts()"
   ]
  },
  {
   "cell_type": "code",
   "execution_count": null,
   "id": "0c16c489",
   "metadata": {},
   "outputs": [],
   "source": [
    "crisis['CRISIS Demographics - Has a disability?'].value_counts()"
   ]
  },
  {
   "cell_type": "code",
   "execution_count": null,
   "id": "14c7cdac",
   "metadata": {},
   "outputs": [],
   "source": [
    "crisis['CRISIS Demographics - Homeless?'].value_counts()"
   ]
  },
  {
   "cell_type": "code",
   "execution_count": null,
   "id": "cda05959",
   "metadata": {},
   "outputs": [],
   "source": [
    "crisis['CRISIS Demographics - Income'].value_counts()"
   ]
  },
  {
   "cell_type": "code",
   "execution_count": null,
   "id": "bfbe3997",
   "metadata": {},
   "outputs": [],
   "source": [
    "crisis['CRISIS Demographics - Marital Status'].value_counts()"
   ]
  },
  {
   "cell_type": "code",
   "execution_count": null,
   "id": "c255bdb6",
   "metadata": {},
   "outputs": [],
   "source": [
    "crisis['CRISIS Demographics - Military'].value_counts()"
   ]
  },
  {
   "cell_type": "code",
   "execution_count": null,
   "id": "190a2a54",
   "metadata": {},
   "outputs": [],
   "source": [
    "crisis['CRISIS Issues - Emotional State'].value_counts()"
   ]
  },
  {
   "cell_type": "code",
   "execution_count": null,
   "id": "184feb28",
   "metadata": {},
   "outputs": [],
   "source": [
    "crisis['CRISIS Issues - Financial/Basic Needs'].value_counts()"
   ]
  },
  {
   "cell_type": "code",
   "execution_count": null,
   "id": "a8a74da2",
   "metadata": {},
   "outputs": [],
   "source": [
    "crisis['CRISIS Issues - Health/Physical'].value_counts()"
   ]
  },
  {
   "cell_type": "code",
   "execution_count": null,
   "id": "83233b9c",
   "metadata": {},
   "outputs": [],
   "source": [
    "crisis['CRISIS Issues - Homicide'].value_counts()"
   ]
  },
  {
   "cell_type": "code",
   "execution_count": null,
   "id": "2756b784",
   "metadata": {},
   "outputs": [],
   "source": [
    "crisis['CRISIS Issues - Mental Health'].value_counts()"
   ]
  },
  {
   "cell_type": "code",
   "execution_count": null,
   "id": "1051da3a",
   "metadata": {},
   "outputs": [],
   "source": [
    "crisis['CRISIS Issues - Relationships'].value_counts()"
   ]
  },
  {
   "cell_type": "code",
   "execution_count": null,
   "id": "915191bc",
   "metadata": {},
   "outputs": [],
   "source": [
    "crisis['CRISIS Issues - Substances'].value_counts()"
   ]
  },
  {
   "cell_type": "code",
   "execution_count": null,
   "id": "06a72cdb",
   "metadata": {},
   "outputs": [],
   "source": [
    "crisis['CRISIS Issues - Suicide'].value_counts()"
   ]
  },
  {
   "cell_type": "code",
   "execution_count": null,
   "id": "e88ab57d",
   "metadata": {},
   "outputs": [],
   "source": [
    "crisis['CRISIS Successful Outcome - Successful Outcome'].value_counts()"
   ]
  },
  {
   "cell_type": "code",
   "execution_count": null,
   "id": "d0eb298b",
   "metadata": {
    "scrolled": true
   },
   "outputs": [],
   "source": [
    "crisis['CRISIS Unsuccessful Outcome - CRISIS Unsuccessful Outcome'].value_counts()"
   ]
  },
  {
   "cell_type": "markdown",
   "id": "32cdeb9a",
   "metadata": {},
   "source": [
    "# CRISIS/LIFELINE Designation Value Counts (EDA)"
   ]
  },
  {
   "cell_type": "code",
   "execution_count": null,
   "id": "d7f2bdf6",
   "metadata": {},
   "outputs": [],
   "source": [
    "crisis['CRISIS/LIFELINE Imminent Risk - 2. Was caller at imminent risk for suicide? '].value_counts()"
   ]
  },
  {
   "cell_type": "code",
   "execution_count": null,
   "id": "50617906",
   "metadata": {},
   "outputs": [],
   "source": [
    "crisis['CRISIS/LIFELINE Imminent Risk - 3. Was emergency rescue dispatched? '].value_counts()"
   ]
  },
  {
   "cell_type": "code",
   "execution_count": null,
   "id": "f3d72d90",
   "metadata": {},
   "outputs": [],
   "source": [
    "crisis['CRISIS/LIFELINE Imminent Risk - 4. Was homicidal ideation (any desire or threat of violence to others) present? '].value_counts()"
   ]
  },
  {
   "cell_type": "code",
   "execution_count": null,
   "id": "1f8828b5",
   "metadata": {},
   "outputs": [],
   "source": [
    "crisis['CRISIS/LIFELINE Imminent Risk - 5. If yes to #4 please indicate category: (Choose all that apply)'].value_counts()"
   ]
  },
  {
   "cell_type": "code",
   "execution_count": null,
   "id": "242cd066",
   "metadata": {},
   "outputs": [],
   "source": [
    "crisis['CRISIS/LIFELINE Imminent Risk - 6. If yes to #4 were emergency services dispatched? '].value_counts()"
   ]
  },
  {
   "cell_type": "code",
   "execution_count": null,
   "id": "b96fe392",
   "metadata": {},
   "outputs": [],
   "source": [
    "crisis['CRISIS/LIFELINE Imminent Risk - 7. Third-party caller concerned about homicidal ideation in another person'].value_counts()"
   ]
  },
  {
   "cell_type": "code",
   "execution_count": null,
   "id": "ec80370e",
   "metadata": {},
   "outputs": [],
   "source": [
    "crisis['CRISIS/LIFELINE Imminent Risk - Contact Disposition \t\t\t\t\t\t\t\t\t\t\t'].value_counts()"
   ]
  },
  {
   "cell_type": "code",
   "execution_count": null,
   "id": "a93a5e66",
   "metadata": {},
   "outputs": [],
   "source": [
    "crisis['CRISIS/LIFELINE Imminent Risk - Was suicidal ideation present? '].value_counts()"
   ]
  },
  {
   "cell_type": "code",
   "execution_count": null,
   "id": "c2b1002a",
   "metadata": {
    "scrolled": true
   },
   "outputs": [],
   "source": [
    "crisis['CRISIS/LIFLINE THIRD-PARTY IMMINENT RISK - Imminent risk for suicide for third party call?'].value_counts()"
   ]
  },
  {
   "cell_type": "markdown",
   "id": "6b6a2fe2",
   "metadata": {},
   "source": [
    "# HOM AX Designation Value Counts (EDA)"
   ]
  },
  {
   "cell_type": "code",
   "execution_count": null,
   "id": "1da37ed3",
   "metadata": {},
   "outputs": [],
   "source": [
    "crisis['HOM AX Call Information - Call Type'].value_counts()"
   ]
  },
  {
   "cell_type": "code",
   "execution_count": null,
   "id": "d59d8d93",
   "metadata": {},
   "outputs": [],
   "source": [
    "crisis['HOM AX Demographics - Age'].value_counts()"
   ]
  },
  {
   "cell_type": "code",
   "execution_count": null,
   "id": "8d6d1963",
   "metadata": {},
   "outputs": [],
   "source": []
  }
 ],
 "metadata": {
  "kernelspec": {
   "display_name": "Python 3 (ipykernel)",
   "language": "python",
   "name": "python3"
  },
  "language_info": {
   "codemirror_mode": {
    "name": "ipython",
    "version": 3
   },
   "file_extension": ".py",
   "mimetype": "text/x-python",
   "name": "python",
   "nbconvert_exporter": "python",
   "pygments_lexer": "ipython3",
   "version": "3.9.7"
  }
 },
 "nbformat": 4,
 "nbformat_minor": 5
}
