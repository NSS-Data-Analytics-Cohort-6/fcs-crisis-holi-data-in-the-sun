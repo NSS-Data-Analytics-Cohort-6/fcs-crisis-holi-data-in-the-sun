{
 "cells": [
  {
   "cell_type": "code",
   "execution_count": null,
   "id": "be10efba",
   "metadata": {},
   "outputs": [],
   "source": [
    "import requests\n",
    "import matplotlib.pyplot as plt\n",
    "import json\n",
    "import pandas as pd\n",
    "import seaborn as sns"
   ]
  },
  {
   "cell_type": "code",
   "execution_count": null,
   "id": "17a16b8d",
   "metadata": {},
   "outputs": [],
   "source": [
    "SHL_df1 = pd.read_csv(r'../Data/NSSCrisisv.1.csv', skiprows = [0, 1])\n",
    "SHL_df1=SHL_df1.reset_index(drop=True)\n",
    "SHL_df1"
   ]
  },
  {
   "cell_type": "code",
   "execution_count": null,
   "id": "d0f184c5",
   "metadata": {},
   "outputs": [],
   "source": [
    "SHL_df1.info()"
   ]
  },
  {
   "cell_type": "code",
   "execution_count": null,
   "id": "aa9e9553",
   "metadata": {},
   "outputs": [],
   "source": [
    "SHL_df2 = pd.read_csv(r'../Data/NSSCrisisv.2.csv', skiprows = [0, 1])\n",
    "SHL_df2=SHL_df2.reset_index(drop=True)\n",
    "SHL_df2"
   ]
  },
  {
   "cell_type": "code",
   "execution_count": null,
   "id": "2ba54bfc",
   "metadata": {},
   "outputs": [],
   "source": [
    "SHL_df2.rename(columns={'CRISIS Demographics - Race/Ethnicity': 'CRISIS Demographics - Ethnicity'}, inplace=True)"
   ]
  },
  {
   "cell_type": "code",
   "execution_count": null,
   "id": "415217c8",
   "metadata": {},
   "outputs": [],
   "source": [
    "filter_col = [col for col in SHL_df1 if col.startswith('CRISIS Demographics') or col.startswith('Call')]\n",
    "updated_df1 = SHL_df1[filter_col]"
   ]
  },
  {
   "cell_type": "code",
   "execution_count": null,
   "id": "4bda5e28",
   "metadata": {},
   "outputs": [],
   "source": [
    "filter_col = [col for col in SHL_df2 if col.startswith('CRISIS Demographics') or col.startswith('Call')]\n",
    "updated_df2 = SHL_df2[filter_col]"
   ]
  },
  {
   "cell_type": "code",
   "execution_count": null,
   "id": "18679309",
   "metadata": {},
   "outputs": [],
   "source": [
    "SHL = pd.concat([updated_df1, updated_df2])"
   ]
  },
  {
   "cell_type": "code",
   "execution_count": null,
   "id": "94c9cd27",
   "metadata": {},
   "outputs": [],
   "source": [
    "ethnicity_df = SHL['CRISIS Demographics - Ethnicity'].notnull()\n",
    "ethnicity_df = SHL[ethnicity_df]\n",
    "ethnicity_df"
   ]
  },
  {
   "cell_type": "code",
   "execution_count": null,
   "id": "dd629ffa",
   "metadata": {},
   "outputs": [],
   "source": [
    "ethnicity_df.groupby(['CRISIS Demographics - Ethnicity'])['CallReportNum'].count().sort_values(ascending=False)"
   ]
  },
  {
   "cell_type": "code",
   "execution_count": null,
   "id": "3da65442",
   "metadata": {},
   "outputs": [],
   "source": [
    "ethnicity_df.groupby(['CRISIS Demographics - Ethnicity'])['CallReportNum'].count().sort_values(ascending=False).plot.bar(color='black',legend=None, tick_label='Plain')\n",
    "plt.ylabel('count')\n",
    "plt.xlabel('ethnicity')"
   ]
  },
  {
   "cell_type": "code",
   "execution_count": null,
   "id": "f89b037d",
   "metadata": {},
   "outputs": [],
   "source": [
    "ethplt = ethnicity_df.groupby(['CRISIS Demographics - Ethnicity'])['CallReportNum'].count().sort_values(ascending=False).to_frame()"
   ]
  },
  {
   "cell_type": "code",
   "execution_count": null,
   "id": "45fe6bab",
   "metadata": {},
   "outputs": [],
   "source": [
    "ethplt"
   ]
  },
  {
   "cell_type": "code",
   "execution_count": null,
   "id": "75c8b0c8",
   "metadata": {},
   "outputs": [],
   "source": [
    "ethplt = ethnicity_df.groupby(['CRISIS Demographics - Ethnicity'])['CallReportNum'].count().sort_values(ascending=False).to_frame()\n",
    "ethplt.reset_index(inplace=True)\n",
    "ax = sns.barplot(y=ethplt['CRISIS Demographics - Ethnicity'], x=ethplt['CallReportNum'], data=ethplt, palette=\"Greys_r\", edgecolor='none')\n",
    "#ax.ticklabel_format(style='plain', axis=\"y\")\n",
    "plt.xticks(rotation=65, fontsize=8, backgroundcolor='whitesmoke')"
   ]
  },
  {
   "cell_type": "code",
   "execution_count": null,
   "id": "c82768f5",
   "metadata": {},
   "outputs": [],
   "source": [
    "ethplt.reset_index(inplace=True)\n",
    "ax = sns.barplot(x=ethplt['CRISIS Demographics - Ethnicity'], y=ethplt['CallReportNum'], data=ethplt, palette=\"Greys_r\", edgecolor='none')\n",
    "ax.ticklabel_format(style='plain', axis=\"y\")\n",
    "plt.xticks(rotation=65, fontsize=8, backgroundcolor='whitesmoke')\n",
    "plt.ylabel('count', fontweight='bold', fontsize=11)\n",
    "plt.xlabel('ethnicity',fontweight='bold',fontsize=11, labelpad=12)"
   ]
  },
  {
   "cell_type": "code",
   "execution_count": null,
   "id": "c44a030b",
   "metadata": {},
   "outputs": [],
   "source": []
  }
 ],
 "metadata": {
  "kernelspec": {
   "display_name": "Python 3 (ipykernel)",
   "language": "python",
   "name": "python3"
  },
  "language_info": {
   "codemirror_mode": {
    "name": "ipython",
    "version": 3
   },
   "file_extension": ".py",
   "mimetype": "text/x-python",
   "name": "python",
   "nbconvert_exporter": "python",
   "pygments_lexer": "ipython3",
   "version": "3.9.7"
  }
 },
 "nbformat": 4,
 "nbformat_minor": 5
}
