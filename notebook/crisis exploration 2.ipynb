{
 "cells": [
  {
   "cell_type": "code",
   "execution_count": null,
   "id": "be10efba",
   "metadata": {},
   "outputs": [],
   "source": [
    "import requests\n",
    "import matplotlib.pyplot as plt\n",
    "import json\n",
    "import pandas as pd\n",
    "import seaborn as sns\n",
    "%matplotlib inline\n",
    "%reload_ext autoreload\n",
    "%autoreload 2"
   ]
  },
  {
   "cell_type": "code",
   "execution_count": null,
   "id": "e2ba9825",
   "metadata": {},
   "outputs": [],
   "source": [
    "SHL_df1 = pd.read_csv(r'../Data/NSSCrisisv.1.csv', skiprows = [0, 1])\n",
    "SHL_df1=SHL_df1.reset_index(drop=True)\n",
    "SHL_df1"
   ]
  },
  {
   "cell_type": "code",
   "execution_count": null,
   "id": "c6e6667d",
   "metadata": {},
   "outputs": [],
   "source": [
    "SHL_df1.info()"
   ]
  },
  {
   "cell_type": "code",
   "execution_count": null,
   "id": "1c127c9a",
   "metadata": {},
   "outputs": [],
   "source": [
    "SHL_df2 = pd.read_csv(r'../Data/NSSCrisisv.2.csv', skiprows = [0, 1])\n",
    "SHL_df2=SHL_df2.reset_index(drop=True)\n",
    "SHL_df2"
   ]
  },
  {
   "cell_type": "code",
   "execution_count": null,
   "id": "ff0ef300",
   "metadata": {},
   "outputs": [],
   "source": [
    "SHL_df2.rename(columns={'CRISIS Demographics - Race/Ethnicity': 'CRISIS Demographics - Ethnicity'}, inplace=True)"
   ]
  },
  {
   "cell_type": "code",
   "execution_count": null,
   "id": "677bf60b",
   "metadata": {},
   "outputs": [],
   "source": [
    "filter_col = [col for col in SHL_df1 if col.startswith('CRISIS Demographics') or col.startswith('Call')]\n",
    "updated_df1 = SHL_df1[filter_col]"
   ]
  },
  {
   "cell_type": "code",
   "execution_count": null,
   "id": "a293983d",
   "metadata": {},
   "outputs": [],
   "source": [
    "filter_col = [col for col in SHL_df2 if col.startswith('CRISIS Demographics') or col.startswith('Call')]\n",
    "updated_df2 = SHL_df2[filter_col]"
   ]
  },
  {
   "cell_type": "code",
   "execution_count": null,
   "id": "7650f43a",
   "metadata": {},
   "outputs": [],
   "source": [
    "SHL = pd.concat([updated_df1, updated_df2])"
   ]
  },
  {
   "cell_type": "code",
   "execution_count": null,
   "id": "42648b29",
   "metadata": {},
   "outputs": [],
   "source": [
    "ethnicity_df = SHL['CRISIS Demographics - Ethnicity'].notnull()\n",
    "ethnicity_df = SHL[ethnicity_df]\n",
    "ethnicity_df"
   ]
  },
  {
   "cell_type": "code",
   "execution_count": null,
   "id": "8435cf0c",
   "metadata": {},
   "outputs": [],
   "source": [
    "ethnicity_df.groupby(['CRISIS Demographics - Ethnicity'])['CallReportNum'].count().sort_values(ascending=False)"
   ]
  },
  {
   "cell_type": "code",
   "execution_count": null,
   "id": "9fedecd4",
   "metadata": {},
   "outputs": [],
   "source": [
    "ethnicity_df.groupby(['CRISIS Demographics - Ethnicity'])['CallReportNum'].count().sort_values(ascending=False).plot.bar(color='black',legend=None, tick_label='Plain')\n",
    "plt.ylabel('count')\n",
    "plt.xlabel('ethnicity')"
   ]
  },
  {
   "cell_type": "code",
   "execution_count": null,
   "id": "2422264a",
   "metadata": {},
   "outputs": [],
   "source": [
    "ethplt = ethnicity_df.groupby(['CRISIS Demographics - Ethnicity'])['CallReportNum'].count().sort_values(ascending=False).to_frame()"
   ]
  },
  {
   "cell_type": "code",
   "execution_count": null,
   "id": "94f22877",
   "metadata": {},
   "outputs": [],
   "source": [
    "ethplt"
   ]
  },
  {
   "cell_type": "code",
   "execution_count": null,
   "id": "e10b06a4",
   "metadata": {},
   "outputs": [],
   "source": [
    "ethplt = ethnicity_df.groupby(['CRISIS Demographics - Ethnicity'])['CallReportNum'].count().sort_values(ascending=False).to_frame()\n",
    "ethplt.reset_index(inplace=True)\n",
    "ax = sns.barplot(y=ethplt['CRISIS Demographics - Ethnicity'], x=ethplt['CallReportNum'], data=ethplt, palette=\"Greys_r\", edgecolor='none')\n",
    "#ax.ticklabel_format(style='plain', axis=\"y\")\n",
    "plt.xticks(rotation=65, fontsize=8, backgroundcolor='whitesmoke')"
   ]
  },
  {
   "cell_type": "markdown",
   "id": "0404efb1",
   "metadata": {},
   "source": [
    "ax = phoneline.plot(kind='bar', figsize=(7,5), xlabel='Phone Line', ylabel='Call Volume', rot=0, color=['#440154', '#3B528B', '#21918C'])\n",
    "ax.legend(title='Call Year', bbox_to_anchor=(1,1), loc='upper left')\n",
    "plt.xticks(rotation=60)\n",
    "plt.tight_layout()\n",
    "plt.savefig('Annual Call Volume by Phone Line')\n",
    "plt.show();\n",
    "#caitlins code"
   ]
  },
  {
   "cell_type": "code",
   "execution_count": null,
   "id": "27c1fa2a",
   "metadata": {},
   "outputs": [],
   "source": [
    "ethplt.reset_index(inplace=True)\n",
    "ax = sns.barplot(x=ethplt['CRISIS Demographics - Ethnicity'], y=ethplt['CallReportNum'], data=ethplt, palette=\"Greys_r\", edgecolor='none')\n",
    "ax.ticklabel_format(style='plain', axis=\"y\")\n",
    "plt.xticks(rotation=65, fontsize=8, backgroundcolor='whitesmoke')\n",
    "plt.ylabel('count', fontweight='bold', fontsize=11)\n",
    "plt.xlabel('ethnicity',fontweight='bold',fontsize=11, labelpad=12)"
   ]
  },
  {
   "cell_type": "code",
   "execution_count": null,
   "id": "702d62eb",
   "metadata": {},
   "outputs": [],
   "source": [
    "print(sns.get_dataset_names())"
   ]
  },
  {
   "cell_type": "code",
   "execution_count": null,
   "id": "61471fd7",
   "metadata": {},
   "outputs": [],
   "source": [
    "ethplt2 = ethnicity_df.groupby(['CRISIS Demographics - Ethnicity'])['CRISIS Demographics - Gender Identity'].count().sort_values(ascending=False).to_frame()\n",
    "ethplt2.reset_index(inplace=True)\n",
    "sns.set(style=\"whitegrid\")\n",
    "ethplot = sns.load_dataset('ethnicity_df')\n",
    "ethplot = sns.swarmplot(x='Ethnicity', y='Gender Identity', data=ethplot)\n",
    "plt.title('Graph')\n",
    "plt.show()\n",
    "#trying to understand what i am doing wrong here, the error reads ethnicity_df not an example dataset"
   ]
  },
  {
   "cell_type": "code",
   "execution_count": null,
   "id": "76e9fc69",
   "metadata": {},
   "outputs": [],
   "source": []
  },
  {
   "cell_type": "markdown",
   "id": "6d8cb4b0",
   "metadata": {},
   "source": [
    "ax_cis = cisgender_year.plot(kind='line', figsize=(10, 10), cmap=\"viridis\")\n",
    "cis_labels = ['Female', 'Male']\n",
    "ax_cis.legend(title='Cisgender Individuals', loc='center left', labels=cis_labels)\n",
    "plt.title('Cisgender Call Volume by Year')\n",
    "\n",
    "#hide x axis title\n",
    "ax_cis.set(xlabel=None)\n",
    "\n",
    "#abigails code"
   ]
  },
  {
   "cell_type": "code",
   "execution_count": null,
   "id": "7f8dd364",
   "metadata": {},
   "outputs": [],
   "source": []
  }
 ],
 "metadata": {
  "kernelspec": {
   "display_name": "Python 3 (ipykernel)",
   "language": "python",
   "name": "python3"
  },
  "language_info": {
   "codemirror_mode": {
    "name": "ipython",
    "version": 3
   },
   "file_extension": ".py",
   "mimetype": "text/x-python",
   "name": "python",
   "nbconvert_exporter": "python",
   "pygments_lexer": "ipython3",
   "version": "3.9.7"
  }
 },
 "nbformat": 4,
 "nbformat_minor": 5
}
